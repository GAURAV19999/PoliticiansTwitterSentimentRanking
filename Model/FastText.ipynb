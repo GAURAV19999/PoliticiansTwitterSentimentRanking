{
 "cells": [
  {
   "cell_type": "markdown",
   "id": "fluid-executive",
   "metadata": {},
   "source": [
    "# FastText Model for classification of tweet sentiment"
   ]
  },
  {
   "cell_type": "markdown",
   "id": "exact-terminal",
   "metadata": {},
   "source": [
    "---"
   ]
  },
  {
   "cell_type": "markdown",
   "id": "funky-pasta",
   "metadata": {},
   "source": [
    "# 1. Installs and imports"
   ]
  },
  {
   "cell_type": "markdown",
   "id": "involved-parcel",
   "metadata": {},
   "source": [
    "## 1.1. Install all required libraries"
   ]
  },
  {
   "cell_type": "code",
   "execution_count": 1,
   "id": "stuffed-sheriff",
   "metadata": {},
   "outputs": [],
   "source": [
    "# Uncomment line below to install all required libraries\n",
    "# !pip3 install -r ../requirements.txt -q\n",
    "\n",
    "# Uncomment lines below to install and initiate all required libraries\n",
    "\n",
    "# !cd SavedModels && wget https://github.com/facebookresearch/fastText/archive/v0.1.0.zip\n",
    "# !cd SavedModels && unzip v0.1.0.zip\n",
    "# !cd SavedModels && cd fastText-0.1.0 && make\n",
    "# !cd SavedModels && cd fastText-0.1.0 && ./fasttext\n",
    "# !pip3 install fastText"
   ]
  },
  {
   "cell_type": "markdown",
   "id": "oriented-chemistry",
   "metadata": {},
   "source": [
    "## 1.2. Import required libraries"
   ]
  },
  {
   "cell_type": "code",
   "execution_count": 2,
   "id": "induced-piano",
   "metadata": {},
   "outputs": [],
   "source": [
    "import pandas as pd\n",
    "import numpy as np\n",
    "\n",
    "from sklearn.model_selection import train_test_split\n",
    "from sklearn.metrics import accuracy_score\n",
    "\n",
    "from fasttext import load_model"
   ]
  },
  {
   "cell_type": "markdown",
   "id": "broken-smell",
   "metadata": {},
   "source": [
    "---"
   ]
  },
  {
   "cell_type": "markdown",
   "id": "novel-version",
   "metadata": {},
   "source": [
    "# 2. Load cleaned tweets dataset"
   ]
  },
  {
   "cell_type": "code",
   "execution_count": 3,
   "id": "engaging-river",
   "metadata": {},
   "outputs": [],
   "source": [
    "df = pd.read_csv('./data/cleaned_tweets.csv')"
   ]
  },
  {
   "cell_type": "code",
   "execution_count": 4,
   "id": "suburban-instruction",
   "metadata": {},
   "outputs": [
    {
     "data": {
      "text/html": [
       "<div>\n",
       "<style scoped>\n",
       "    .dataframe tbody tr th:only-of-type {\n",
       "        vertical-align: middle;\n",
       "    }\n",
       "\n",
       "    .dataframe tbody tr th {\n",
       "        vertical-align: top;\n",
       "    }\n",
       "\n",
       "    .dataframe thead th {\n",
       "        text-align: right;\n",
       "    }\n",
       "</style>\n",
       "<table border=\"1\" class=\"dataframe\">\n",
       "  <thead>\n",
       "    <tr style=\"text-align: right;\">\n",
       "      <th></th>\n",
       "      <th>sentiment</th>\n",
       "      <th>text</th>\n",
       "      <th>cleaned_tweet</th>\n",
       "      <th>Porter_Stem</th>\n",
       "      <th>Snowball_Stem</th>\n",
       "    </tr>\n",
       "  </thead>\n",
       "  <tbody>\n",
       "    <tr>\n",
       "      <th>0</th>\n",
       "      <td>0</td>\n",
       "      <td>@switchfoot http://twitpic.com/2y1zl - Awww, t...</td>\n",
       "      <td>aww bummer shoulda got david carr third day</td>\n",
       "      <td>aww bummer shoulda got david carr third day</td>\n",
       "      <td>aww bummer shoulda got david carr third day</td>\n",
       "    </tr>\n",
       "    <tr>\n",
       "      <th>1</th>\n",
       "      <td>0</td>\n",
       "      <td>is upset that he can't update his Facebook by ...</td>\n",
       "      <td>upset cannot update facebook texting might cry...</td>\n",
       "      <td>upset can not updat facebook text might cri re...</td>\n",
       "      <td>upset can not updat facebook text might cri re...</td>\n",
       "    </tr>\n",
       "    <tr>\n",
       "      <th>2</th>\n",
       "      <td>0</td>\n",
       "      <td>@Kenichan I dived many times for the ball. Man...</td>\n",
       "      <td>dived many times ball managed save rest go bounds</td>\n",
       "      <td>dive mani time ball manag save rest go bound</td>\n",
       "      <td>dive mani time ball manag save rest go bound</td>\n",
       "    </tr>\n",
       "    <tr>\n",
       "      <th>3</th>\n",
       "      <td>0</td>\n",
       "      <td>my whole body feels itchy and like its on fire</td>\n",
       "      <td>whole body feels itchy like fire</td>\n",
       "      <td>whole bodi feel itchi like fire</td>\n",
       "      <td>whole bodi feel itchi like fire</td>\n",
       "    </tr>\n",
       "    <tr>\n",
       "      <th>4</th>\n",
       "      <td>0</td>\n",
       "      <td>@nationwideclass no, it's not behaving at all....</td>\n",
       "      <td>behaving im mad cannot see</td>\n",
       "      <td>behav im mad can not see</td>\n",
       "      <td>behav im mad can not see</td>\n",
       "    </tr>\n",
       "  </tbody>\n",
       "</table>\n",
       "</div>"
      ],
      "text/plain": [
       "   sentiment                                               text  \\\n",
       "0          0  @switchfoot http://twitpic.com/2y1zl - Awww, t...   \n",
       "1          0  is upset that he can't update his Facebook by ...   \n",
       "2          0  @Kenichan I dived many times for the ball. Man...   \n",
       "3          0    my whole body feels itchy and like its on fire    \n",
       "4          0  @nationwideclass no, it's not behaving at all....   \n",
       "\n",
       "                                       cleaned_tweet  \\\n",
       "0        aww bummer shoulda got david carr third day   \n",
       "1  upset cannot update facebook texting might cry...   \n",
       "2  dived many times ball managed save rest go bounds   \n",
       "3                   whole body feels itchy like fire   \n",
       "4                         behaving im mad cannot see   \n",
       "\n",
       "                                         Porter_Stem  \\\n",
       "0        aww bummer shoulda got david carr third day   \n",
       "1  upset can not updat facebook text might cri re...   \n",
       "2       dive mani time ball manag save rest go bound   \n",
       "3                    whole bodi feel itchi like fire   \n",
       "4                           behav im mad can not see   \n",
       "\n",
       "                                       Snowball_Stem  \n",
       "0        aww bummer shoulda got david carr third day  \n",
       "1  upset can not updat facebook text might cri re...  \n",
       "2       dive mani time ball manag save rest go bound  \n",
       "3                    whole bodi feel itchi like fire  \n",
       "4                           behav im mad can not see  "
      ]
     },
     "execution_count": 4,
     "metadata": {},
     "output_type": "execute_result"
    }
   ],
   "source": [
    "df.head()"
   ]
  },
  {
   "cell_type": "markdown",
   "id": "suspended-technician",
   "metadata": {},
   "source": [
    "---"
   ]
  },
  {
   "cell_type": "markdown",
   "id": "bottom-voltage",
   "metadata": {},
   "source": [
    "# 3. Drop text"
   ]
  },
  {
   "cell_type": "code",
   "execution_count": 5,
   "id": "absent-insider",
   "metadata": {},
   "outputs": [],
   "source": [
    "df = df[['sentiment', 'Snowball_Stem']]"
   ]
  },
  {
   "cell_type": "code",
   "execution_count": 6,
   "id": "reserved-sunglasses",
   "metadata": {},
   "outputs": [
    {
     "data": {
      "text/html": [
       "<div>\n",
       "<style scoped>\n",
       "    .dataframe tbody tr th:only-of-type {\n",
       "        vertical-align: middle;\n",
       "    }\n",
       "\n",
       "    .dataframe tbody tr th {\n",
       "        vertical-align: top;\n",
       "    }\n",
       "\n",
       "    .dataframe thead th {\n",
       "        text-align: right;\n",
       "    }\n",
       "</style>\n",
       "<table border=\"1\" class=\"dataframe\">\n",
       "  <thead>\n",
       "    <tr style=\"text-align: right;\">\n",
       "      <th></th>\n",
       "      <th>sentiment</th>\n",
       "      <th>Snowball_Stem</th>\n",
       "    </tr>\n",
       "  </thead>\n",
       "  <tbody>\n",
       "    <tr>\n",
       "      <th>0</th>\n",
       "      <td>0</td>\n",
       "      <td>aww bummer shoulda got david carr third day</td>\n",
       "    </tr>\n",
       "    <tr>\n",
       "      <th>1</th>\n",
       "      <td>0</td>\n",
       "      <td>upset can not updat facebook text might cri re...</td>\n",
       "    </tr>\n",
       "    <tr>\n",
       "      <th>2</th>\n",
       "      <td>0</td>\n",
       "      <td>dive mani time ball manag save rest go bound</td>\n",
       "    </tr>\n",
       "    <tr>\n",
       "      <th>3</th>\n",
       "      <td>0</td>\n",
       "      <td>whole bodi feel itchi like fire</td>\n",
       "    </tr>\n",
       "    <tr>\n",
       "      <th>4</th>\n",
       "      <td>0</td>\n",
       "      <td>behav im mad can not see</td>\n",
       "    </tr>\n",
       "  </tbody>\n",
       "</table>\n",
       "</div>"
      ],
      "text/plain": [
       "   sentiment                                      Snowball_Stem\n",
       "0          0        aww bummer shoulda got david carr third day\n",
       "1          0  upset can not updat facebook text might cri re...\n",
       "2          0       dive mani time ball manag save rest go bound\n",
       "3          0                    whole bodi feel itchi like fire\n",
       "4          0                           behav im mad can not see"
      ]
     },
     "execution_count": 6,
     "metadata": {},
     "output_type": "execute_result"
    }
   ],
   "source": [
    "df.head()"
   ]
  },
  {
   "cell_type": "markdown",
   "id": "adapted-plate",
   "metadata": {},
   "source": [
    "---"
   ]
  },
  {
   "cell_type": "markdown",
   "id": "reserved-harassment",
   "metadata": {},
   "source": [
    "# 4. Drop rows with NaN"
   ]
  },
  {
   "cell_type": "code",
   "execution_count": 7,
   "id": "concrete-vietnam",
   "metadata": {},
   "outputs": [
    {
     "data": {
      "text/plain": [
       "sentiment           0\n",
       "Snowball_Stem    8046\n",
       "dtype: int64"
      ]
     },
     "execution_count": 7,
     "metadata": {},
     "output_type": "execute_result"
    }
   ],
   "source": [
    "df.isna().sum()"
   ]
  },
  {
   "cell_type": "code",
   "execution_count": 8,
   "id": "agreed-boulder",
   "metadata": {},
   "outputs": [],
   "source": [
    "df = df.dropna()"
   ]
  },
  {
   "cell_type": "code",
   "execution_count": 9,
   "id": "after-navigator",
   "metadata": {},
   "outputs": [
    {
     "data": {
      "text/plain": [
       "sentiment        0\n",
       "Snowball_Stem    0\n",
       "dtype: int64"
      ]
     },
     "execution_count": 9,
     "metadata": {},
     "output_type": "execute_result"
    }
   ],
   "source": [
    "df.isna().sum()"
   ]
  },
  {
   "cell_type": "markdown",
   "id": "gorgeous-beach",
   "metadata": {},
   "source": [
    "---"
   ]
  },
  {
   "cell_type": "markdown",
   "id": "exotic-carol",
   "metadata": {},
   "source": [
    "# 5. Split dataset into training and test data"
   ]
  },
  {
   "cell_type": "code",
   "execution_count": 10,
   "id": "assumed-minority",
   "metadata": {},
   "outputs": [],
   "source": [
    "X = df['Snowball_Stem']"
   ]
  },
  {
   "cell_type": "code",
   "execution_count": 11,
   "id": "reduced-lobby",
   "metadata": {},
   "outputs": [],
   "source": [
    "y = df['sentiment']"
   ]
  },
  {
   "cell_type": "code",
   "execution_count": 12,
   "id": "breeding-empty",
   "metadata": {},
   "outputs": [],
   "source": [
    "X_train, X_test, y_train, y_test = train_test_split(X, y, train_size=0.8)"
   ]
  },
  {
   "cell_type": "markdown",
   "id": "above-beast",
   "metadata": {},
   "source": [
    "- 80% training data\n",
    "- 20% test data"
   ]
  },
  {
   "cell_type": "code",
   "execution_count": 13,
   "id": "marine-diameter",
   "metadata": {},
   "outputs": [
    {
     "data": {
      "text/plain": [
       "(1273563,)"
      ]
     },
     "execution_count": 13,
     "metadata": {},
     "output_type": "execute_result"
    }
   ],
   "source": [
    "X_train.shape"
   ]
  },
  {
   "cell_type": "code",
   "execution_count": 14,
   "id": "charming-fetish",
   "metadata": {},
   "outputs": [
    {
     "data": {
      "text/plain": [
       "(1273563,)"
      ]
     },
     "execution_count": 14,
     "metadata": {},
     "output_type": "execute_result"
    }
   ],
   "source": [
    "y_train.shape"
   ]
  },
  {
   "cell_type": "code",
   "execution_count": 15,
   "id": "tribal-tunisia",
   "metadata": {},
   "outputs": [
    {
     "data": {
      "text/plain": [
       "(318391,)"
      ]
     },
     "execution_count": 15,
     "metadata": {},
     "output_type": "execute_result"
    }
   ],
   "source": [
    "X_test.shape"
   ]
  },
  {
   "cell_type": "code",
   "execution_count": 16,
   "id": "structural-reviewer",
   "metadata": {},
   "outputs": [
    {
     "data": {
      "text/plain": [
       "(318391,)"
      ]
     },
     "execution_count": 16,
     "metadata": {},
     "output_type": "execute_result"
    }
   ],
   "source": [
    "y_test.shape"
   ]
  },
  {
   "cell_type": "markdown",
   "id": "tutorial-deployment",
   "metadata": {},
   "source": [
    "---"
   ]
  },
  {
   "cell_type": "markdown",
   "id": "smooth-audio",
   "metadata": {},
   "source": [
    "# 6. Write to text file"
   ]
  },
  {
   "cell_type": "code",
   "execution_count": 17,
   "id": "different-headquarters",
   "metadata": {},
   "outputs": [],
   "source": [
    "train = open('./data/fasttext_data_tweets.train', 'w')\n",
    "test = open('./data/fasttext_data_tweets.test', 'w')"
   ]
  },
  {
   "cell_type": "code",
   "execution_count": 18,
   "id": "median-grove",
   "metadata": {},
   "outputs": [],
   "source": [
    "for i in range(1600000):\n",
    "    try:\n",
    "        # print(f'__label__{y_test[i]} {X_test[i]}', file=test)\n",
    "        print(f'__label__{y_train[i]} {X_train[i]}', file=train)\n",
    "    except:\n",
    "        pass\n",
    "\n",
    "for i in range(1600000):\n",
    "    try:\n",
    "        print(f'__label__{y_test[i]} {X_test[i]}', file=test)\n",
    "        # print(f'__label__{y_train[i]} {X_train[i]}', file=train)\n",
    "    except:\n",
    "        pass\n"
   ]
  },
  {
   "cell_type": "code",
   "execution_count": 19,
   "id": "virgin-patch",
   "metadata": {},
   "outputs": [],
   "source": [
    "train.close()\n",
    "test.close()"
   ]
  },
  {
   "cell_type": "markdown",
   "id": "convertible-position",
   "metadata": {},
   "source": [
    "---"
   ]
  },
  {
   "cell_type": "markdown",
   "id": "systematic-freeze",
   "metadata": {},
   "source": [
    "# 7. Train Classifier"
   ]
  },
  {
   "cell_type": "code",
   "execution_count": 20,
   "id": "ceramic-richardson",
   "metadata": {},
   "outputs": [
    {
     "name": "stdout",
     "output_type": "stream",
     "text": [
      "Read 11M words\n",
      "Number of words:  187004\n",
      "Number of labels: 2\n"
     ]
    },
    {
     "name": "stdout",
     "output_type": "stream",
     "text": [
      "Progress: 78.2%  words/sec/thread: 1848277  lr: 0.021819  loss: 0.445058  eta: 0h0m 0m 0.3%  words/sec/thread: 1821872  lr: 0.099672  loss: 0.361759  eta: 0h0m 0.099474  loss: 0.386868  eta: 0h0m 1820357  lr: 0.098907  loss: 0.511651  eta: 0h0m   loss: 0.538886  eta: 0h0m   words/sec/thread: 1836124  lr: 0.098534  loss: 0.536472  eta: 0h0m 0.527659  eta: 0h0m 0.097381  loss: 0.527292  eta: 0h0m m   eta: 0h0m   lr: 0.096433  loss: 0.514226  eta: 0h0m 4.4%  words/sec/thread: 1842611  lr: 0.095628  loss: 0.525342  eta: 0h0m 4.8%  words/sec/thread: 1842018  lr: 0.095203  loss: 0.526181  eta: 0h0m 5.4%  words/sec/thread: 1841465  lr: 0.094627  loss: 0.545132  eta: 0h0m 5.6%  words/sec/thread: 1841111  lr: 0.094426  loss: 0.551009  eta: 0h0m 0.551656  eta: 0h0m 0.540203  eta: 0h0m 0.092956  loss: 0.543214  eta: 0h0m   words/sec/thread: 1843581  lr: 0.092754  loss: 0.542587  eta: 0h0m   words/sec/thread: 1844688  lr: 0.092538  loss: 0.541594  eta: 0h0m 0.537758  eta: 0h0m 0.091941  loss: 0.536103  eta: 0h0m 0.091152  loss: 0.531948  eta: 0h0m   lr: 0.090236  loss: 0.526818  eta: 0h0m 1850063  lr: 0.089800  loss: 0.522755  eta: 0h0m   words/sec/thread: 1848611  lr: 0.089080  loss: 0.529051  eta: 0h0m : 11.3%  words/sec/thread: 1848737  lr: 0.088676  loss: 0.526867  eta: 0h0m 0.526943  eta: 0h0m   eta: 0h0m 12.7%  words/sec/thread: 1850392  lr: 0.087307  loss: 0.529939  eta: 0h0m 0.086542  loss: 0.523870  eta: 0h0m   eta: 0h0m 1850650  lr: 0.086215  loss: 0.520813  eta: 0h0m 1848854  lr: 0.085275  loss: 0.518396  eta: 0h0m 17.3%  words/sec/thread: 1846909  lr: 0.082746  loss: 0.504927  eta: 0h0m 1845712  lr: 0.081425  loss: 0.496119  eta: 0h0m 1846372  lr: 0.081181  loss: 0.494721  eta: 0h0m   words/sec/thread: 1844749  lr: 0.080265  loss: 0.490237  eta: 0h0m 1843784  lr: 0.079709  loss: 0.485152  eta: 0h0m 0.079154  loss: 0.480555  eta: 0h0m 0m 0.076472  loss: 0.467481  eta: 0h0m   lr: 0.076277  loss: 0.466297  eta: 0h0m 25.1%  words/sec/thread: 1845418  lr: 0.074928  loss: 0.468863  eta: 0h0m 0.074729  loss: 0.469032  eta: 0h0m 0h0m   loss: 0.469868  eta: 0h0m 25.8%  words/sec/thread: 1845866  lr: 0.074153  loss: 0.470650  eta: 0h0m 1845408  lr: 0.073774  loss: 0.470980  eta: 0h0m 0.469926  eta: 0h0m h0m 0.471101  eta: 0h0m %  words/sec/thread: 1845862  lr: 0.071335  loss: 0.471397  eta: 0h0m 29.2%  words/sec/thread: 1845677  lr: 0.070787  loss: 0.470891  eta: 0h0m 30.4%  words/sec/thread: 1846041  lr: 0.069639  loss: 0.464589  eta: 0h0m   words/sec/thread: 1846681  lr: 0.069236  loss: 0.461912  eta: 0h0m   loss: 0.460824  eta: 0h0m 0.068064  loss: 0.456983  eta: 0h0m   words/sec/thread: 1846837  lr: 0.067875  loss: 0.456151  eta: 0h0m   words/sec/thread: 1847214  lr: 0.067736  loss: 0.455092  eta: 0h0m 0.454022  eta: 0h0m 0.452942  eta: 0h0m %  words/sec/thread: 1847585  lr: 0.066673  loss: 0.449974  eta: 0h0m   lr: 0.066468  loss: 0.449733  eta: 0h0m 33.7%  words/sec/thread: 1848252  lr: 0.066261  loss: 0.449344  eta: 0h0m   loss: 0.449445  eta: 0h0m 0m 0.065265  loss: 0.450892  eta: 0h0m   lr: 0.064048  loss: 0.453129  eta: 0h0m 36.2%  words/sec/thread: 1847158  lr: 0.063832  loss: 0.453333  eta: 0h0m   lr: 0.063617  loss: 0.453671  eta: 0h0m 36.6%  words/sec/thread: 1848229  lr: 0.063407  loss: 0.453908  eta: 0h0m %  words/sec/thread: 1848182  lr: 0.063209  loss: 0.454081  eta: 0h0m 0.062799  loss: 0.454368  eta: 0h0m %  words/sec/thread: 1848531  lr: 0.062192  loss: 0.454848  eta: 0h0m %  words/sec/thread: 1848868  lr: 0.062000  loss: 0.455095  eta: 0h0m 1849189  lr: 0.060795  loss: 0.455788  eta: 0h0m 1849425  lr: 0.060213  loss: 0.455959  eta: 0h0m h0m   words/sec/thread: 1849541  lr: 0.059261  loss: 0.455884  eta: 0h0m %  words/sec/thread: 1849904  lr: 0.059070  loss: 0.455645  eta: 0h0m 41.1%  words/sec/thread: 1849684  lr: 0.058870  loss: 0.455529  eta: 0h0m   loss: 0.453649  eta: 0h0m   eta: 0h0m   words/sec/thread: 1849796  lr: 0.057495  loss: 0.452722  eta: 0h0m 42.7%  words/sec/thread: 1849774  lr: 0.057290  loss: 0.452660  eta: 0h0m %  words/sec/thread: 1849922  lr: 0.057096  loss: 0.452249  eta: 0h0m 0.452064  eta: 0h0m 43.3%  words/sec/thread: 1849864  lr: 0.056706  loss: 0.451676  eta: 0h0m 1849823  lr: 0.056512  loss: 0.451385  eta: 0h0m 0.451370  eta: 0h0m h0m   lr: 0.055732  loss: 0.450606  eta: 0h0m   loss: 0.450432  eta: 0h0m   words/sec/thread: 1849596  lr: 0.055167  loss: 0.449049  eta: 0h0m   words/sec/thread: 1849241  lr: 0.054523  loss: 0.445370  eta: 0h0m 0m 1848552  lr: 0.053943  loss: 0.441446  eta: 0h0m 1848400  lr: 0.053555  loss: 0.438723  eta: 0h0m   eta: 0h0m   lr: 0.052949  loss: 0.435585  eta: 0h0m 47.2%  words/sec/thread: 1848321  lr: 0.052750  loss: 0.434672  eta: 0h0m 0h0m   lr: 0.052345  loss: 0.432154  eta: 0h0m   words/sec/thread: 1847954  lr: 0.051982  loss: 0.430720  eta: 0h0m   eta: 0h0m   eta: 0h0m   words/sec/thread: 1847333  lr: 0.050772  loss: 0.425541  eta: 0h0m 0.050237  loss: 0.421741  eta: 0h0m 0h0m   words/sec/thread: 1846335  lr: 0.048923  loss: 0.419123  eta: 0h0m 0.048153  loss: 0.419834  eta: 0h0m 0.420358  eta: 0h0m 0h0m %  words/sec/thread: 1846202  lr: 0.047414  loss: 0.420487  eta: 0h0m   words/sec/thread: 1846603  lr: 0.046654  loss: 0.420357  eta: 0h0m 1846408  lr: 0.046111  loss: 0.420458  eta: 0h0m 0h0m 13  loss: 0.421042  eta: 0h0m .043923  loss: 0.420841  eta: 0h0m %  words/sec/thread: 1846473  lr: 0.043476  loss: 0.420035  eta: 0h0m  57.0%  words/sec/thread: 1846744  lr: 0.043041  loss: 0.419961  eta: 0h0m m h0m .042256  loss: 0.421747  eta: 0h0m h0m m 007  eta: 0h0m %  words/sec/thread: 1846748  lr: 0.041198  loss: 0.422247  eta: 0h0m oss: 0.422331  eta: 0h0m %  words/sec/thread: 1846887  lr: 0.040424  loss: 0.425525  eta: 0h0m 59.8%  words/sec/thread: 1846942  lr: 0.040208  loss: 0.425968  eta: 0h0m m 0h0m   lr: 0.038913  loss: 0.428608  eta: 0h0m  0.038789  loss: 0.428850  eta: 0h0m 61.6%  words/sec/thread: 1846991  lr: 0.038384  loss: 0.430815  eta: 0h0m 0h0m 0h0m  62.3%  words/sec/thread: 1846831  lr: 0.037674  loss: 0.432992  eta: 0h0m : 63.1%  words/sec/thread: 1846851  lr: 0.036911  loss: 0.436122  eta: 0h0m m 1846741  lr: 0.035362  loss: 0.438701  eta: 0h0m 1846718  lr: 0.035175  loss: 0.439385  eta: 0h0m 65.0%  words/sec/thread: 1846877  lr: 0.034985  loss: 0.440117  eta: 0h0m 0m 1846642  lr: 0.034451  loss: 0.441368  eta: 0h0m 1846720  lr: 0.034264  loss: 0.441544  eta: 0h0m 1846771  lr: 0.033890  loss: 0.442117  eta: 0h0m   lr: 0.033699  loss: 0.442634  eta: 0h0m 1846903  lr: 0.033511  loss: 0.442949  eta: 0h0m 0m 0m   eta: 0h0m   loss: 0.445523  eta: 0h0m s: 0.445525  eta: 0h0m 1847575  lr: 0.032068  loss: 0.446147  eta: 0h0m   lr: 0.031860  loss: 0.446465  eta: 0h0m ress: 68.8%  words/sec/thread: 1847584  lr: 0.031232  loss: 0.447095  eta: 0h0m 69.2%  words/sec/thread: 1847588  lr: 0.030815  loss: 0.447667  eta: 0h0m lr: 0.030733  loss: 0.447704  eta: 0h0m   eta: 0h0m : 0h0m ress: 70.1%  words/sec/thread: 1847643  lr: 0.029926  loss: 0.450186  eta: 0h0m ress: 70.4%  words/sec/thread: 1847296  lr: 0.029590  loss: 0.450662  eta: 0h0m ress: 70.8%  words/sec/thread: 1846930  lr: 0.029174  loss: 0.450417  eta: 0h0m ress: 71.1%  words/sec/thread: 1846672  lr: 0.028860  loss: 0.450218  eta: 0h0m .028457  loss: 0.450127  eta: 0h0m .028060  loss: 0.450389  eta: 0h0m 72.2%  words/sec/thread: 1846013  lr: 0.027805  loss: 0.450536  eta: 0h0m ss: 0.450382  eta: 0h0m ress: 72.7%  words/sec/thread: 1846460  lr: 0.027329  loss: 0.449808  eta: 0h0m ress: 73.1%  words/sec/thread: 1846558  lr: 0.026944  loss: 0.449337  eta: 0h0m 73.5%  words/sec/thread: 1846801  lr: 0.026541  loss: 0.449259  eta: 0h0m ds/sec/thread: 1846913  lr: 0.026419  loss: 0.449055  eta: 0h0m 0.448717  eta: 0h0m 646  eta: 0h0m   loss: 0.448241  eta: 0h0m   loss: 0.448090  eta: 0h0m 0h0m 0m m 0m 1847259  lr: 0.024260  loss: 0.447196  eta: 0h0m 0.023721  loss: 0.447036  eta: 0h0m 0m h0m .023122  loss: 0.446247  eta: 0h0m 77.2%  words/sec/thread: 1847599  lr: 0.022795  loss: 0.446143  eta: 0h0m   words/sec/thread: 1847588  lr: 0.022740  loss: 0.446014  eta: 0h0m 77.7%  words/sec/thread: 1847860  lr: 0.022307  loss: 0.445532  eta: 0h0m   words/sec/thread: 1848026  lr: 0.022270  loss: 0.445474  eta: 0h0m \r",
      "Progress: 78.2%  words/sec/thread: 1848288  lr: 0.021818  loss: 0.445056  eta: 0h0m \r",
      "Progress: 78.2%  words/sec/thread: 1848299  lr: 0.021818  loss: 0.445053  eta: 0h0m \r",
      "Progress: 78.2%  words/sec/thread: 1848271  lr: 0.021817  loss: 0.445051  eta: 0h0m \r",
      "Progress: 78.2%  words/sec/thread: 1848280  lr: 0.021817  loss: 0.445050  eta: 0h0m \r",
      "Progress: 78.2%  words/sec/thread: 1848290  lr: 0.021816  loss: 0.445049  eta: 0h0m \r",
      "Progress: 78.2%  words/sec/thread: 1848302  lr: 0.021816  loss: 0.445047  eta: 0h0m \r",
      "Progress: 78.2%  words/sec/thread: 1848311  lr: 0.021815  loss: 0.445044  eta: 0h0m \r",
      "Progress: 78.2%  words/sec/thread: 1848322  lr: 0.021815  loss: 0.445042  eta: 0h0m \r",
      "Progress: 78.2%  words/sec/thread: 1848330  lr: 0.021814  loss: 0.445039  eta: 0h0m \r",
      "Progress: 78.2%  words/sec/thread: 1848342  lr: 0.021814  loss: 0.445037  eta: 0h0m \r",
      "Progress: 78.2%  words/sec/thread: 1848353  lr: 0.021813  loss: 0.445035  eta: 0h0m \r",
      "Progress: 78.2%  words/sec/thread: 1848096  lr: 0.021813  loss: 0.445034  eta: 0h0m \r",
      "Progress: 78.2%  words/sec/thread: 1848107  lr: 0.021813  loss: 0.445032  eta: 0h0m \r",
      "Progress: 78.2%  words/sec/thread: 1848112  lr: 0.021812  loss: 0.445030  eta: 0h0m \r",
      "Progress: 78.2%  words/sec/thread: 1848122  lr: 0.021811  loss: 0.445028  eta: 0h0m \r",
      "Progress: 78.2%  words/sec/thread: 1848132  lr: 0.021811  loss: 0.445034  eta: 0h0m \r",
      "Progress: 78.2%  words/sec/thread: 1848142  lr: 0.021811  loss: 0.445034  eta: 0h0m \r",
      "Progress: 78.2%  words/sec/thread: 1848154  lr: 0.021810  loss: 0.445034  eta: 0h0m \r",
      "Progress: 78.2%  words/sec/thread: 1848162  lr: 0.021810  loss: 0.445036  eta: 0h0m \r",
      "Progress: 78.2%  words/sec/thread: 1848174  lr: 0.021809  loss: 0.445035  eta: 0h0m \r",
      "Progress: 78.2%  words/sec/thread: 1848184  lr: 0.021809  loss: 0.445035  eta: 0h0m \r",
      "Progress: 78.2%  words/sec/thread: 1848194  lr: 0.021808  loss: 0.445034  eta: 0h0m \r",
      "Progress: 78.2%  words/sec/thread: 1848206  lr: 0.021807  loss: 0.445035  eta: 0h0m \r",
      "Progress: 78.2%  words/sec/thread: 1848216  lr: 0.021807  loss: 0.445034  eta: 0h0m \r",
      "Progress: 78.2%  words/sec/thread: 1848226  lr: 0.021807  loss: 0.445034  eta: 0h0m \r",
      "Progress: 78.2%  words/sec/thread: 1848237  lr: 0.021806  loss: 0.445033  eta: 0h0m \r",
      "Progress: 78.2%  words/sec/thread: 1848245  lr: 0.021806  loss: 0.445031  eta: 0h0m \r",
      "Progress: 78.2%  words/sec/thread: 1848257  lr: 0.021805  loss: 0.445033  eta: 0h0m \r",
      "Progress: 78.2%  words/sec/thread: 1848267  lr: 0.021805  loss: 0.445035  eta: 0h0m \r",
      "Progress: 78.2%  words/sec/thread: 1848276  lr: 0.021804  loss: 0.445038  eta: 0h0m \r",
      "Progress: 78.2%  words/sec/thread: 1848286  lr: 0.021804  loss: 0.445040  eta: 0h0m \r",
      "Progress: 78.2%  words/sec/thread: 1848296  lr: 0.021803  loss: 0.445042  eta: 0h0m \r",
      "Progress: 78.2%  words/sec/thread: 1848305  lr: 0.021803  loss: 0.445044  eta: 0h0m \r",
      "Progress: 78.2%  words/sec/thread: 1848316  lr: 0.021802  loss: 0.445045  eta: 0h0m \r",
      "Progress: 78.2%  words/sec/thread: 1848326  lr: 0.021802  loss: 0.445044  eta: 0h0m \r",
      "Progress: 78.2%  words/sec/thread: 1848335  lr: 0.021801  loss: 0.445044  eta: 0h0m \r",
      "Progress: 78.2%  words/sec/thread: 1848347  lr: 0.021801  loss: 0.445048  eta: 0h0m \r",
      "Progress: 78.2%  words/sec/thread: 1848311  lr: 0.021800  loss: 0.445048  eta: 0h0m \r",
      "Progress: 78.2%  words/sec/thread: 1848272  lr: 0.021800  loss: 0.445049  eta: 0h0m \r",
      "Progress: 78.2%  words/sec/thread: 1848284  lr: 0.021799  loss: 0.445048  eta: 0h0m \r",
      "Progress: 78.2%  words/sec/thread: 1848293  lr: 0.021799  loss: 0.445046  eta: 0h0m \r",
      "Progress: 78.2%  words/sec/thread: 1848097  lr: 0.021799  loss: 0.445045  eta: 0h0m \r",
      "Progress: 78.2%  words/sec/thread: 1848105  lr: 0.021798  loss: 0.445059  eta: 0h0m \r",
      "Progress: 78.2%  words/sec/thread: 1848114  lr: 0.021798  loss: 0.445063  eta: 0h0m \r",
      "Progress: 78.2%  words/sec/thread: 1848122  lr: 0.021797  loss: 0.445062  eta: 0h0m \r",
      "Progress: 78.2%  words/sec/thread: 1848129  lr: 0.021797  loss: 0.445063  eta: 0h0m \r",
      "Progress: 78.2%  words/sec/thread: 1848138  lr: 0.021796  loss: 0.445062  eta: 0h0m \r",
      "Prog"
     ]
    },
    {
     "name": "stdout",
     "output_type": "stream",
     "text": [
      "ress: 78.2%  words/sec/thread: 1848147  lr: 0.021796  loss: 0.445060  eta: 0h0m \r",
      "Progress: 78.2%  words/sec/thread: 1848154  lr: 0.021796  loss: 0.445060  eta: 0h0m \r",
      "Progress: 78.2%  words/sec/thread: 1848162  lr: 0.021795  loss: 0.445065  eta: 0h0m \r",
      "Progress: 78.2%  words/sec/thread: 1848171  lr: 0.021795  loss: 0.445064  eta: 0h0m \r",
      "Progress: 78.2%  words/sec/thread: 1848178  lr: 0.021794  loss: 0.445063  eta: 0h0m \r",
      "Progress: 78.2%  words/sec/thread: 1848187  lr: 0.021794  loss: 0.445064  eta: 0h0m \r",
      "Progress: 78.2%  words/sec/thread: 1848174  lr: 0.021794  loss: 0.445068  eta: 0h0m \r",
      "Progress: 78.2%  words/sec/thread: 1848183  lr: 0.021793  loss: 0.445069  eta: 0h0m \r",
      "Progress: 78.2%  words/sec/thread: 1848191  lr: 0.021793  loss: 0.445071  eta: 0h0m \r",
      "Progress: 78.2%  words/sec/thread: 1848198  lr: 0.021793  loss: 0.445068  eta: 0h0m \r",
      "Progress: 78.2%  words/sec/thread: 1848207  lr: 0.021792  loss: 0.445068  eta: 0h0m \r",
      "Progress: 78.2%  words/sec/thread: 1848214  lr: 0.021792  loss: 0.445070  eta: 0h0m \r",
      "Progress: 78.2%  words/sec/thread: 1848222  lr: 0.021791  loss: 0.445070  eta: 0h0m \r",
      "Progress: 78.2%  words/sec/thread: 1848230  lr: 0.021791  loss: 0.445069  eta: 0h0m \r",
      "Progress: 78.2%  words/sec/thread: 1848238  lr: 0.021791  loss: 0.445069  eta: 0h0m \r",
      "Progress: 78.2%  words/sec/thread: 1848246  lr: 0.021790  loss: 0.445072  eta: 0h0m \r",
      "Progress: 78.2%  words/sec/thread: 1848254  lr: 0.021790  loss: 0.445071  eta: 0h0m \r",
      "Progress: 78.2%  words/sec/thread: 1848262  lr: 0.021789  loss: 0.445070  eta: 0h0m \r",
      "Progress: 78.2%  words/sec/thread: 1848272  lr: 0.021789  loss: 0.445072  eta: 0h0m \r",
      "Progress: 78.2%  words/sec/thread: 1848279  lr: 0.021789  loss: 0.445074  eta: 0h0m \r",
      "Progress: 78.2%  words/sec/thread: 1848286  lr: 0.021788  loss: 0.445077  eta: 0h0m \r",
      "Progress: 78.2%  words/sec/thread: 1848295  lr: 0.021788  loss: 0.445076  eta: 0h0m \r",
      "Progress: 78.2%  words/sec/thread: 1848302  lr: 0.021787  loss: 0.445075  eta: 0h0m \r",
      "Progress: 78.2%  words/sec/thread: 1848310  lr: 0.021787  loss: 0.445076  eta: 0h0m \r",
      "Progress: 78.2%  words/sec/thread: 1848320  lr: 0.021787  loss: 0.445077  eta: 0h0m \r",
      "Progress: 78.2%  words/sec/thread: 1848091  lr: 0.021786  loss: 0.445078  eta: 0h0m \r",
      "Progress: 78.2%  words/sec/thread: 1848098  lr: 0.021786  loss: 0.445078  eta: 0h0m \r",
      "Progress: 78.2%  words/sec/thread: 1848106  lr: 0.021785  loss: 0.445076  eta: 0h0m \r",
      "Progress: 78.2%  words/sec/thread: 1848113  lr: 0.021785  loss: 0.445075  eta: 0h0m \r",
      "Progress: 78.2%  words/sec/thread: 1848120  lr: 0.021785  loss: 0.445073  eta: 0h0m \r",
      "Progress: 78.2%  words/sec/thread: 1848130  lr: 0.021784  loss: 0.445075  eta: 0h0m \r",
      "Progress: 78.2%  words/sec/thread: 1848137  lr: 0.021784  loss: 0.445073  eta: 0h0m \r",
      "Progress: 78.2%  words/sec/thread: 1848145  lr: 0.021784  loss: 0.445072  eta: 0h0m \r",
      "Progress: 78.2%  words/sec/thread: 1848153  lr: 0.021783  loss: 0.445070  eta: 0h0m \r",
      "Progress: 78.2%  words/sec/thread: 1848160  lr: 0.021783  loss: 0.445068  eta: 0h0m \r",
      "Progress: 78.2%  words/sec/thread: 1848168  lr: 0.021782  loss: 0.445065  eta: 0h0m \r",
      "Progress: 78.2%  words/sec/thread: 1848176  lr: 0.021782  loss: 0.445064  eta: 0h0m \r",
      "Progress: 78.2%  words/sec/thread: 1848185  lr: 0.021782  loss: 0.445063  eta: 0h0m \r",
      "Progress: 78.2%  words/sec/thread: 1848193  lr: 0.021781  loss: 0.445060  eta: 0h0m \r",
      "Progress: 78.2%  words/sec/thread: 1848200  lr: 0.021781  loss: 0.445057  eta: 0h0m \r",
      "Progress: 78.2%  words/sec/thread: 1848208  lr: 0.021780  loss: 0.445055  eta: 0h0m \r",
      "Progress: 78.2%  words/sec/thread: 1848215  lr: 0.021780  loss: 0.445056  eta: 0h0m \r",
      "Progress: 78.2%  words/sec/thread: 1848224  lr: 0.021780  loss: 0.445052  eta: 0h0m \r",
      "Progress: 78.2%  words/sec/thread: 1848230  lr: 0.021779  loss: 0.445051  eta: 0h0m \r",
      "Progress: 78.2%  words/sec/thread: 1848238  lr: 0.021779  loss: 0.445048  eta: 0h0m \r",
      "Progress: 78.2%  words/sec/thread: 1848245  lr: 0.021779  loss: 0.445047  eta: 0h0m \r",
      "Progress: 78.2%  words/sec/thread: 1848253  lr: 0.021778  loss: 0.445047  eta: 0h0m \r",
      "Progress: 78.2%  words/sec/thread: 1848262  lr: 0.021778  loss: 0.445050  eta: 0h0m \r",
      "Progress: 78.2%  words/sec/thread: 1848268  lr: 0.021777  loss: 0.445051  eta: 0h0m \r",
      "Progress: 78.2%  words/sec/thread: 1848278  lr: 0.021777  loss: 0.445051  eta: 0h0m \r",
      "Progress: 78.2%  words/sec/thread: 1848286  lr: 0.021777  loss: 0.445049  eta: 0h0m \r",
      "Progress: 78.2%  words/sec/thread: 1848293  lr: 0.021776  loss: 0.445047  eta: 0h0m \r",
      "Progress: 78.2%  words/sec/thread: 1848301  lr: 0.021776  loss: 0.445046  eta: 0h0m \r",
      "Progress: 78.2%  words/sec/thread: 1848309  lr: 0.021775  loss: 0.445045  eta: 0h0m \r",
      "Progress: 78.2%  words/sec/thread: 1848317  lr: 0.021775  loss: 0.445042  eta: 0h0m \r",
      "Progress: 78.2%  words/sec/thread: 1848324  lr: 0.021775  loss: 0.445042  eta: 0h0m \r",
      "Progress: 78.2%  words/sec/thread: 1848332  lr: 0.021774  loss: 0.445041  eta: 0h0m \r",
      "Progress: 78.2%  words/sec/thread: 1848090  lr: 0.021774  loss: 0.445038  eta: 0h0m \r",
      "Progress: 78.2%  words/sec/thread: 1848097  lr: 0.021773  loss: 0.445036  eta: 0h0m \r",
      "Progress: 78.2%  words/sec/thread: 1848105  lr: 0.021773  loss: 0.445033  eta: 0h0m \r",
      "Progress: 78.2%  words/sec/thread: 1848112  lr: 0.021773  loss: 0.445030  eta: 0h0m \r",
      "Progress: 78.2%  words/sec/thread: 1848120  lr: 0.021772  loss: 0.445028  eta: 0h0m \r",
      "Progress: 78.2%  words/sec/thread: 1848129  lr: 0.021772  loss: 0.445024  eta: 0h0m \r",
      "Progress: 78.2%  words/sec/thread: 1848141  lr: 0.021771  loss: 0.445024  eta: 0h0m \r",
      "Progress: 78.2%  words/sec/thread: 1848152  lr: 0.021771  loss: 0.445023  eta: 0h0m \r",
      "Progress: 78.2%  words/sec/thread: 1848162  lr: 0.021770  loss: 0.445021  eta: 0h0m \r",
      "Progress: 78.2%  words/sec/thread: 1848156  lr: 0.021770  loss: 0.445021  eta: 0h0m \r",
      "Progress: 78.2%  words/sec/thread: 1848165  lr: 0.021769  loss: 0.445021  eta: 0h0m \r",
      "Progress: 78.2%  words/sec/thread: 1848165  lr: 0.021769  loss: 0.445019  eta: 0h0m \r",
      "Progress: 78.2%  words/sec/thread: 1848173  lr: 0.021769  loss: 0.445019  eta: 0h0m \r",
      "Progress: 78.2%  words/sec/thread: 1848184  lr: 0.021768  loss: 0.445018  eta: 0h0m \r",
      "Progress: 78.2%  words/sec/thread: 1848192  lr: 0.021768  loss: 0.445014  eta: 0h0m \r",
      "Progress: 78.2%  words/sec/thread: 1848200  lr: 0.021767  loss: 0.445011  eta: 0h0m \r",
      "Progress: 78.2%  words/sec/thread: 1848208  lr: 0.021767  loss: 0.445009  eta: 0h0m \r",
      "Progress: 78.2%  words/sec/thread: 1848215  lr: 0.021767  loss: 0.445006  eta: 0h0m \r",
      "Progress: 78.2%  words/sec/thread: 1848224  lr: 0.021766  loss: 0.445004  eta: 0h0m \r",
      "Progress: 78.2%  words/sec/thread: 1848232  lr: 0.021766  loss: 0.445002  eta: 0h0m \r",
      "Progress: 78.2%  words/sec/thread: 1848239  lr: 0.021765  loss: 0.445002  eta: 0h0m \r",
      "Progress: 78.2%  words/sec/thread: 1848248  lr: 0.021765  loss: 0.445000  eta: 0h0m \r",
      "Progress: 78.2%  words/sec/thread: 1848256  lr: 0.021765  loss: 0.444997  eta: 0h0m \r",
      "Progress: 78.2%  words/sec/thread: 1848263  lr: 0.021764  loss: 0.444997  eta: 0h0m \r",
      "Progress: 78.2%  words/sec/thread: 1848272  lr: 0.021764  loss: 0.444994  eta: 0h0m \r",
      "Progress: 78.2%  words/sec/thread: 1848281  lr: 0.021763  loss: 0.444990  eta: 0h0m \r",
      "Progress: 78.2%  words/sec/thread: 1848288  lr: 0.021763  loss: 0.444988  eta: 0h0m \r",
      "Progress: 78.2%  words/sec/thread: 1848296  lr: 0.021763  loss: 0.444985  eta: 0h0m \r",
      "Progress: 78.2%  words/sec/thread: 1848304  lr: 0.021762  loss: 0.444982  eta: 0h0m \r",
      "Progress: 78.2%  words/sec/thread: 1848278  lr: 0.021762  loss: 0.444980  eta: 0h0m \r",
      "Progress: 78.2%  words/sec/thread: 1848089  lr: 0.021761  loss: 0.444979  eta: 0h0m \r",
      "Progress: 78.2%  words/sec/thread: 1848270  lr: 0.021751  loss: 0.444980  eta: 0h0m \r",
      "Progress: 78.2%  words/sec/thread: 1848280  lr: 0.021750  loss: 0.444977  eta: 0h0m \r",
      "Progress: 78.3%  words/sec/thread: 1848289  lr: 0.021750  loss: 0.444974  eta: 0h0m \r",
      "Progress: 78.3%  words/sec/thread: 1848295  lr: 0.021749  loss: 0.444972  eta: 0h0m \r",
      "Progress: 78.3%  words/sec/thread: 1848305  lr: 0.021749  loss: 0.444973  eta: 0h0m \r",
      "Progress: 78.3%  words/sec/thread: 1848312  lr: 0.021749  loss: 0.444973  eta: 0h0m \r",
      "Progress: 78.3%  words/sec/thread: 1848095  lr: 0.021748  loss: 0.444971  eta: 0h0m \r",
      "Progress: 78.3%  words/sec/thread: 1848100  lr: 0.021748  loss: 0.444970  eta: 0h0m \r",
      "Progress: 78.3%  words/sec/thread: 1848125  lr: 0.021746  loss: 0.444970  eta: 0h0m \r",
      "Progress: 78.3%  words/sec/thread: 1848136  lr: 0.021746  loss: 0.444968  eta: 0h0m \r",
      "Progress: 78.3%  words/sec/thread: 1848144  lr: 0.021745  loss: 0.444966  eta: 0h0m \r",
      "Progress: 78.3%  words/sec/thread: 1848154  lr: 0.021745  loss: 0.444965  eta: 0h0m \r",
      "Progress: 78.3%  words/sec/thread: 1848163  lr: 0.021745  loss: 0.444965  eta: 0h0m \r",
      "Progress: 78.3%  words/sec/thread: 1848173  lr: 0.021744  loss: 0.444962  eta: 0h0m \r",
      "Progress: 78.3%  words/sec/thread: 1848182  lr: 0.021744  loss: 0.444961  eta: 0h0m \r",
      "Progress: 78.3%  words/sec/thread: 1848192  lr: 0.021743  loss: 0.444959  eta: 0h0m \r",
      "Progress: 78.3%  words/sec/thread: 1848201  lr: 0.021743  loss: 0.444960  eta: 0h0m \r",
      "Progress: 78.3%  words/sec/thread: 1848212  lr: 0.021742  loss: 0.444958  eta: 0h0m \r",
      "Progress: 78.3%  words/sec/thread: 1848222  lr: 0.021742  loss: 0.444957  eta: 0h0m \r",
      "Progress: 78.3%  words/sec/thread: 1848206  lr: 0.021741  loss: 0.444955  eta: 0h0m \r",
      "Progress: 78.3%  words/sec/thread: 1848216  lr: 0.021741  loss: 0.444954  eta: 0h0m \r",
      "Progress: 78.3%  words/sec/thread: 1848225  lr: 0.021740  loss: 0.444953  eta: 0h0m \r",
      "Progress: 78.3%  words/sec/thread: 1848234  lr: 0.021740  loss: 0.444950  eta: 0h0m \r",
      "Progress: 78.3%  words/sec/thread: 1848245  lr: 0.021739  loss: 0.444948  eta: 0h0m \r",
      "Progress: 78.3%  words/sec/thread: 1848253  lr: 0.021739  loss: 0.444947  eta: 0h0m \r",
      "Progress: 78.3%  words/sec/thread: 1848263  lr: 0.021738  loss: 0.444943  eta: 0h0m \r",
      "Progress: 78.3%  words/sec/thread: 1848273  lr: 0.021738  loss: 0.444940  eta: 0h0m \r",
      "Progress: 78.3%  words/sec/thread: 1848166  lr: 0.021729  loss: 0.444940  eta: 0h0m \r",
      "Progress: 78.3%  words/sec/thread: 1848145  lr: 0.021729  loss: 0.444944  eta: 0h0m \r",
      "Progress: 78.3%  words/sec/thread: 1848154  lr: 0.021729  loss: 0.444944  eta: 0h0m \r",
      "Progress: 78.3%  words/sec/thread: 1848165  lr: 0.021728  loss: 0.444944  eta: 0h0m \r",
      "Progress: 78.3%  words/sec/thread: 1848174  lr: 0.021728  loss: 0.444944  eta: 0h0m \r",
      "Progress: 78.3%  words/sec/thread: 1848185  lr: 0.021727  loss: 0.444943  eta: 0h0m \r",
      "Progress: 78.3%  words/sec/thread: 1848194  lr: 0.021727  loss: 0.444944  eta: 0h0m \r",
      "Progress: 78.3%  words/sec/thread: 1848167  lr: 0.021726  loss: 0.444942  eta: 0h0m \r",
      "Progress: 78.3%  words/sec/thread: 1848177  lr: 0.021726  loss: 0.444941  eta: 0h0m \r",
      "Progress: 78.3%  words/sec/thread: 1848186  lr: 0.021725  loss: 0.444941  eta: 0h0m \r",
      "Progress: 78.3%  words/sec/thread: 1848196  lr: 0.021725  loss: 0.444943  eta: 0h0m \r",
      "Progress: 78.3%  words/sec/thread: 1848207  lr: 0.021724  loss: 0.444949  eta: 0h0m \r",
      "Progress: 78.3%  words/sec/thread: 1848217  lr: 0.021724  loss: 0.444958  eta: 0h0m \r",
      "Progress: 78.3%  words/sec/thread: 1848227  lr: 0.021723  loss: 0.444970  eta: 0h0m \r",
      "Progress: 78.3%  words/sec/thread: 1848236  lr: 0.021723  loss: 0.444974  eta: 0h0m \r",
      "Progress: 78.3%  words/sec/thread: 1848034  lr: 0.021722  loss: 0.444974  eta: 0h0m \r",
      "Progress: 78.3%  words/sec/thread: 1848045  lr: 0.021722  loss: 0.444976  eta: 0h0m \r",
      "Progress: 78.3%  words/sec/thread: 1848054  lr: 0.021721  loss: 0.444988  eta: 0h0m \r",
      "Progress: 78.3%  words/sec/thread: 1848065  lr: 0.021721  loss: 0.444988  eta: 0h0m \r",
      "Progress: 78.3%  words/sec/thread: 1848074  lr: 0.021720  loss: 0.444990  eta: 0h0m \r",
      "Progress: 78.3%  words/sec/thread: 1848084  lr: 0.021720  loss: 0.444990  eta: 0h0m \r",
      "Progress: 78.3%  words/sec/thread: 1848094  lr: 0.021720  loss: 0.444991  eta: 0h0m \r",
      "Progress: 78.3%  words/sec/thread: 1848103  lr: 0.021719  loss: 0.444991  eta: 0h0m \r",
      "Progress: 78.3%  words/sec/thread: 1848115  lr: 0.021719  loss: 0.444995  eta: 0h0m \r",
      "Progress: 78.3%  words/sec/thread: 1848123  lr: 0.021718  loss: 0.445001  eta: 0h0m \r",
      "Progress: 78.3%  words/sec/thread: 1848113  lr: 0.021717  loss: 0.445006  eta: 0h0m \r",
      "Progress: 78.3%  words/sec/thread: 1848100  lr: 0.021717  loss: 0.445009  eta: 0h0m \r",
      "Progress: 78.3%  words/sec/thread: 1848170  lr: 0.021712  loss: 0.445015  eta: 0h0m \r",
      "Progress: 78.3%  words/sec/thread: 1848178  lr: 0.021712  loss: 0.445020  eta: 0h0m \r",
      "Progress: 78.3%  words/sec/thread: 1848186  lr: 0.021711  loss: 0.445024  eta: 0h0m \r",
      "Progress: 78.3%  words/sec/thread: 1848194  lr: 0.021711  loss: 0.445029  eta: 0h0m \r",
      "Progress: 78.3%  words/sec/thread: 1848015  lr: 0.021711  loss: 0.445031  eta: 0h0m \r",
      "Progress: 78.3%  words/sec/thread: 1848022  lr: 0.021710  loss: 0.445033  eta: 0h0m \r",
      "Progress: 78.3%  words/sec/thread: 1848030  lr: 0.021710  loss: 0.445034  eta: 0h0m \r",
      "Progress: 78.3%  words/sec/thread: 1848038  lr: 0.021709  loss: 0.445032  eta: 0h0m \r",
      "Progress: 78.3%  words/sec/thread: 1848046  lr: 0.021709  loss: 0.445035  eta: 0h0m \r",
      "Progress: 78.3%  words/sec/thread: 1848045  lr: 0.021709  loss: 0.445038  eta: 0h0m \r",
      "Progress: 78.3%  words/sec/thread: 1848051  lr: 0.021708  loss: 0.445043  eta: 0h0m \r",
      "Progress: 78.3%  words/sec/thread: 1848042  lr: 0.021708  loss: 0.445043  eta: 0h0m \r",
      "Progress: 78.3%  words/sec/thread: 1848048  lr: 0.021708  loss: 0.445060  eta: 0h0m \r",
      "Progress: 78.3%  words/sec/thread: 1848052  lr: 0.021708  loss: 0.445061  eta: 0h0m \r",
      "Progress: 78.3%  words/sec/thread: 1848055  lr: 0.021707  loss: 0.445062  eta: 0h0m \r",
      "Progress: 78.3%  words/sec/thread: 1848060  lr: 0.021707  loss: 0.445062  eta: 0h0m \r",
      "Progress: 78.3%  words/sec/thread: 1848065  lr: 0.021707  loss: 0.445061  eta: 0h0m \r",
      "Progress: 78.3%  words/sec/thread: 1848069  lr: 0.021706  loss: 0.445064  eta: 0h0m \r",
      "Progress: 78.3%  words/sec/thread: 1848074  lr: 0.021706  loss: 0.445066  eta: 0h0m \r",
      "Progress: 78.3%  words/sec/thread: 1848078  lr: 0.021706  loss: 0.445068  eta: 0h0m \r",
      "Progress: 78.3%  words/sec/thread: 1848084  lr: 0.021705  loss: 0.445071  eta: 0h0m \r",
      "Progress: 78.3%  words/sec/thread: 1848089  lr: 0.021705  loss: 0.445072  eta: 0h0m \r",
      "Progress: 78.3%  words/sec/thread: 1848154  lr: 0.021679  loss: 0.445072  eta: 0h0m \r",
      "Progress: 78.3%  words/sec/thread: 1848162  lr: 0.021678  loss: 0.445073  eta: 0h0m \r",
      "Progress: 78.3%  words/sec/thread: 1848137  lr: 0.021678  loss: 0.445072  eta: 0h0m \r",
      "Progress: 78.3%  words/sec/thread: 1848145  lr: 0.021677  loss: 0.445069  eta: 0h0m \r",
      "Progress: 78.3%  words/sec/thread: 1848152  lr: 0.021677  loss: 0.445067  eta: 0h0m \r",
      "Progress: 78.3%  words/sec/thread: 1848161  lr: 0.021677  loss: 0.445064  eta: 0h0m \r",
      "Progress: 78.3%  words/sec/thread: 1848164  lr: 0.021676  loss: 0.445064  eta: 0h0m \r",
      "Progress: 78.3%  words/sec/thread: 1848173  lr: 0.021676  loss: 0.445062  eta: 0h0m \r",
      "Progress: 78.3%  words/sec/thread: 1848178  lr: 0.021676  loss: 0.445060  eta: 0h0m \r",
      "Progress: 78.3%  words/sec/thread: 1848184  lr: 0.021675  loss: 0.445058  eta: 0h0m \r",
      "Progress: 78.3%  words/sec/thread: 1848190  lr: 0.021675  loss: 0.445059  eta: 0h0m \r",
      "Progress: 78.3%  words/sec/thread: 1848196  lr: 0.021674  loss: 0.445056  eta: 0h0m \r",
      "Progress: 78.3%  words/sec/thread: 1848202  lr: 0.021674  loss: 0.445055  eta: 0h0m \r",
      "Progress: 78.3%  words/sec/thread: 1848210  lr: 0.021674  loss: 0.445054  eta: 0h0m \r",
      "Progress: 78.3%  words/sec/thread: 1848217  lr: 0.021673  loss: 0.445053  eta: 0h0m \r",
      "Progress: 78.3%  words/sec/thread: 1848225  lr: 0.021673  loss: 0.445051  eta: 0h0m \r",
      "Progress: 78.3%  words/sec/thread: 1848231  lr: 0.021673  loss: 0.445048  eta: 0h0m \r",
      "Progress: 78.3%  words/sec/thread: 1848231  lr: 0.021672  loss: 0.445048  eta: 0h0m \r",
      "Progress: 78.3%  words/sec/thread: 1848238  lr: 0.021672  loss: 0.445043  eta: 0h0m \r",
      "Progress: 78.3%  words/sec/thread: 1848020  lr: 0.021672  loss: 0.445042  eta: 0h0m \r",
      "Progress: 78.3%  words/sec/thread: 1848028  lr: 0.021671  loss: 0.445040  eta: 0h0m \r",
      "Progress: 78.3%  words/sec/thread: 1848035  lr: 0.021671  loss: 0.445037  eta: 0h0m \r",
      "Progress: 78.3%  words/sec/thread: 1848043  lr: 0.021670  loss: 0.445037  eta: 0h0m \r",
      "Progress: 78.3%  words/sec/thread: 1848045  lr: 0.021670  loss: 0.445035  eta: 0h0m \r",
      "Progress: 78.3%  words/sec/thread: 1848052  lr: 0.021670  loss: 0.445033  eta: 0h0m \r",
      "Progress: 78.3%  words/sec/thread: 1848060  lr: 0.021669  loss: 0.445031  eta: 0h0m \r",
      "Progress: 78.3%  words/sec/thread: 1848068  lr: 0.021669  loss: 0.445030  eta: 0h0m \r",
      "Progress: 78.3%  words/sec/thread: 1848055  lr: 0.021669  loss: 0.445026  eta: 0h0m \r",
      "Progress: 78.3%  words/sec/thread: 1848050  lr: 0.021668  loss: 0.445025  eta: 0h0m \r",
      "Progress: 78.3%  words/sec/thread: 1848047  lr: 0.021668  loss: 0.445023  eta: 0h0m \r",
      "Progress: 78.3%  words/sec/thread: 1848054  lr: 0.021668  loss: 0.445020  eta: 0h0m \r",
      "Progress: 78.3%  words/sec/thread: 1848060  lr: 0.021667  loss: 0.445018  eta: 0h0m \r",
      "Progress: 78.3%  words/sec/thread: 1848065  lr: 0.021667  loss: 0.445017  eta: 0h0m \r",
      "Progress: 78.3%  words/sec/thread: 1848073  lr: 0.021666  loss: 0.445021  eta: 0h0m \r",
      "Progress: 78.3%  words/sec/thread: 1848080  lr: 0.021666  loss: 0.445019  eta: 0h0m \r",
      "Progress: 78.3%  words/sec/thread: 1848077  lr: 0.021665  loss: 0.445018  eta: 0h0m \r",
      "Progress: 78.3%  words/sec/thread: 1848083  lr: 0.021665  loss: 0.445017  eta: 0h0m \r",
      "Progress: 78.3%  words/sec/thread: 1848089  lr: 0.021665  loss: 0.445015  eta: 0h0m \r",
      "Progress: 78.3%  words/sec/thread: 1848095  lr: 0.021664  loss: 0.445013  eta: 0h0m \r",
      "Progress: 78.3%  words/sec/thread: 1848098  lr: 0.021664  loss: 0.445010  eta: 0h0m \r",
      "Progress: 78.3%  words/sec/thread: 1848105  lr: 0.021663  loss: 0.445007  eta: 0h0m \r",
      "Progress: 78.3%  words/sec/thread: 1848116  lr: 0.021663  loss: 0.445004  eta: 0h0m \r",
      "Progress: 78.3%  words/sec/thread: 1848126  lr: 0.021662  loss: 0.445002  eta: 0h0m \r",
      "Progress: 78.3%  words/sec/thread: 1848134  lr: 0.021662  loss: 0.445000  eta: 0h0m \r",
      "Progress: 78.3%  words/sec/thread: 1848145  lr: 0.021661  loss: 0.444998  eta: 0h0m \r",
      "Progress: 78.3%  words/sec/thread: 1848155  lr: 0.021661  loss: 0.444997  eta: 0h0m \r",
      "Progress: 78.3%  words/sec/thread: 1848166  lr: 0.021660  loss: 0.444994  eta: 0h0m \r",
      "Progress: 78.6%  words/sec/thread: 1848365  lr: 0.021439  loss: 0.444991  eta: 0h0m \r",
      "Progress: 78.6%  words/sec/thread: 1848374  lr: 0.021439  loss: 0.444991  eta: 0h0m \r",
      "Progress: 78.6%  words/sec/thread: 1848384  lr: 0.021438  loss: 0.444988  eta: 0h0m \r",
      "Progress: 78.6%  words/sec/thread: 1848392  lr: 0.021438  loss: 0.444987  eta: 0h0m \r",
      "Progress: 78.6%  words/sec/thread: 1848404  lr: 0.021437  loss: 0.444984  eta: 0h0m \r",
      "Progress: 78.6%  words/sec/thread: 1848414  lr: 0.021437  loss: 0.444982  eta: 0h0m \r",
      "Progress: 78.6%  words/sec/thread: 1848423  lr: 0.021436  loss: 0.444980  eta: 0h0m \r",
      "Progress: 78.6%  words/sec/thread: 1848430  lr: 0.021436  loss: 0.444978  eta: 0h0m \r",
      "Progress: 78.6%  words/sec/thread: 1848441  lr: 0.021435  loss: 0.444975  eta: 0h0m \r",
      "Progress: 78.6%  words/sec/thread: 1848450  lr: 0.021434  loss: 0.444972  eta: 0h0m \r",
      "Progress: 78.6%  words/sec/thread: 1848459  lr: 0.021434  loss: 0.444968  eta: 0h0m \r",
      "Progress: 78.6%  words/sec/thread: 1848468  lr: 0.021433  loss: 0.444964  eta: 0h0m \r",
      "Progress: 78.6%  words/sec/thread: 1848479  lr: 0.021433  loss: 0.444963  eta: 0h0m \r",
      "Progress: 78.6%  words/sec/thread: 1848487  lr: 0.021432  loss: 0.444960  eta: 0h0m \r",
      "Progress: 78.6%  words/sec/thread: 1848496  lr: 0.021432  loss: 0.444958  eta: 0h0m \r",
      "Progress: 78.6%  words/sec/thread: 1848458  lr: 0.021431  loss: 0.444956  eta: 0h0m \r",
      "Progress: 78.6%  words/sec/thread: 1848468  lr: 0.021431  loss: 0.444953  eta: 0h0m \r",
      "Progress: 78.6%  words/sec/thread: 1848273  lr: 0.021430  loss: 0.444949  eta: 0h0m \r",
      "Progress: 78.6%  words/sec/thread: 1848282  lr: 0.021430  loss: 0.444948  eta: 0h0m \r",
      "Progress: 78.6%  words/sec/thread: 1848291  lr: 0.021429  loss: 0.444946  eta: 0h0m \r",
      "Progress: 78.6%  words/sec/thread: 1848302  lr: 0.021429  loss: 0.444942  eta: 0h0m \r",
      "Progress: 78.6%  words/sec/thread: 1848310  lr: 0.021428  loss: 0.444940  eta: 0h0m \r",
      "Progress: 78.6%  words/sec/thread: 1848321  lr: 0.021428  loss: 0.444939  eta: 0h0m \r",
      "Progress: 78.6%  words/sec/thread: 1848330  lr: 0.021427  loss: 0.444938  eta: 0h0m \r",
      "Progress: 78.6%  words/sec/thread: 1848340  lr: 0.021427  loss: 0.444935  eta: 0h0m \r",
      "Progress: 78.6%  words/sec/thread: 1848350  lr: 0.021426  loss: 0.444933  eta: 0h0m \r",
      "Progress: 78.6%  words/sec/thread: 1848360  lr: 0.021425  loss: 0.444932  eta: 0h0m \r",
      "Progress: 78.6%  words/sec/thread: 1848368  lr: 0.021425  loss: 0.444929  eta: 0h0m \r",
      "Progress: 78.6%  words/sec/thread: 1848377  lr: 0.021424  loss: 0.444927  eta: 0h0m \r",
      "Progress: 78.6%  words/sec/thread: 1848387  lr: 0.021424  loss: 0.444924  eta: 0h0m \r",
      "Progress: 78.6%  words/sec/thread: 1848395  lr: 0.021423  loss: 0.444922  eta: 0h0m \r",
      "Progress: 78.6%  words/sec/thread: 1848405  lr: 0.021423  loss: 0.444921  eta: 0h0m \r",
      "Progress: 78.6%  words/sec/thread: 1848415  lr: 0.021422  loss: 0.444918  eta: 0h0m \r",
      "Progress: 78.6%  words/sec/thread: 1848392  lr: 0.021422  loss: 0.444917  eta: 0h0m \r",
      "Progress: 78.6%  words/sec/thread: 1848400  lr: 0.021421  loss: 0.444918  eta: 0h0m \r",
      "Progress: 78.6%  words/sec/thread: 1848411  lr: 0.021421  loss: 0.444916  eta: 0h0m \r",
      "Progress: 78.6%  words/sec/thread: 1848419  lr: 0.021420  loss: 0.444914  eta: 0h0m \r",
      "Progress: 78.6%  words/sec/thread: 1848427  lr: 0.021420  loss: 0.444911  eta: 0h0m \r",
      "Progress: 78.6%  words/sec/thread: 1848436  lr: 0.021419  loss: 0.444910  eta: 0h0m \r",
      "Progress: 78.6%  words/sec/thread: 1848446  lr: 0.021418  loss: 0.444910  eta: 0h0m \r",
      "Progress: 78.6%  words/sec/thread: 1848456  lr: 0.021418  loss: 0.444909  eta: 0h0m \r",
      "Progress: 78.6%  words/sec/thread: 1848467  lr: 0.021417  loss: 0.444907  eta: 0h0m \r",
      "Progress: 78.6%  words/sec/thread: 1848274  lr: 0.021417  loss: 0.444905  eta: 0h0m \r",
      "Progress: 78.6%  words/sec/thread: 1848280  lr: 0.021416  loss: 0.444902  eta: 0h0m \r",
      "Progress: 78.6%  words/sec/thread: 1848292  lr: 0.021415  loss: 0.444900  eta: 0h0m \r",
      "Progress: 78.6%  words/sec/thread: 1848301  lr: 0.021415  loss: 0.444898  eta: 0h0m \r",
      "Progress: 78.6%  words/sec/thread: 1848311  lr: 0.021414  loss: 0.444898  eta: 0h0m \r",
      "Progress: 78.6%  words/sec/thread: 1848320  lr: 0.021414  loss: 0.444896  eta: 0h0m \r",
      "Progress: 78.6%  words/sec/thread: 1848328  lr: 0.021413  loss: 0.444899  eta: 0h0m \r",
      "Progress: 78.6%  words/sec/thread: 1848340  lr: 0.021413  loss: 0.444897  eta: 0h0m \r",
      "Progress: 78.6%  words/sec/thread: 1848350  lr: 0.021412  loss: 0.444894  eta: 0h0m \r",
      "Progress: 78.6%  words/sec/thread: 1848359  lr: 0.021412  loss: 0.444892  eta: 0h0m \r",
      "Progress: 78.6%  words/sec/thread: 1848367  lr: 0.021411  loss: 0.444890  eta: 0h0m \r",
      "Progress: 78.6%  words/sec/thread: 1848381  lr: 0.021411  loss: 0.444888  eta: 0h0m \r",
      "Progress: 78.6%  words/sec/thread: 1848391  lr: 0.021410  loss: 0.444885  eta: 0h0m \r",
      "Progress: 78.6%  words/sec/thread: 1848400  lr: 0.021409  loss: 0.444884  eta: 0h0m \r",
      "Progress: 78.6%  words/sec/thread: 1848408  lr: 0.021409  loss: 0.444881  eta: 0h0m \r",
      "Progress: 78.6%  words/sec/thread: 1848420  lr: 0.021409  loss: 0.444877  eta: 0h0m \r",
      "Progress: 78.6%  words/sec/thread: 1848428  lr: 0.021408  loss: 0.444874  eta: 0h0m \r",
      "Progress: 78.6%  words/sec/thread: 1848436  lr: 0.021407  loss: 0.444871  eta: 0h0m \r",
      "Progress: 78.6%  words/sec/thread: 1848445  lr: 0.021407  loss: 0.444870  eta: 0h0m \r",
      "Progress: 78.6%  words/sec/thread: 1848456  lr: 0.021406  loss: 0.444866  eta: 0h0m \r",
      "Progress: 78.6%  words/sec/thread: 1848464  lr: 0.021406  loss: 0.444864  eta: 0h0m \r",
      "Progress: 78.6%  words/sec/thread: 1848474  lr: 0.021405  loss: 0.444862  eta: 0h0m \r",
      "Progress: 78.6%  words/sec/thread: 1848483  lr: 0.021405  loss: 0.444859  eta: 0h0m \r",
      "Progress: 78.6%  words/sec/thread: 1848491  lr: 0.021404  loss: 0.444857  eta: 0h0m \r",
      "Progress: 78.6%  words/sec/thread: 1848502  lr: 0.021404  loss: 0.444853  eta: 0h0m \r",
      "Progress: 78.6%  words/sec/thread: 1848511  lr: 0.021403  loss: 0.444849  eta: 0h0m \r",
      "Progress: 78.6%  words/sec/thread: 1848520  lr: 0.021403  loss: 0.444847  eta: 0h0m \r",
      "Progress: 78.6%  words/sec/thread: 1848276  lr: 0.021402  loss: 0.444844  eta: 0h0m \r",
      "Progress: 78.6%  words/sec/thread: 1848286  lr: 0.021402  loss: 0.444842  eta: 0h0m \r",
      "Progress: 78.6%  words/sec/thread: 1848296  lr: 0.021401  loss: 0.444842  eta: 0h0m \r",
      "Progress: 78.6%  words/sec/thread: 1848305  lr: 0.021401  loss: 0.444841  eta: 0h0m \r",
      "Progress: 78.6%  words/sec/thread: 1848312  lr: 0.021400  loss: 0.444839  eta: 0h0m \r",
      "Progress: 78.6%  words/sec/thread: 1848313  lr: 0.021400  loss: 0.444838  eta: 0h0m \r",
      "Progress: 78.6%  words/sec/thread: 1848304  lr: 0.021399  loss: 0.444836  eta: 0h0m \r",
      "Progress: 78.6%  words/sec/thread: 1848313  lr: 0.021399  loss: 0.444834  eta: 0h0m \r",
      "Progress: 78.6%  words/sec/thread: 1848322  lr: 0.021398  loss: 0.444833  eta: 0h0m \r",
      "Progress: 78.6%  words/sec/thread: 1848331  lr: 0.021398  loss: 0.444832  eta: 0h0m \r",
      "Progress: 78.6%  words/sec/thread: 1848343  lr: 0.021397  loss: 0.444833  eta: 0h0m \r",
      "Progress: 78.6%  words/sec/thread: 1848352  lr: 0.021397  loss: 0.444832  eta: 0h0m \r",
      "Progress: 78.6%  words/sec/thread: 1848361  lr: 0.021396  loss: 0.444832  eta: 0h0m \r",
      "Progress: 78.6%  words/sec/thread: 1848371  lr: 0.021395  loss: 0.444832  eta: 0h0m \r",
      "Progress: 78.6%  words/sec/thread: 1848381  lr: 0.021395  loss: 0.444830  eta: 0h0m \r",
      "Progress: 78.6%  words/sec/thread: 1848392  lr: 0.021394  loss: 0.444829  eta: 0h0m \r",
      "Progress: 78.6%  words/sec/thread: 1848400  lr: 0.021394  loss: 0.444827  eta: 0h0m \r",
      "Progress: 78.6%  words/sec/thread: 1848410  lr: 0.021393  loss: 0.444825  eta: 0h0m \r",
      "Progress: 78.6%  words/sec/thread: 1848419  lr: 0.021393  loss: 0.444823  eta: 0h0m \r",
      "Progress: 78.6%  words/sec/thread: 1848429  lr: 0.021392  loss: 0.444821  eta: 0h0m \r",
      "Progress: 78.6%  words/sec/thread: 1848438  lr: 0.021392  loss: 0.444820  eta: 0h0m \r",
      "Progress: 78.6%  words/sec/thread: 1848448  lr: 0.021391  loss: 0.444823  eta: 0h0m \r",
      "Progress: 78.6%  words/sec/thread: 1848456  lr: 0.021391  loss: 0.444822  eta: 0h0m \r",
      "Progress: 78.6%  words/sec/thread: 1848466  lr: 0.021390  loss: 0.444820  eta: 0h0m \r",
      "Progress: 78.6%  words/sec/thread: 1848476  lr: 0.021390  loss: 0.444817  eta: 0h0m \r",
      "Progress: 78.6%  words/sec/thread: 1848484  lr: 0.021389  loss: 0.444818  eta: 0h0m \r",
      "Progress: 78.6%  words/sec/thread: 1848493  lr: 0.021389  loss: 0.444815  eta: 0h0m \r",
      "Progress: 78.6%  words/sec/thread: 1848504  lr: 0.021388  loss: 0.444814  eta: 0h0m \r",
      "Progress: 78.6%  words/sec/thread: 1848292  lr: 0.021388  loss: 0.444816  eta: 0h0m \r",
      "Progress: 78.6%  words/sec/thread: 1848300  lr: 0.021387  loss: 0.444814  eta: 0h0m \r",
      "Progress: 78.6%  words/sec/thread: 1848309  lr: 0.021387  loss: 0.444814  eta: 0h0m \r",
      "Progress: 78.6%  words/sec/thread: 1848319  lr: 0.021386  loss: 0.444814  eta: 0h0m \r",
      "Progress: 78.6%  words/sec/thread: 1848328  lr: 0.021386  loss: 0.444817  eta: 0h0m \r",
      "Progress: 78.6%  words/sec/thread: 1848388  lr: 0.021368  loss: 0.444816  eta: 0h0m \r",
      "Progress: 78.6%  words/sec/thread: 1848399  lr: 0.021367  loss: 0.444815  eta: 0h0m \r",
      "Progress: 78.6%  words/sec/thread: 1848410  lr: 0.021367  loss: 0.444815  eta: 0h0m \r",
      "Progress: 78.6%  words/sec/thread: 1848421  lr: 0.021366  loss: 0.444817  eta: 0h0m \r",
      "Progress: 78.6%  words/sec/thread: 1848430  lr: 0.021365  loss: 0.444819  eta: 0h0m \r",
      "Progress: 78.6%  words/sec/thread: 1848442  lr: 0.021365  loss: 0.444820  eta: 0h0m \r",
      "Progress: 78.6%  words/sec/thread: 1848452  lr: 0.021364  loss: 0.444818  eta: 0h0m \r",
      "Progress: 78.6%  words/sec/thread: 1848460  lr: 0.021364  loss: 0.444820  eta: 0h0m \r",
      "Progress: 78.6%  words/sec/thread: 1848471  lr: 0.021363  loss: 0.444819  eta: 0h0m \r",
      "Progress: 78.6%  words/sec/thread: 1848482  lr: 0.021363  loss: 0.444817  eta: 0h0m \r",
      "Progress: 78.6%  words/sec/thread: 1848491  lr: 0.021362  loss: 0.444815  eta: 0h0m \r",
      "Progress: 78.6%  words/sec/thread: 1848501  lr: 0.021362  loss: 0.444815  eta: 0h0m \r",
      "Progress: 78.6%  words/sec/thread: 1848514  lr: 0.021361  loss: 0.444814  eta: 0h0m \r",
      "Progress: 78.6%  words/sec/thread: 1848522  lr: 0.021361  loss: 0.444813  eta: 0h0m \r",
      "Progress: 78.6%  words/sec/thread: 1848533  lr: 0.021360  loss: 0.444812  eta: 0h0m \r",
      "Progress: 78.6%  words/sec/thread: 1848543  lr: 0.021359  loss: 0.444811  eta: 0h0m \r",
      "Progress: 78.6%  words/sec/thread: 1848555  lr: 0.021359  loss: 0.444811  eta: 0h0m \r",
      "Progress: 78.6%  words/sec/thread: 1848565  lr: 0.021358  loss: 0.444810  eta: 0h0m \r",
      "Progress: 78.6%  words/sec/thread: 1848573  lr: 0.021358  loss: 0.444812  eta: 0h0m \r",
      "Progress: 78.6%  words/sec/thread: 1848587  lr: 0.021357  loss: 0.444813  eta: 0h0m \r",
      "Progress: 78.6%  words/sec/thread: 1848595  lr: 0.021357  loss: 0.444812  eta: 0h0m \r",
      "Progress: 78.6%  words/sec/thread: 1848606  lr: 0.021356  loss: 0.444811  eta: 0h0m \r",
      "Progress: 78.6%  words/sec/thread: 1848617  lr: 0.021355  loss: 0.444810  eta: 0h0m \r",
      "Progress: 78.6%  words/sec/thread: 1848324  lr: 0.021355  loss: 0.444813  eta: 0h0m \r",
      "Progress: 78.6%  words/sec/thread: 1848334  lr: 0.021354  loss: 0.444814  eta: 0h0m \r",
      "Progress: 78.6%  words/sec/thread: 1848344  lr: 0.021354  loss: 0.444815  eta: 0h0m \r",
      "Progress: 78.6%  words/sec/thread: 1848351  lr: 0.021353  loss: 0.444820  eta: 0h0m "
     ]
    },
    {
     "name": "stdout",
     "output_type": "stream",
     "text": [
      "Progress: 100.0%  words/sec/thread: 1857160  lr: 0.000000  loss: 0.430704  eta: 0h0m 9.0%  words/sec/thread: 1848805  lr: 0.020955  loss: 0.445093  eta: 0h0m   words/sec/thread: 1848681  lr: 0.020897  loss: 0.445105  eta: 0h0m ress: 79.5%  words/sec/thread: 1849187  lr: 0.020463  loss: 0.445476  eta: 0h0m ress: 79.9%  words/sec/thread: 1849248  lr: 0.020059  loss: 0.446205  eta: 0h0m ress: 80.4%  words/sec/thread: 1849550  lr: 0.019630  loss: 0.446593  eta: 0h0m 80.7%  words/sec/thread: 1849901  lr: 0.019265  loss: 0.446748  eta: 0h0m   words/sec/thread: 1849879  lr: 0.019208  loss: 0.446835  eta: 0h0m   loss: 0.446812  eta: 0h0m s: 0.446706  eta: 0h0m m ogress: 81.7%  words/sec/thread: 1850404  lr: 0.018287  loss: 0.445980  eta: 0h0m ress: 82.1%  words/sec/thread: 1850522  lr: 0.017889  loss: 0.445007  eta: 0h0m %  words/sec/thread: 1850953  lr: 0.017500  loss: 0.444151  eta: 0h0m rds/sec/thread: 1850919  lr: 0.017466  loss: 0.444060  eta: 0h0m   lr: 0.017099  loss: 0.443495  eta: 0h0m  0.017031  loss: 0.443471  eta: 0h0m ress: 83.4%  words/sec/thread: 1851545  lr: 0.016579  loss: 0.442851  eta: 0h0m ress: 83.9%  words/sec/thread: 1851925  lr: 0.016110  loss: 0.442665  eta: 0h0m oss: 0.442023  eta: 0h0m   words/sec/thread: 1852445  lr: 0.015361  loss: 0.441846  eta: 0h0m .441750  eta: 0h0m h0m   loss: 0.440982  eta: 0h0m s: 0.440950  eta: 0h0m   eta: 0h0m : 0h0m ress: 86.5%  words/sec/thread: 1853632  lr: 0.013478  loss: 0.439969  eta: 0h0m ress: 86.9%  words/sec/thread: 1853775  lr: 0.013126  loss: 0.439140  eta: 0h0m m ogress: 87.3%  words/sec/thread: 1854029  lr: 0.012651  loss: 0.438389  eta: 0h0m lr: 0.012204  loss: 0.438023  eta: 0h0m 1854427  lr: 0.011877  loss: 0.437454  eta: 0h0m 39  lr: 0.011817  loss: 0.437408  eta: 0h0m ress: 88.6%  words/sec/thread: 1854477  lr: 0.011395  loss: 0.437161  eta: 0h0m 89.0%  words/sec/thread: 1854374  lr: 0.011029  loss: 0.436811  eta: 0h0m   words/sec/thread: 1854520  lr: 0.010959  loss: 0.436901  eta: 0h0m ress: 89.5%  words/sec/thread: 1854314  lr: 0.010475  loss: 0.436890  eta: 0h0m 89.8%  words/sec/thread: 1854131  lr: 0.010180  loss: 0.436637  eta: 0h0m   words/sec/thread: 1854069  lr: 0.010096  loss: 0.436601  eta: 0h0m ress: 90.3%  words/sec/thread: 1853879  lr: 0.009721  loss: 0.436267  eta: 0h0m ress: 90.7%  words/sec/thread: 1853546  lr: 0.009295  loss: 0.436462  eta: 0h0m ress: 91.1%  words/sec/thread: 1853615  lr: 0.008936  loss: 0.436141  eta: 0h0m ress: 91.5%  words/sec/thread: 1853410  lr: 0.008489  loss: 0.435911  eta: 0h0m 0.008032  loss: 0.435660  eta: 0h0m 911  loss: 0.435706  eta: 0h0m ress: 92.5%  words/sec/thread: 1853797  lr: 0.007483  loss: 0.435796  eta: 0h0m   loss: 0.435650  eta: 0h0m s/sec/thread: 1853850  lr: 0.007073  loss: 0.435615  eta: 0h0m 0m rogress: 93.4%  words/sec/thread: 1853822  lr: 0.006590  loss: 0.435179  eta: 0h0m ress: 93.8%  words/sec/thread: 1853867  lr: 0.006179  loss: 0.435052  eta: 0h0m ress: 94.3%  words/sec/thread: 1854092  lr: 0.005734  loss: 0.434792  eta: 0h0m ress: 94.7%  words/sec/thread: 1854209  lr: 0.005252  loss: 0.434569  eta: 0h0m ress: 95.2%  words/sec/thread: 1854634  lr: 0.004773  loss: 0.434281  eta: 0h0m ress: 95.8%  words/sec/thread: 1854958  lr: 0.004184  loss: 0.433623  eta: 0h0m ress: 96.2%  words/sec/thread: 1855191  lr: 0.003793  loss: 0.433122  eta: 0h0m 0m rogress: 96.7%  words/sec/thread: 1855626  lr: 0.003286  loss: 0.432680  eta: 0h0m 97.2%  words/sec/thread: 1855673  lr: 0.002848  loss: 0.432158  eta: 0h0m   words/sec/thread: 1855767  lr: 0.002783  loss: 0.432164  eta: 0h0m ress: 97.7%  words/sec/thread: 1855793  lr: 0.002313  loss: 0.431938  eta: 0h0m 0m rogress: 98.2%  words/sec/thread: 1856004  lr: 0.001842  loss: 0.431717  eta: 0h0m   lr: 0.001462  loss: 0.431387  eta: 0h0m  0.001431  loss: 0.431367  eta: 0h0m ress: 99.3%  words/sec/thread: 1856712  lr: 0.000733  loss: 0.431249  eta: 0h0m ress: 99.8%  words/sec/thread: 1857058  lr: 0.000208  loss: 0.430823  eta: 0h0m \n"
     ]
    }
   ],
   "source": [
    "!./SavedModels/fastText-0.1.0/fasttext supervised -input ./data/fasttext_data_tweets.train -output ./SavedModels/fasttext_model_tweet -epoch 30"
   ]
  },
  {
   "cell_type": "markdown",
   "id": "vocal-authority",
   "metadata": {},
   "source": [
    "---"
   ]
  },
  {
   "cell_type": "markdown",
   "id": "official-watson",
   "metadata": {},
   "source": [
    "# 8. Test classifier"
   ]
  },
  {
   "cell_type": "code",
   "execution_count": 21,
   "id": "renewable-daniel",
   "metadata": {},
   "outputs": [
    {
     "name": "stdout",
     "output_type": "stream",
     "text": [
      "N\t318391\r\n",
      "P@1\t0.753\r\n",
      "R@1\t0.753\r\n",
      "Number of examples: 318391\r\n"
     ]
    }
   ],
   "source": [
    "!./SavedModels/fastText-0.1.0/fasttext test ./SavedModels/fasttext_model_tweet.bin ./data/fasttext_data_tweets.test"
   ]
  },
  {
   "cell_type": "markdown",
   "id": "leading-rebel",
   "metadata": {},
   "source": [
    "---"
   ]
  },
  {
   "cell_type": "markdown",
   "id": "behavioral-ownership",
   "metadata": {},
   "source": [
    "# 9. Predictions\n"
   ]
  },
  {
   "cell_type": "code",
   "execution_count": 22,
   "id": "advisory-craft",
   "metadata": {},
   "outputs": [
    {
     "name": "stderr",
     "output_type": "stream",
     "text": [
      "Warning : `load_model` does not return WordVectorModel or SupervisedModel any more, but a `FastText` object which is very similar.\n"
     ]
    }
   ],
   "source": [
    "classifier = load_model(\"./SavedModels/fasttext_model_tweet.bin\")\n",
    "texts = list(X_test)\n",
    "\n",
    "labels = classifier.predict(texts)\n",
    "# print (labels)"
   ]
  },
  {
   "cell_type": "code",
   "execution_count": 23,
   "id": "individual-controversy",
   "metadata": {},
   "outputs": [],
   "source": [
    "predictions = []\n",
    "for i in range(len(labels[0])):\n",
    "    predictions.append(int(labels[0][i][0][-1]))"
   ]
  },
  {
   "cell_type": "code",
   "execution_count": 24,
   "id": "changed-complex",
   "metadata": {},
   "outputs": [
    {
     "data": {
      "text/plain": [
       "0.7534321007817432"
      ]
     },
     "execution_count": 24,
     "metadata": {},
     "output_type": "execute_result"
    }
   ],
   "source": [
    "accuracy_score(y_test, predictions)"
   ]
  },
  {
   "cell_type": "code",
   "execution_count": null,
   "id": "british-contrast",
   "metadata": {},
   "outputs": [],
   "source": []
  }
 ],
 "metadata": {
  "kernelspec": {
   "display_name": "Python 3",
   "language": "python",
   "name": "python3"
  },
  "language_info": {
   "codemirror_mode": {
    "name": "ipython",
    "version": 3
   },
   "file_extension": ".py",
   "mimetype": "text/x-python",
   "name": "python",
   "nbconvert_exporter": "python",
   "pygments_lexer": "ipython3",
   "version": "3.8.5"
  }
 },
 "nbformat": 4,
 "nbformat_minor": 5
}
