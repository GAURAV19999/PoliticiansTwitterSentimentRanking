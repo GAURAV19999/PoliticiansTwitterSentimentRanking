{
 "cells": [
  {
   "cell_type": "markdown",
   "id": "flexible-factory",
   "metadata": {},
   "source": [
    "# SVM and Naive Bayes model for classification of tweet sentiment"
   ]
  },
  {
   "cell_type": "markdown",
   "id": "indoor-hunter",
   "metadata": {},
   "source": [
    "---"
   ]
  },
  {
   "cell_type": "markdown",
   "id": "architectural-photographer",
   "metadata": {},
   "source": [
    "# 1. Installs and imports"
   ]
  },
  {
   "cell_type": "markdown",
   "id": "national-appointment",
   "metadata": {},
   "source": [
    "## 1.1. Install all required libraries"
   ]
  },
  {
   "cell_type": "code",
   "execution_count": 1,
   "id": "lasting-attendance",
   "metadata": {},
   "outputs": [],
   "source": [
    "# Uncomment line below to install all required libraries\n",
    "# !pip3 install -r ../requirements.txt -q"
   ]
  },
  {
   "cell_type": "markdown",
   "id": "assisted-bankruptcy",
   "metadata": {},
   "source": [
    "## 1.2. Import required libraries"
   ]
  },
  {
   "cell_type": "code",
   "execution_count": 2,
   "id": "missing-burton",
   "metadata": {},
   "outputs": [],
   "source": [
    "import nltk\n",
    "import re\n",
    "from sklearn.feature_extraction.text import CountVectorizer, TfidfVectorizer\n",
    "from nltk.corpus import stopwords\n",
    "from nltk.tokenize import word_tokenize\n",
    "import pandas as pd\n",
    "from sklearn.model_selection import train_test_split\n",
    "from sklearn.preprocessing import LabelEncoder\n",
    "from sklearn import model_selection, naive_bayes, svm\n",
    "import numpy as np\n",
    "from sklearn.metrics import accuracy_score"
   ]
  },
  {
   "cell_type": "markdown",
   "id": "pointed-mainland",
   "metadata": {},
   "source": [
    "# 2. Load cleaned tweets dataset"
   ]
  },
  {
   "cell_type": "code",
   "execution_count": 3,
   "id": "minute-technique",
   "metadata": {},
   "outputs": [],
   "source": [
    "df = pd.read_csv('./cleaned_tweets.csv')"
   ]
  },
  {
   "cell_type": "code",
   "execution_count": 4,
   "id": "german-merchant",
   "metadata": {},
   "outputs": [],
   "source": [
    "np.random.seed(450)"
   ]
  },
  {
   "cell_type": "markdown",
   "id": "desirable-stock",
   "metadata": {},
   "source": [
    "# 3. Drop text"
   ]
  },
  {
   "cell_type": "code",
   "execution_count": 5,
   "id": "vocational-power",
   "metadata": {},
   "outputs": [],
   "source": [
    "df = df[['sentiment', 'Snowball_Stem']]"
   ]
  },
  {
   "cell_type": "code",
   "execution_count": 6,
   "id": "protected-aggregate",
   "metadata": {},
   "outputs": [
    {
     "data": {
      "text/html": [
       "<div>\n",
       "<style scoped>\n",
       "    .dataframe tbody tr th:only-of-type {\n",
       "        vertical-align: middle;\n",
       "    }\n",
       "\n",
       "    .dataframe tbody tr th {\n",
       "        vertical-align: top;\n",
       "    }\n",
       "\n",
       "    .dataframe thead th {\n",
       "        text-align: right;\n",
       "    }\n",
       "</style>\n",
       "<table border=\"1\" class=\"dataframe\">\n",
       "  <thead>\n",
       "    <tr style=\"text-align: right;\">\n",
       "      <th></th>\n",
       "      <th>sentiment</th>\n",
       "      <th>Snowball_Stem</th>\n",
       "    </tr>\n",
       "  </thead>\n",
       "  <tbody>\n",
       "    <tr>\n",
       "      <th>0</th>\n",
       "      <td>0</td>\n",
       "      <td>aww bummer shoulda got david carr third day</td>\n",
       "    </tr>\n",
       "    <tr>\n",
       "      <th>1</th>\n",
       "      <td>0</td>\n",
       "      <td>upset can not updat facebook text might cri re...</td>\n",
       "    </tr>\n",
       "    <tr>\n",
       "      <th>2</th>\n",
       "      <td>0</td>\n",
       "      <td>dive mani time ball manag save rest go bound</td>\n",
       "    </tr>\n",
       "    <tr>\n",
       "      <th>3</th>\n",
       "      <td>0</td>\n",
       "      <td>whole bodi feel itchi like fire</td>\n",
       "    </tr>\n",
       "    <tr>\n",
       "      <th>4</th>\n",
       "      <td>0</td>\n",
       "      <td>behav im mad can not see</td>\n",
       "    </tr>\n",
       "  </tbody>\n",
       "</table>\n",
       "</div>"
      ],
      "text/plain": [
       "   sentiment                                      Snowball_Stem\n",
       "0          0        aww bummer shoulda got david carr third day\n",
       "1          0  upset can not updat facebook text might cri re...\n",
       "2          0       dive mani time ball manag save rest go bound\n",
       "3          0                    whole bodi feel itchi like fire\n",
       "4          0                           behav im mad can not see"
      ]
     },
     "execution_count": 6,
     "metadata": {},
     "output_type": "execute_result"
    }
   ],
   "source": [
    "df.head()"
   ]
  },
  {
   "cell_type": "markdown",
   "id": "applied-bahamas",
   "metadata": {},
   "source": [
    "# 4. Drop rows with NaN"
   ]
  },
  {
   "cell_type": "code",
   "execution_count": 7,
   "id": "eligible-tomorrow",
   "metadata": {},
   "outputs": [
    {
     "data": {
      "text/plain": [
       "sentiment           0\n",
       "Snowball_Stem    8046\n",
       "dtype: int64"
      ]
     },
     "execution_count": 7,
     "metadata": {},
     "output_type": "execute_result"
    }
   ],
   "source": [
    "df.isna().sum()"
   ]
  },
  {
   "cell_type": "code",
   "execution_count": 8,
   "id": "recovered-michigan",
   "metadata": {},
   "outputs": [],
   "source": [
    "df = df.dropna()"
   ]
  },
  {
   "cell_type": "code",
   "execution_count": 9,
   "id": "judicial-navigator",
   "metadata": {},
   "outputs": [
    {
     "data": {
      "text/plain": [
       "sentiment        0\n",
       "Snowball_Stem    0\n",
       "dtype: int64"
      ]
     },
     "execution_count": 9,
     "metadata": {},
     "output_type": "execute_result"
    }
   ],
   "source": [
    "df.isna().sum()"
   ]
  },
  {
   "cell_type": "code",
   "execution_count": 10,
   "id": "enabling-ontario",
   "metadata": {},
   "outputs": [],
   "source": [
    "X= df['Snowball_Stem']"
   ]
  },
  {
   "cell_type": "code",
   "execution_count": 11,
   "id": "portable-editor",
   "metadata": {},
   "outputs": [],
   "source": [
    "y = df['sentiment']"
   ]
  },
  {
   "cell_type": "code",
   "execution_count": 12,
   "id": "instant-float",
   "metadata": {},
   "outputs": [],
   "source": [
    "X_train, X_test, y_train, y_test = train_test_split(X, y)"
   ]
  },
  {
   "cell_type": "code",
   "execution_count": 13,
   "id": "expired-bikini",
   "metadata": {},
   "outputs": [
    {
     "data": {
      "text/plain": [
       "((1193965,), (397989,), (1193965,), (397989,))"
      ]
     },
     "execution_count": 13,
     "metadata": {},
     "output_type": "execute_result"
    }
   ],
   "source": [
    "X_train.shape, X_test.shape, y_train.shape, y_test.shape"
   ]
  },
  {
   "cell_type": "markdown",
   "id": "surrounded-island",
   "metadata": {},
   "source": [
    "# 5. Applying TFIDF Unigram"
   ]
  },
  {
   "cell_type": "code",
   "execution_count": 14,
   "id": "invalid-binding",
   "metadata": {},
   "outputs": [],
   "source": [
    "# v1 = TfidfVectorizer()\n",
    "# v1.fit(X)"
   ]
  },
  {
   "cell_type": "code",
   "execution_count": 15,
   "id": "advisory-atlas",
   "metadata": {},
   "outputs": [],
   "source": [
    "# X1_train = v1.transform(X_train)\n",
    "# X1_test = v1.transform(X_test)"
   ]
  },
  {
   "cell_type": "markdown",
   "id": "placed-sheriff",
   "metadata": {},
   "source": [
    "# 6. Applying TFIDF Bigram"
   ]
  },
  {
   "cell_type": "code",
   "execution_count": 16,
   "id": "reasonable-vermont",
   "metadata": {},
   "outputs": [],
   "source": [
    "# v2 = TfidfVectorizer(ngram_range = (2, 2))\n",
    "# v2.fit(X)"
   ]
  },
  {
   "cell_type": "code",
   "execution_count": 17,
   "id": "eligible-platinum",
   "metadata": {},
   "outputs": [],
   "source": [
    "# X2_train = v2.transform(X_train)\n",
    "# X2_test = v2.transform(X_test)"
   ]
  },
  {
   "cell_type": "markdown",
   "id": "modular-joint",
   "metadata": {},
   "source": [
    "# 7. TFIDF Unigram + Bigram"
   ]
  },
  {
   "cell_type": "code",
   "execution_count": 18,
   "id": "vertical-mistress",
   "metadata": {},
   "outputs": [
    {
     "data": {
      "text/plain": [
       "TfidfVectorizer(ngram_range=(1, 2))"
      ]
     },
     "execution_count": 18,
     "metadata": {},
     "output_type": "execute_result"
    }
   ],
   "source": [
    "v3 = TfidfVectorizer(ngram_range = (1, 2))\n",
    "v3.fit(X)"
   ]
  },
  {
   "cell_type": "code",
   "execution_count": 19,
   "id": "present-replacement",
   "metadata": {},
   "outputs": [],
   "source": [
    "X3_train = v3.transform(X_train)\n",
    "X3_test = v3.transform(X_test)"
   ]
  },
  {
   "cell_type": "markdown",
   "id": "fitted-happiness",
   "metadata": {},
   "source": [
    "# Encoding labels"
   ]
  },
  {
   "cell_type": "code",
   "execution_count": 20,
   "id": "heavy-monday",
   "metadata": {},
   "outputs": [],
   "source": [
    "Encoder = LabelEncoder()\n",
    "y_train = Encoder.fit_transform(y_train)\n",
    "y_test = Encoder.fit_transform(y_test)"
   ]
  },
  {
   "cell_type": "markdown",
   "id": "asian-choice",
   "metadata": {},
   "source": [
    "# Running naive bayes"
   ]
  },
  {
   "cell_type": "code",
   "execution_count": 21,
   "id": "environmental-algeria",
   "metadata": {},
   "outputs": [],
   "source": [
    "# Naive1 = naive_bayes.MultinomialNB()\n",
    "# Naive1.fit(X1_train,y_train)"
   ]
  },
  {
   "cell_type": "code",
   "execution_count": 22,
   "id": "distinct-sentence",
   "metadata": {},
   "outputs": [],
   "source": [
    "# Naive2 = naive_bayes.MultinomialNB()\n",
    "# Naive2.fit(X2_train,y_train)"
   ]
  },
  {
   "cell_type": "code",
   "execution_count": 23,
   "id": "collective-lyric",
   "metadata": {},
   "outputs": [],
   "source": [
    "# NB1 = Naive1.predict(X1_test)\n",
    "# NB2 = Naive2.predict(X2_test)"
   ]
  },
  {
   "cell_type": "code",
   "execution_count": 24,
   "id": "laden-triangle",
   "metadata": {},
   "outputs": [],
   "source": [
    "# print(\"Naive Bayes Unigram Accuracy Score -> \",accuracy_score(NB1, y_test)*100)"
   ]
  },
  {
   "cell_type": "code",
   "execution_count": 25,
   "id": "ranking-rally",
   "metadata": {},
   "outputs": [],
   "source": [
    "# print(\"Naive Bayes Bigram Accuracy Score -> \",accuracy_score(NB2, y_test)*100)"
   ]
  },
  {
   "cell_type": "code",
   "execution_count": 26,
   "id": "alike-massachusetts",
   "metadata": {},
   "outputs": [
    {
     "data": {
      "text/plain": [
       "MultinomialNB()"
      ]
     },
     "execution_count": 26,
     "metadata": {},
     "output_type": "execute_result"
    }
   ],
   "source": [
    "Naive3= naive_bayes.MultinomialNB()\n",
    "Naive3.fit(X3_train,y_train)"
   ]
  },
  {
   "cell_type": "code",
   "execution_count": 27,
   "id": "unnecessary-disease",
   "metadata": {},
   "outputs": [],
   "source": [
    "NB3 = Naive3.predict(X3_test)"
   ]
  },
  {
   "cell_type": "code",
   "execution_count": 28,
   "id": "proper-effectiveness",
   "metadata": {},
   "outputs": [
    {
     "name": "stdout",
     "output_type": "stream",
     "text": [
      "Naive Bayes Bigram Accuracy Score ->  77.87652422554392\n"
     ]
    }
   ],
   "source": [
    "print(\"Naive Bayes Bigram Accuracy Score -> \",accuracy_score(NB3, y_test)*100)"
   ]
  },
  {
   "cell_type": "markdown",
   "id": "raised-large",
   "metadata": {},
   "source": [
    "# 5. Reduce dataframe size"
   ]
  },
  {
   "cell_type": "code",
   "execution_count": 29,
   "id": "white-wildlife",
   "metadata": {},
   "outputs": [
    {
     "data": {
      "text/plain": [
       "(795860, 2)"
      ]
     },
     "execution_count": 29,
     "metadata": {},
     "output_type": "execute_result"
    }
   ],
   "source": [
    "df[df.sentiment != 0].shape"
   ]
  },
  {
   "cell_type": "code",
   "execution_count": 30,
   "id": "patent-thumb",
   "metadata": {},
   "outputs": [
    {
     "data": {
      "text/plain": [
       "(796094, 2)"
      ]
     },
     "execution_count": 30,
     "metadata": {},
     "output_type": "execute_result"
    }
   ],
   "source": [
    "df[df.sentiment == 0].shape"
   ]
  },
  {
   "cell_type": "code",
   "execution_count": 31,
   "id": "cordless-upset",
   "metadata": {},
   "outputs": [
    {
     "data": {
      "text/plain": [
       "(200000, 2)"
      ]
     },
     "execution_count": 31,
     "metadata": {},
     "output_type": "execute_result"
    }
   ],
   "source": [
    "df[df.sentiment != 0][:200000].shape"
   ]
  },
  {
   "cell_type": "code",
   "execution_count": 32,
   "id": "excited-bicycle",
   "metadata": {},
   "outputs": [
    {
     "data": {
      "text/plain": [
       "(200000, 2)"
      ]
     },
     "execution_count": 32,
     "metadata": {},
     "output_type": "execute_result"
    }
   ],
   "source": [
    "df[df.sentiment == 0][:200000].shape"
   ]
  },
  {
   "cell_type": "code",
   "execution_count": 33,
   "id": "hungry-halifax",
   "metadata": {},
   "outputs": [],
   "source": [
    "reduced_df = pd.concat([df[df.sentiment != 0][:50000], df[df.sentiment == 0][:50000]])"
   ]
  },
  {
   "cell_type": "code",
   "execution_count": 34,
   "id": "fundamental-sperm",
   "metadata": {},
   "outputs": [
    {
     "data": {
      "text/plain": [
       "(100000, 2)"
      ]
     },
     "execution_count": 34,
     "metadata": {},
     "output_type": "execute_result"
    }
   ],
   "source": [
    "reduced_df.shape"
   ]
  },
  {
   "cell_type": "code",
   "execution_count": 35,
   "id": "duplicate-enforcement",
   "metadata": {},
   "outputs": [],
   "source": [
    "df = reduced_df"
   ]
  },
  {
   "cell_type": "code",
   "execution_count": 36,
   "id": "adverse-experience",
   "metadata": {},
   "outputs": [],
   "source": [
    "X= df['Snowball_Stem']"
   ]
  },
  {
   "cell_type": "code",
   "execution_count": 37,
   "id": "solved-flash",
   "metadata": {},
   "outputs": [],
   "source": [
    "y = df['sentiment']"
   ]
  },
  {
   "cell_type": "code",
   "execution_count": 38,
   "id": "differential-montgomery",
   "metadata": {},
   "outputs": [],
   "source": [
    "X_train, X_test, y_train, y_test = train_test_split(X, y)"
   ]
  },
  {
   "cell_type": "code",
   "execution_count": 63,
   "id": "italian-september",
   "metadata": {},
   "outputs": [
    {
     "data": {
      "text/plain": [
       "((75000,), (25000,), (75000,), (25000,))"
      ]
     },
     "execution_count": 63,
     "metadata": {},
     "output_type": "execute_result"
    }
   ],
   "source": [
    "X_train.shape, X_test.shape, y_train.shape, y_test.shape"
   ]
  },
  {
   "cell_type": "markdown",
   "id": "ambient-plaintiff",
   "metadata": {},
   "source": [
    "# TFIDF on reduced data"
   ]
  },
  {
   "cell_type": "code",
   "execution_count": 40,
   "id": "allied-crime",
   "metadata": {},
   "outputs": [],
   "source": [
    "# X1_train = v1.transform(X_train)\n",
    "# X1_test = v1.transform(X_test)"
   ]
  },
  {
   "cell_type": "code",
   "execution_count": 41,
   "id": "superior-validation",
   "metadata": {},
   "outputs": [],
   "source": [
    "# X2_train = v2.transform(X_train)\n",
    "# X2_test = v2.transform(X_test)"
   ]
  },
  {
   "cell_type": "code",
   "execution_count": 62,
   "id": "nominated-luxury",
   "metadata": {},
   "outputs": [],
   "source": [
    "X3_train = v3.transform(X_train)\n",
    "X3_test = v3.transform(X_test)"
   ]
  },
  {
   "cell_type": "markdown",
   "id": "brave-pasta",
   "metadata": {},
   "source": [
    "# Running SVM"
   ]
  },
  {
   "cell_type": "code",
   "execution_count": 43,
   "id": "functional-humanitarian",
   "metadata": {},
   "outputs": [],
   "source": [
    "#SVM = svm.SVC(C=1.0, kernel='linear', degree=1, gamma='auto')"
   ]
  },
  {
   "cell_type": "code",
   "execution_count": 44,
   "id": "funded-banner",
   "metadata": {},
   "outputs": [],
   "source": [
    "# SVM.fit(X1_train,y_train)"
   ]
  },
  {
   "cell_type": "code",
   "execution_count": 45,
   "id": "activated-shame",
   "metadata": {},
   "outputs": [],
   "source": [
    "# predict the labels on validation dataset\n",
    "# SVM1_predictions = SVM.predict(X1_test)"
   ]
  },
  {
   "cell_type": "code",
   "execution_count": 46,
   "id": "mobile-sustainability",
   "metadata": {},
   "outputs": [],
   "source": [
    "# Use accuracy_score function to get the accuracy\n",
    "# print(\"SVM Accuracy Score -> \",accuracy_score(SVM1_predictions, y_test)*100)"
   ]
  },
  {
   "cell_type": "code",
   "execution_count": 47,
   "id": "usual-turkey",
   "metadata": {},
   "outputs": [],
   "source": [
    "# SVM2 = svm.SVC(C=1.0, kernel='linear', degree=1, gamma='auto')"
   ]
  },
  {
   "cell_type": "code",
   "execution_count": 48,
   "id": "standard-china",
   "metadata": {},
   "outputs": [],
   "source": [
    "# SVM2.fit(X2_train,y_train)"
   ]
  },
  {
   "cell_type": "code",
   "execution_count": 49,
   "id": "removed-tract",
   "metadata": {},
   "outputs": [],
   "source": [
    "# SVM2_predictions = SVM2.predict(X2_test)"
   ]
  },
  {
   "cell_type": "code",
   "execution_count": 50,
   "id": "hawaiian-tender",
   "metadata": {},
   "outputs": [],
   "source": [
    "# print(\"SVM Accuracy Score -> \",accuracy_score(SVM2_predictions, y_test)*100)"
   ]
  },
  {
   "cell_type": "code",
   "execution_count": 64,
   "id": "civic-privilege",
   "metadata": {},
   "outputs": [],
   "source": [
    "SVM3 = svm.SVC(kernel='linear')"
   ]
  },
  {
   "cell_type": "code",
   "execution_count": 65,
   "id": "visible-african",
   "metadata": {},
   "outputs": [
    {
     "data": {
      "text/plain": [
       "SVC(kernel='linear')"
      ]
     },
     "execution_count": 65,
     "metadata": {},
     "output_type": "execute_result"
    }
   ],
   "source": [
    "SVM3.fit(X3_train,y_train)"
   ]
  },
  {
   "cell_type": "code",
   "execution_count": 66,
   "id": "buried-bleeding",
   "metadata": {},
   "outputs": [
    {
     "name": "stdout",
     "output_type": "stream",
     "text": [
      "SVM Accuracy Score ->  77.24\n"
     ]
    }
   ],
   "source": [
    "SVM3_pred = SVM3.predict(X3_test)\n",
    "print(\"SVM Accuracy Score -> \",accuracy_score(SVM3_pred, y_test)*100)"
   ]
  },
  {
   "cell_type": "markdown",
   "id": "extreme-spokesman",
   "metadata": {},
   "source": [
    "---"
   ]
  },
  {
   "cell_type": "markdown",
   "id": "exact-dayton",
   "metadata": {},
   "source": [
    "# Saving the models"
   ]
  },
  {
   "cell_type": "code",
   "execution_count": 67,
   "id": "grand-dating",
   "metadata": {},
   "outputs": [],
   "source": [
    " import pickle"
   ]
  },
  {
   "cell_type": "code",
   "execution_count": 70,
   "id": "beginning-learning",
   "metadata": {},
   "outputs": [],
   "source": [
    "SVM_model_path = \"./SVM_UnigramBigram_77.pickle\"\n",
    "NB_model_path = \"./NB_UnigramBigram_78.pickle\"\n",
    "vectorizer_path =\"./UnigramBigram_vectorizer.pickle\""
   ]
  },
  {
   "cell_type": "code",
   "execution_count": 71,
   "id": "aware-progressive",
   "metadata": {},
   "outputs": [],
   "source": [
    "# pickle.dump(Naive3, open(NB_model_path, 'wb'))\n",
    "pickle.dump(SVM3, open(SVM_model_path,'wb'))\n",
    "# pickle.dump(v3, open(vectorizer_path, 'wb'))"
   ]
  },
  {
   "cell_type": "code",
   "execution_count": null,
   "id": "silver-colonial",
   "metadata": {},
   "outputs": [],
   "source": []
  }
 ],
 "metadata": {
  "kernelspec": {
   "display_name": "Python 3",
   "language": "python",
   "name": "python3"
  },
  "language_info": {
   "codemirror_mode": {
    "name": "ipython",
    "version": 3
   },
   "file_extension": ".py",
   "mimetype": "text/x-python",
   "name": "python",
   "nbconvert_exporter": "python",
   "pygments_lexer": "ipython3",
   "version": "3.8.5"
  }
 },
 "nbformat": 4,
 "nbformat_minor": 5
}
