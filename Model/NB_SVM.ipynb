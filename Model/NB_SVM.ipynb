{
 "cells": [
  {
   "cell_type": "markdown",
   "id": "charming-picking",
   "metadata": {},
   "source": [
    "# SVM and Naive Bayes model for classification of tweet sentiment"
   ]
  },
  {
   "cell_type": "markdown",
   "id": "dutch-advancement",
   "metadata": {},
   "source": [
    "---"
   ]
  },
  {
   "cell_type": "markdown",
   "id": "uniform-freedom",
   "metadata": {},
   "source": [
    "# 1. Installs and imports"
   ]
  },
  {
   "cell_type": "markdown",
   "id": "aquatic-cedar",
   "metadata": {},
   "source": [
    "## 1.1. Install all required libraries"
   ]
  },
  {
   "cell_type": "code",
   "execution_count": 1,
   "id": "unknown-might",
   "metadata": {},
   "outputs": [],
   "source": [
    "# Uncomment line below to install all required libraries\n",
    "# !pip3 install -r ../requirements.txt -q"
   ]
  },
  {
   "cell_type": "markdown",
   "id": "incident-pepper",
   "metadata": {},
   "source": [
    "## 1.2. Import required libraries"
   ]
  },
  {
   "cell_type": "code",
   "execution_count": 2,
   "id": "broadband-interview",
   "metadata": {},
   "outputs": [],
   "source": [
    "import nltk\n",
    "import re\n",
    "from sklearn.feature_extraction.text import CountVectorizer, TfidfVectorizer\n",
    "from nltk.corpus import stopwords\n",
    "from nltk.tokenize import word_tokenize\n",
    "import pandas as pd\n",
    "from sklearn.model_selection import train_test_split\n",
    "from sklearn.preprocessing import LabelEncoder\n",
    "from sklearn import model_selection, naive_bayes, svm\n",
    "import numpy as np\n",
    "from sklearn.metrics import accuracy_score"
   ]
  },
  {
   "cell_type": "markdown",
   "id": "antique-casino",
   "metadata": {},
   "source": [
    "# 2. Load cleaned tweets dataset"
   ]
  },
  {
   "cell_type": "code",
   "execution_count": 3,
   "id": "extra-soccer",
   "metadata": {},
   "outputs": [],
   "source": [
    "df = pd.read_csv('./cleaned_tweets.csv')"
   ]
  },
  {
   "cell_type": "code",
   "execution_count": 4,
   "id": "danish-spectrum",
   "metadata": {},
   "outputs": [],
   "source": [
    "np.random.seed(450)"
   ]
  },
  {
   "cell_type": "markdown",
   "id": "understanding-pendant",
   "metadata": {},
   "source": [
    "# 3. Drop text"
   ]
  },
  {
   "cell_type": "code",
   "execution_count": 5,
   "id": "mounted-queensland",
   "metadata": {},
   "outputs": [],
   "source": [
    "df = df[['sentiment', 'Snowball_Stem']]"
   ]
  },
  {
   "cell_type": "code",
   "execution_count": 6,
   "id": "dominican-blood",
   "metadata": {},
   "outputs": [
    {
     "data": {
      "text/html": [
       "<div>\n",
       "<style scoped>\n",
       "    .dataframe tbody tr th:only-of-type {\n",
       "        vertical-align: middle;\n",
       "    }\n",
       "\n",
       "    .dataframe tbody tr th {\n",
       "        vertical-align: top;\n",
       "    }\n",
       "\n",
       "    .dataframe thead th {\n",
       "        text-align: right;\n",
       "    }\n",
       "</style>\n",
       "<table border=\"1\" class=\"dataframe\">\n",
       "  <thead>\n",
       "    <tr style=\"text-align: right;\">\n",
       "      <th></th>\n",
       "      <th>sentiment</th>\n",
       "      <th>Snowball_Stem</th>\n",
       "    </tr>\n",
       "  </thead>\n",
       "  <tbody>\n",
       "    <tr>\n",
       "      <th>0</th>\n",
       "      <td>0</td>\n",
       "      <td>awww that bummer shoulda got david carr third day</td>\n",
       "    </tr>\n",
       "    <tr>\n",
       "      <th>1</th>\n",
       "      <td>0</td>\n",
       "      <td>upset cant updat facebook text might cri resul...</td>\n",
       "    </tr>\n",
       "    <tr>\n",
       "      <th>2</th>\n",
       "      <td>0</td>\n",
       "      <td>dive mani time ball manag save rest go bound</td>\n",
       "    </tr>\n",
       "    <tr>\n",
       "      <th>3</th>\n",
       "      <td>0</td>\n",
       "      <td>whole bodi feel itchi like fire</td>\n",
       "    </tr>\n",
       "    <tr>\n",
       "      <th>4</th>\n",
       "      <td>0</td>\n",
       "      <td>behav im mad cant see</td>\n",
       "    </tr>\n",
       "  </tbody>\n",
       "</table>\n",
       "</div>"
      ],
      "text/plain": [
       "   sentiment                                      Snowball_Stem\n",
       "0          0  awww that bummer shoulda got david carr third day\n",
       "1          0  upset cant updat facebook text might cri resul...\n",
       "2          0       dive mani time ball manag save rest go bound\n",
       "3          0                    whole bodi feel itchi like fire\n",
       "4          0                              behav im mad cant see"
      ]
     },
     "execution_count": 6,
     "metadata": {},
     "output_type": "execute_result"
    }
   ],
   "source": [
    "df.head()"
   ]
  },
  {
   "cell_type": "markdown",
   "id": "atlantic-library",
   "metadata": {},
   "source": [
    "# 4. Drop rows with NaN"
   ]
  },
  {
   "cell_type": "code",
   "execution_count": 7,
   "id": "taken-season",
   "metadata": {},
   "outputs": [
    {
     "data": {
      "text/plain": [
       "sentiment           0\n",
       "Snowball_Stem    7661\n",
       "dtype: int64"
      ]
     },
     "execution_count": 7,
     "metadata": {},
     "output_type": "execute_result"
    }
   ],
   "source": [
    "df.isna().sum()"
   ]
  },
  {
   "cell_type": "code",
   "execution_count": 8,
   "id": "worse-clearing",
   "metadata": {},
   "outputs": [],
   "source": [
    "df = df.dropna()"
   ]
  },
  {
   "cell_type": "code",
   "execution_count": 9,
   "id": "healthy-martin",
   "metadata": {},
   "outputs": [
    {
     "data": {
      "text/plain": [
       "sentiment        0\n",
       "Snowball_Stem    0\n",
       "dtype: int64"
      ]
     },
     "execution_count": 9,
     "metadata": {},
     "output_type": "execute_result"
    }
   ],
   "source": [
    "df.isna().sum()"
   ]
  },
  {
   "cell_type": "code",
   "execution_count": 10,
   "id": "promotional-theta",
   "metadata": {},
   "outputs": [],
   "source": [
    "X= df['Snowball_Stem']"
   ]
  },
  {
   "cell_type": "code",
   "execution_count": 11,
   "id": "smooth-visit",
   "metadata": {},
   "outputs": [],
   "source": [
    "y = df['sentiment']"
   ]
  },
  {
   "cell_type": "code",
   "execution_count": 12,
   "id": "valuable-bundle",
   "metadata": {},
   "outputs": [],
   "source": [
    "X_train, X_test, y_train, y_test = train_test_split(X, y)"
   ]
  },
  {
   "cell_type": "code",
   "execution_count": 13,
   "id": "confused-genius",
   "metadata": {},
   "outputs": [
    {
     "data": {
      "text/plain": [
       "((1194254,), (398085,), (1194254,), (398085,))"
      ]
     },
     "execution_count": 13,
     "metadata": {},
     "output_type": "execute_result"
    }
   ],
   "source": [
    "X_train.shape, X_test.shape, y_train.shape, y_test.shape"
   ]
  },
  {
   "cell_type": "markdown",
   "id": "specified-supplier",
   "metadata": {},
   "source": [
    "# 5. Applying TFIDF Unigram"
   ]
  },
  {
   "cell_type": "code",
   "execution_count": 14,
   "id": "sexual-prairie",
   "metadata": {},
   "outputs": [],
   "source": [
    "v1 = TfidfVectorizer()\n",
    "v1.fit(X)"
   ]
  },
  {
   "cell_type": "code",
   "execution_count": 14,
   "id": "terminal-melbourne",
   "metadata": {},
   "outputs": [],
   "source": [
    "X1_train = v1.transform(X_train)\n",
    "X1_test = v1.transform(X_test)"
   ]
  },
  {
   "cell_type": "markdown",
   "id": "complicated-contrary",
   "metadata": {},
   "source": [
    "# 6. Applying TFIDF Bigram"
   ]
  },
  {
   "cell_type": "code",
   "execution_count": 15,
   "id": "noted-tolerance",
   "metadata": {},
   "outputs": [],
   "source": [
    "v2 = TfidfVectorizer(ngram_range = (2, 2))\n",
    "v2.fit(X)"
   ]
  },
  {
   "cell_type": "code",
   "execution_count": 15,
   "id": "liquid-trainer",
   "metadata": {},
   "outputs": [],
   "source": [
    "X2_train = v2.transform(X_train)\n",
    "X2_test = v2.transform(X_test)"
   ]
  },
  {
   "cell_type": "markdown",
   "id": "independent-frank",
   "metadata": {},
   "source": [
    "# 7. TFIDF Unigram + Bigram"
   ]
  },
  {
   "cell_type": "code",
   "execution_count": 17,
   "id": "adverse-credits",
   "metadata": {},
   "outputs": [
    {
     "data": {
      "text/plain": [
       "TfidfVectorizer(ngram_range=(1, 2))"
      ]
     },
     "execution_count": 17,
     "metadata": {},
     "output_type": "execute_result"
    }
   ],
   "source": [
    "v3 = TfidfVectorizer(ngram_range = (1, 2))\n",
    "v3.fit(X)"
   ]
  },
  {
   "cell_type": "code",
   "execution_count": 18,
   "id": "immune-speaker",
   "metadata": {},
   "outputs": [],
   "source": [
    "X3_train = v3.transform(X_train)\n",
    "X3_test = v3.transform(X_test)"
   ]
  },
  {
   "cell_type": "markdown",
   "id": "plain-hydrogen",
   "metadata": {},
   "source": [
    "# Encoding labels"
   ]
  },
  {
   "cell_type": "code",
   "execution_count": 19,
   "id": "latin-prize",
   "metadata": {},
   "outputs": [],
   "source": [
    "Encoder = LabelEncoder()\n",
    "y_train = Encoder.fit_transform(y_train)\n",
    "y_test = Encoder.fit_transform(y_test)"
   ]
  },
  {
   "cell_type": "markdown",
   "id": "residential-script",
   "metadata": {},
   "source": [
    "# Running naive bayes"
   ]
  },
  {
   "cell_type": "code",
   "execution_count": 20,
   "id": "original-going",
   "metadata": {},
   "outputs": [],
   "source": [
    "Naive1 = naive_bayes.MultinomialNB()\n",
    "Naive1.fit(X1_train,y_train)"
   ]
  },
  {
   "cell_type": "code",
   "execution_count": 20,
   "id": "mediterranean-humidity",
   "metadata": {},
   "outputs": [
    {
     "data": {
      "text/plain": [
       "MultinomialNB()"
      ]
     },
     "execution_count": 20,
     "metadata": {},
     "output_type": "execute_result"
    }
   ],
   "source": [
    "Naive2 = naive_bayes.MultinomialNB()\n",
    "Naive2.fit(X2_train,y_train)"
   ]
  },
  {
   "cell_type": "code",
   "execution_count": 21,
   "id": "comparative-bacteria",
   "metadata": {},
   "outputs": [],
   "source": [
    "NB1 = Naive1.predict(X1_test)\n",
    "NB2 = Naive2.predict(X2_test)"
   ]
  },
  {
   "cell_type": "code",
   "execution_count": 22,
   "id": "skilled-mention",
   "metadata": {},
   "outputs": [],
   "source": [
    "print(\"Naive Bayes Unigram Accuracy Score -> \",accuracy_score(NB1, y_test)*100)"
   ]
  },
  {
   "cell_type": "code",
   "execution_count": 22,
   "id": "improved-bronze",
   "metadata": {},
   "outputs": [
    {
     "name": "stdout",
     "output_type": "stream",
     "text": [
      "Naive Bayes Unigram Accuracy Score ->  76.1231897710288\n",
      "Naive Bayes Bigram Accuracy Score ->  74.31302360048734\n"
     ]
    }
   ],
   "source": [
    "print(\"Naive Bayes Bigram Accuracy Score -> \",accuracy_score(NB2, y_test)*100)"
   ]
  },
  {
   "cell_type": "code",
   "execution_count": 23,
   "id": "ready-theme",
   "metadata": {},
   "outputs": [
    {
     "data": {
      "text/plain": [
       "MultinomialNB()"
      ]
     },
     "execution_count": 23,
     "metadata": {},
     "output_type": "execute_result"
    }
   ],
   "source": [
    "Naive3= naive_bayes.MultinomialNB()\n",
    "Naive3.fit(X3_train,y_train)"
   ]
  },
  {
   "cell_type": "code",
   "execution_count": 24,
   "id": "acute-explosion",
   "metadata": {},
   "outputs": [],
   "source": [
    "NB3 = Naive3.predict(X3_test)"
   ]
  },
  {
   "cell_type": "code",
   "execution_count": 25,
   "id": "welcome-advocacy",
   "metadata": {},
   "outputs": [
    {
     "name": "stdout",
     "output_type": "stream",
     "text": [
      "Naive Bayes Bigram Accuracy Score ->  78.26871145609606\n"
     ]
    }
   ],
   "source": [
    "print(\"Naive Bayes Bigram Accuracy Score -> \",accuracy_score(NB3, y_test)*100)"
   ]
  },
  {
   "cell_type": "markdown",
   "id": "aware-northwest",
   "metadata": {},
   "source": [
    "# 5. Reduce dataframe size"
   ]
  },
  {
   "cell_type": "code",
   "execution_count": 26,
   "id": "applied-cotton",
   "metadata": {},
   "outputs": [
    {
     "data": {
      "text/plain": [
       "(796018, 2)"
      ]
     },
     "execution_count": 26,
     "metadata": {},
     "output_type": "execute_result"
    }
   ],
   "source": [
    "df[df.sentiment != 0].shape"
   ]
  },
  {
   "cell_type": "code",
   "execution_count": 27,
   "id": "devoted-store",
   "metadata": {},
   "outputs": [
    {
     "data": {
      "text/plain": [
       "(796321, 2)"
      ]
     },
     "execution_count": 27,
     "metadata": {},
     "output_type": "execute_result"
    }
   ],
   "source": [
    "df[df.sentiment == 0].shape"
   ]
  },
  {
   "cell_type": "code",
   "execution_count": 28,
   "id": "romance-closer",
   "metadata": {},
   "outputs": [
    {
     "data": {
      "text/plain": [
       "(200000, 2)"
      ]
     },
     "execution_count": 28,
     "metadata": {},
     "output_type": "execute_result"
    }
   ],
   "source": [
    "df[df.sentiment != 0][:200000].shape"
   ]
  },
  {
   "cell_type": "code",
   "execution_count": 29,
   "id": "stuck-midnight",
   "metadata": {},
   "outputs": [
    {
     "data": {
      "text/plain": [
       "(200000, 2)"
      ]
     },
     "execution_count": 29,
     "metadata": {},
     "output_type": "execute_result"
    }
   ],
   "source": [
    "df[df.sentiment == 0][:200000].shape"
   ]
  },
  {
   "cell_type": "code",
   "execution_count": 30,
   "id": "whole-ceramic",
   "metadata": {},
   "outputs": [],
   "source": [
    "reduced_df = pd.concat([df[df.sentiment != 0][:10000], df[df.sentiment == 0][:10000]])"
   ]
  },
  {
   "cell_type": "code",
   "execution_count": 31,
   "id": "emotional-immunology",
   "metadata": {},
   "outputs": [
    {
     "data": {
      "text/plain": [
       "(20000, 2)"
      ]
     },
     "execution_count": 31,
     "metadata": {},
     "output_type": "execute_result"
    }
   ],
   "source": [
    "reduced_df.shape"
   ]
  },
  {
   "cell_type": "code",
   "execution_count": 32,
   "id": "frozen-settle",
   "metadata": {},
   "outputs": [],
   "source": [
    "df = reduced_df"
   ]
  },
  {
   "cell_type": "code",
   "execution_count": 33,
   "id": "experienced-diary",
   "metadata": {},
   "outputs": [],
   "source": [
    "X= df['Snowball_Stem']"
   ]
  },
  {
   "cell_type": "code",
   "execution_count": 34,
   "id": "separated-carry",
   "metadata": {},
   "outputs": [],
   "source": [
    "y = df['sentiment']"
   ]
  },
  {
   "cell_type": "code",
   "execution_count": 35,
   "id": "monetary-source",
   "metadata": {},
   "outputs": [],
   "source": [
    "X_train, X_test, y_train, y_test = train_test_split(X, y)"
   ]
  },
  {
   "cell_type": "code",
   "execution_count": 36,
   "id": "nervous-matrix",
   "metadata": {},
   "outputs": [
    {
     "data": {
      "text/plain": [
       "((15000,), (5000,), (15000,), (5000,))"
      ]
     },
     "execution_count": 36,
     "metadata": {},
     "output_type": "execute_result"
    }
   ],
   "source": [
    "X_train.shape, X_test.shape, y_train.shape, y_test.shape"
   ]
  },
  {
   "cell_type": "markdown",
   "id": "abstract-share",
   "metadata": {},
   "source": [
    "# TFIDF on reduced data"
   ]
  },
  {
   "cell_type": "code",
   "execution_count": 37,
   "id": "spatial-omaha",
   "metadata": {},
   "outputs": [],
   "source": [
    "X1_train = v1.transform(X_train)\n",
    "X1_test = v1.transform(X_test)"
   ]
  },
  {
   "cell_type": "code",
   "execution_count": 38,
   "id": "exterior-intranet",
   "metadata": {},
   "outputs": [],
   "source": [
    "X2_train = v2.transform(X_train)\n",
    "X2_test = v2.transform(X_test)"
   ]
  },
  {
   "cell_type": "code",
   "execution_count": 39,
   "id": "focused-booking",
   "metadata": {},
   "outputs": [],
   "source": [
    "X3_train = v3.transform(X_train)\n",
    "X3_test = v3.transform(X_test)"
   ]
  },
  {
   "cell_type": "markdown",
   "id": "indie-leeds",
   "metadata": {},
   "source": [
    "# Running SVM"
   ]
  },
  {
   "cell_type": "code",
   "execution_count": 40,
   "id": "acquired-baptist",
   "metadata": {},
   "outputs": [],
   "source": [
    "SVM = svm.SVC(C=1.0, kernel='linear', degree=1, gamma='auto')"
   ]
  },
  {
   "cell_type": "code",
   "execution_count": 41,
   "id": "revolutionary-orlando",
   "metadata": {},
   "outputs": [
    {
     "data": {
      "text/plain": [
       "SVC(degree=1, gamma='auto', kernel='linear')"
      ]
     },
     "execution_count": 41,
     "metadata": {},
     "output_type": "execute_result"
    }
   ],
   "source": [
    "SVM.fit(X1_train,y_train)"
   ]
  },
  {
   "cell_type": "code",
   "execution_count": 42,
   "id": "urban-programmer",
   "metadata": {},
   "outputs": [],
   "source": [
    "# predict the labels on validation dataset\n",
    "SVM1_predictions = SVM.predict(X1_test)"
   ]
  },
  {
   "cell_type": "code",
   "execution_count": 44,
   "id": "hazardous-division",
   "metadata": {},
   "outputs": [
    {
     "name": "stdout",
     "output_type": "stream",
     "text": [
      "SVM Accuracy Score ->  73.86\n"
     ]
    }
   ],
   "source": [
    "# Use accuracy_score function to get the accuracy\n",
    "print(\"SVM Accuracy Score -> \",accuracy_score(SVM1_predictions, y_test)*100)"
   ]
  },
  {
   "cell_type": "code",
   "execution_count": 45,
   "id": "animated-trade",
   "metadata": {},
   "outputs": [],
   "source": [
    "SVM2 = svm.SVC(C=1.0, kernel='linear', degree=1, gamma='auto')"
   ]
  },
  {
   "cell_type": "code",
   "execution_count": 46,
   "id": "hawaiian-external",
   "metadata": {},
   "outputs": [
    {
     "data": {
      "text/plain": [
       "SVC(degree=1, gamma='auto', kernel='linear')"
      ]
     },
     "execution_count": 46,
     "metadata": {},
     "output_type": "execute_result"
    }
   ],
   "source": [
    "SVM2.fit(X2_train,y_train)"
   ]
  },
  {
   "cell_type": "code",
   "execution_count": 47,
   "id": "comprehensive-membership",
   "metadata": {},
   "outputs": [],
   "source": [
    "SVM2_predictions = SVM2.predict(X2_test)"
   ]
  },
  {
   "cell_type": "code",
   "execution_count": 48,
   "id": "cross-gabriel",
   "metadata": {},
   "outputs": [
    {
     "name": "stdout",
     "output_type": "stream",
     "text": [
      "SVM Accuracy Score ->  64.1\n"
     ]
    }
   ],
   "source": [
    "print(\"SVM Accuracy Score -> \",accuracy_score(SVM2_predictions, y_test)*100)"
   ]
  },
  {
   "cell_type": "code",
   "execution_count": 49,
   "id": "cardiovascular-rouge",
   "metadata": {},
   "outputs": [],
   "source": [
    "SVM3 = svm.SVC()"
   ]
  },
  {
   "cell_type": "code",
   "execution_count": 50,
   "id": "spare-restaurant",
   "metadata": {},
   "outputs": [
    {
     "data": {
      "text/plain": [
       "SVC()"
      ]
     },
     "execution_count": 50,
     "metadata": {},
     "output_type": "execute_result"
    }
   ],
   "source": [
    "SVM3.fit(X3_train,y_train)"
   ]
  },
  {
   "cell_type": "code",
   "execution_count": 51,
   "id": "cellular-transition",
   "metadata": {},
   "outputs": [
    {
     "name": "stdout",
     "output_type": "stream",
     "text": [
      "SVM Accuracy Score ->  75.14\n"
     ]
    }
   ],
   "source": [
    "SVM3_pred = SVM3.predict(X3_test)\n",
    "print(\"SVM Accuracy Score -> \",accuracy_score(SVM3_pred, y_test)*100)"
   ]
  },
  {
   "cell_type": "markdown",
   "id": "metric-appliance",
   "metadata": {},
   "source": [
    "---"
   ]
  },
  {
   "cell_type": "markdown",
   "id": "agreed-underwear",
   "metadata": {},
   "source": [
    "# Saving the models"
   ]
  },
  {
   "cell_type": "code",
   "execution_count": 52,
   "id": "neural-missile",
   "metadata": {},
   "outputs": [],
   "source": [
    "import pickle"
   ]
  },
  {
   "cell_type": "code",
   "execution_count": 53,
   "id": "according-russian",
   "metadata": {},
   "outputs": [],
   "source": [
    "SVM_model_path = \"./SVM_UnigramBigram_75.pickle\"\n",
    "NB_model_path = \"./NB_UnigramBigram_78.pickle\"\n",
    "vectorizer_path =\"./UnigramBigram_vectorizer.pickle\""
   ]
  },
  {
   "cell_type": "code",
   "execution_count": 54,
   "id": "front-reduction",
   "metadata": {},
   "outputs": [],
   "source": [
    "pickle.dump(Naive3, open(NB_model_path, 'wb'))\n",
    "pickle.dump(SVM3, open(SVM_model_path,'wb'))\n",
    "pickle.dump(v3, open(vectorizer_path, 'wb'))"
   ]
  }
 ],
 "metadata": {
  "kernelspec": {
   "display_name": "Python 3",
   "language": "python",
   "name": "python3"
  },
  "language_info": {
   "codemirror_mode": {
    "name": "ipython",
    "version": 3
   },
   "file_extension": ".py",
   "mimetype": "text/x-python",
   "name": "python",
   "nbconvert_exporter": "python",
   "pygments_lexer": "ipython3",
   "version": "3.8.5"
  }
 },
 "nbformat": 4,
 "nbformat_minor": 5
}
