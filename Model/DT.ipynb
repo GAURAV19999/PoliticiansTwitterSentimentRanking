{
 "cells": [
  {
   "cell_type": "markdown",
   "id": "cheap-daily",
   "metadata": {},
   "source": [
    "# Decision Tree"
   ]
  },
  {
   "cell_type": "markdown",
   "id": "informed-brown",
   "metadata": {},
   "source": [
    "## Installs and imports"
   ]
  },
  {
   "cell_type": "markdown",
   "id": "political-alpha",
   "metadata": {},
   "source": [
    "### Install all required libraries"
   ]
  },
  {
   "cell_type": "code",
   "execution_count": 1,
   "id": "traditional-shadow",
   "metadata": {},
   "outputs": [],
   "source": [
    "# Uncomment line below to install all required libraries\n",
    "# !pip3 install -r ../requirements.txt -q"
   ]
  },
  {
   "cell_type": "markdown",
   "id": "basic-legislation",
   "metadata": {},
   "source": [
    "### Import required libraries"
   ]
  },
  {
   "cell_type": "code",
   "execution_count": 29,
   "id": "incorporated-closure",
   "metadata": {},
   "outputs": [],
   "source": [
    "import nltk\n",
    "import re\n",
    "from sklearn.feature_extraction.text import CountVectorizer, TfidfVectorizer\n",
    "from nltk.corpus import stopwords\n",
    "from nltk.tokenize import word_tokenize\n",
    "import pandas as pd\n",
    "from sklearn.model_selection import train_test_split\n",
    "from sklearn.preprocessing import LabelEncoder\n",
    "import numpy as np\n",
    "from sklearn.metrics import accuracy_score\n",
    "from sklearn.ensemble import RandomForestClassifier\n",
    "from sklearn.tree import DecisionTreeClassifier"
   ]
  },
  {
   "cell_type": "markdown",
   "id": "hollywood-investigation",
   "metadata": {},
   "source": [
    "## Load cleaned tweets dataset"
   ]
  },
  {
   "cell_type": "code",
   "execution_count": 3,
   "id": "embedded-webmaster",
   "metadata": {},
   "outputs": [],
   "source": [
    "df = pd.read_csv('./cleaned_tweets.csv')"
   ]
  },
  {
   "cell_type": "code",
   "execution_count": 4,
   "id": "exclusive-subdivision",
   "metadata": {},
   "outputs": [],
   "source": [
    "np.random.seed(450)"
   ]
  },
  {
   "cell_type": "markdown",
   "id": "cooperative-yorkshire",
   "metadata": {},
   "source": [
    "## Drop text"
   ]
  },
  {
   "cell_type": "code",
   "execution_count": 5,
   "id": "adaptive-lindsay",
   "metadata": {},
   "outputs": [],
   "source": [
    "df = df[['sentiment', 'Snowball_Stem']]"
   ]
  },
  {
   "cell_type": "code",
   "execution_count": 6,
   "id": "billion-royal",
   "metadata": {},
   "outputs": [
    {
     "data": {
      "text/html": [
       "<div>\n",
       "<style scoped>\n",
       "    .dataframe tbody tr th:only-of-type {\n",
       "        vertical-align: middle;\n",
       "    }\n",
       "\n",
       "    .dataframe tbody tr th {\n",
       "        vertical-align: top;\n",
       "    }\n",
       "\n",
       "    .dataframe thead th {\n",
       "        text-align: right;\n",
       "    }\n",
       "</style>\n",
       "<table border=\"1\" class=\"dataframe\">\n",
       "  <thead>\n",
       "    <tr style=\"text-align: right;\">\n",
       "      <th></th>\n",
       "      <th>sentiment</th>\n",
       "      <th>Snowball_Stem</th>\n",
       "    </tr>\n",
       "  </thead>\n",
       "  <tbody>\n",
       "    <tr>\n",
       "      <th>0</th>\n",
       "      <td>0</td>\n",
       "      <td>awww that bummer shoulda got david carr third day</td>\n",
       "    </tr>\n",
       "    <tr>\n",
       "      <th>1</th>\n",
       "      <td>0</td>\n",
       "      <td>upset cant updat facebook text might cri resul...</td>\n",
       "    </tr>\n",
       "    <tr>\n",
       "      <th>2</th>\n",
       "      <td>0</td>\n",
       "      <td>dive mani time ball manag save rest go bound</td>\n",
       "    </tr>\n",
       "    <tr>\n",
       "      <th>3</th>\n",
       "      <td>0</td>\n",
       "      <td>whole bodi feel itchi like fire</td>\n",
       "    </tr>\n",
       "    <tr>\n",
       "      <th>4</th>\n",
       "      <td>0</td>\n",
       "      <td>behav im mad cant see</td>\n",
       "    </tr>\n",
       "  </tbody>\n",
       "</table>\n",
       "</div>"
      ],
      "text/plain": [
       "   sentiment                                      Snowball_Stem\n",
       "0          0  awww that bummer shoulda got david carr third day\n",
       "1          0  upset cant updat facebook text might cri resul...\n",
       "2          0       dive mani time ball manag save rest go bound\n",
       "3          0                    whole bodi feel itchi like fire\n",
       "4          0                              behav im mad cant see"
      ]
     },
     "execution_count": 6,
     "metadata": {},
     "output_type": "execute_result"
    }
   ],
   "source": [
    "df.head()"
   ]
  },
  {
   "cell_type": "markdown",
   "id": "regional-roommate",
   "metadata": {},
   "source": [
    "## Drop rows with NaN"
   ]
  },
  {
   "cell_type": "code",
   "execution_count": 7,
   "id": "korean-egypt",
   "metadata": {},
   "outputs": [
    {
     "data": {
      "text/plain": [
       "sentiment           0\n",
       "Snowball_Stem    7661\n",
       "dtype: int64"
      ]
     },
     "execution_count": 7,
     "metadata": {},
     "output_type": "execute_result"
    }
   ],
   "source": [
    "df.isna().sum()"
   ]
  },
  {
   "cell_type": "code",
   "execution_count": 8,
   "id": "fabulous-photographer",
   "metadata": {},
   "outputs": [],
   "source": [
    "df = df.dropna()"
   ]
  },
  {
   "cell_type": "code",
   "execution_count": 9,
   "id": "accessory-kuwait",
   "metadata": {},
   "outputs": [
    {
     "data": {
      "text/plain": [
       "sentiment        0\n",
       "Snowball_Stem    0\n",
       "dtype: int64"
      ]
     },
     "execution_count": 9,
     "metadata": {},
     "output_type": "execute_result"
    }
   ],
   "source": [
    "df.isna().sum()"
   ]
  },
  {
   "cell_type": "code",
   "execution_count": 10,
   "id": "least-compromise",
   "metadata": {},
   "outputs": [],
   "source": [
    "X= df['Snowball_Stem']"
   ]
  },
  {
   "cell_type": "code",
   "execution_count": 11,
   "id": "national-determination",
   "metadata": {},
   "outputs": [],
   "source": [
    "y = df['sentiment']"
   ]
  },
  {
   "cell_type": "markdown",
   "id": "interested-festival",
   "metadata": {},
   "source": [
    "## Reduce dataframe size"
   ]
  },
  {
   "cell_type": "code",
   "execution_count": 121,
   "id": "therapeutic-criminal",
   "metadata": {},
   "outputs": [],
   "source": [
    "reduced_df = pd.concat([df[df.sentiment != 0][:700000], df[df.sentiment == 0][:700000]])"
   ]
  },
  {
   "cell_type": "code",
   "execution_count": 122,
   "id": "wired-charleston",
   "metadata": {},
   "outputs": [
    {
     "data": {
      "text/plain": [
       "(1400000, 2)"
      ]
     },
     "execution_count": 122,
     "metadata": {},
     "output_type": "execute_result"
    }
   ],
   "source": [
    "reduced_df.shape"
   ]
  },
  {
   "cell_type": "code",
   "execution_count": 123,
   "id": "undefined-planning",
   "metadata": {},
   "outputs": [],
   "source": [
    "rX= reduced_df['Snowball_Stem']"
   ]
  },
  {
   "cell_type": "code",
   "execution_count": 124,
   "id": "allied-departure",
   "metadata": {},
   "outputs": [],
   "source": [
    "ry = reduced_df['sentiment']"
   ]
  },
  {
   "cell_type": "code",
   "execution_count": 125,
   "id": "dynamic-wellington",
   "metadata": {},
   "outputs": [],
   "source": [
    "X_train, X_test, y_train, y_test = train_test_split(rX, ry)"
   ]
  },
  {
   "cell_type": "code",
   "execution_count": 126,
   "id": "irish-algorithm",
   "metadata": {},
   "outputs": [
    {
     "data": {
      "text/plain": [
       "((1050000,), (350000,), (1050000,), (350000,))"
      ]
     },
     "execution_count": 126,
     "metadata": {},
     "output_type": "execute_result"
    }
   ],
   "source": [
    "X_train.shape, X_test.shape, y_train.shape, y_test.shape"
   ]
  },
  {
   "cell_type": "markdown",
   "id": "pediatric-sitting",
   "metadata": {},
   "source": [
    "## Unigram and bigram vectorizer"
   ]
  },
  {
   "cell_type": "code",
   "execution_count": 127,
   "id": "unlimited-jurisdiction",
   "metadata": {},
   "outputs": [
    {
     "data": {
      "text/plain": [
       "TfidfVectorizer(ngram_range=(1, 2))"
      ]
     },
     "execution_count": 127,
     "metadata": {},
     "output_type": "execute_result"
    }
   ],
   "source": [
    "v= TfidfVectorizer(ngram_range = (1, 2))\n",
    "v.fit(X)"
   ]
  },
  {
   "cell_type": "code",
   "execution_count": 128,
   "id": "unlimited-grass",
   "metadata": {},
   "outputs": [],
   "source": [
    "xtrain = v.transform(X_train)\n",
    "xtest = v.transform(X_test)"
   ]
  },
  {
   "cell_type": "markdown",
   "id": "visible-movie",
   "metadata": {},
   "source": [
    "# Encoding labels"
   ]
  },
  {
   "cell_type": "code",
   "execution_count": 129,
   "id": "noted-cycle",
   "metadata": {},
   "outputs": [],
   "source": [
    "Encoder = LabelEncoder()\n",
    "y_train = Encoder.fit_transform(y_train)\n",
    "y_test = Encoder.fit_transform(y_test)"
   ]
  },
  {
   "cell_type": "markdown",
   "id": "apart-arthur",
   "metadata": {},
   "source": [
    "# DT"
   ]
  },
  {
   "cell_type": "code",
   "execution_count": 130,
   "id": "published-georgia",
   "metadata": {},
   "outputs": [],
   "source": [
    "dt = DecisionTreeClassifier()"
   ]
  },
  {
   "cell_type": "code",
   "execution_count": 131,
   "id": "regional-emperor",
   "metadata": {},
   "outputs": [
    {
     "data": {
      "text/plain": [
       "DecisionTreeClassifier()"
      ]
     },
     "execution_count": 131,
     "metadata": {},
     "output_type": "execute_result"
    }
   ],
   "source": [
    "dt.fit(xtrain,y_train)"
   ]
  },
  {
   "cell_type": "code",
   "execution_count": 132,
   "id": "supreme-documentary",
   "metadata": {},
   "outputs": [],
   "source": [
    "dt_pred = dt.predict(xtest)"
   ]
  },
  {
   "cell_type": "code",
   "execution_count": 133,
   "id": "likely-console",
   "metadata": {},
   "outputs": [
    {
     "data": {
      "text/plain": [
       "0.7286342857142857"
      ]
     },
     "execution_count": 133,
     "metadata": {},
     "output_type": "execute_result"
    }
   ],
   "source": [
    "accuracy_score(dt_pred,y_test)"
   ]
  },
  {
   "cell_type": "markdown",
   "id": "imposed-western",
   "metadata": {},
   "source": [
    "# Saving the model"
   ]
  },
  {
   "cell_type": "code",
   "execution_count": 134,
   "id": "lightweight-comparison",
   "metadata": {},
   "outputs": [],
   "source": [
    "import pickle"
   ]
  },
  {
   "cell_type": "code",
   "execution_count": 135,
   "id": "bored-google",
   "metadata": {},
   "outputs": [],
   "source": [
    "DT_path = './DT_model.pickle'"
   ]
  },
  {
   "cell_type": "code",
   "execution_count": 136,
   "id": "average-vertex",
   "metadata": {},
   "outputs": [],
   "source": [
    "pickle.dump(dt, open(DT_path, 'wb'))"
   ]
  }
 ],
 "metadata": {
  "kernelspec": {
   "display_name": "Python 3",
   "language": "python",
   "name": "python3"
  },
  "language_info": {
   "codemirror_mode": {
    "name": "ipython",
    "version": 3
   },
   "file_extension": ".py",
   "mimetype": "text/x-python",
   "name": "python",
   "nbconvert_exporter": "python",
   "pygments_lexer": "ipython3",
   "version": "3.8.5"
  }
 },
 "nbformat": 4,
 "nbformat_minor": 5
}
