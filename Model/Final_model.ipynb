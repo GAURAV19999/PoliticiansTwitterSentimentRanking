{
 "cells": [
  {
   "cell_type": "markdown",
   "id": "overall-trademark",
   "metadata": {},
   "source": [
    "# Final ensemble model\n",
    "\n",
    "## Running the model to generate predictions on political tweets\n",
    "---"
   ]
  },
  {
   "cell_type": "markdown",
   "id": "human-surgery",
   "metadata": {},
   "source": [
    "# 1. Installs and imports"
   ]
  },
  {
   "cell_type": "markdown",
   "id": "continuous-nicaragua",
   "metadata": {},
   "source": [
    "## 1.1. Install all required libraries"
   ]
  },
  {
   "cell_type": "code",
   "execution_count": 1,
   "id": "retained-sight",
   "metadata": {},
   "outputs": [],
   "source": [
    "# Uncomment line below to install all required libraries\n",
    "# !pip3 install -r ../requirements.txt -q"
   ]
  },
  {
   "cell_type": "markdown",
   "id": "mobile-routine",
   "metadata": {},
   "source": [
    "## 1.2. Import required libraries"
   ]
  },
  {
   "cell_type": "code",
   "execution_count": 2,
   "id": "unlike-commitment",
   "metadata": {},
   "outputs": [],
   "source": [
    "import re\n",
    "import os\n",
    "from nltk.corpus import stopwords\n",
    "import pandas as pd\n",
    "import pickle\n",
    "from keras.models import load_model\n",
    "from keras.preprocessing.sequence import pad_sequences"
   ]
  },
  {
   "cell_type": "markdown",
   "id": "disabled-football",
   "metadata": {},
   "source": [
    "## 2. Load political tweets dataset"
   ]
  },
  {
   "cell_type": "code",
   "execution_count": 3,
   "id": "infinite-divide",
   "metadata": {},
   "outputs": [],
   "source": [
    "df = pd.read_csv('./data/cleaned_political_tweets.csv')"
   ]
  },
  {
   "cell_type": "code",
   "execution_count": 4,
   "id": "forbidden-mechanism",
   "metadata": {},
   "outputs": [
    {
     "data": {
      "text/html": [
       "<div>\n",
       "<style scoped>\n",
       "    .dataframe tbody tr th:only-of-type {\n",
       "        vertical-align: middle;\n",
       "    }\n",
       "\n",
       "    .dataframe tbody tr th {\n",
       "        vertical-align: top;\n",
       "    }\n",
       "\n",
       "    .dataframe thead th {\n",
       "        text-align: right;\n",
       "    }\n",
       "</style>\n",
       "<table border=\"1\" class=\"dataframe\">\n",
       "  <thead>\n",
       "    <tr style=\"text-align: right;\">\n",
       "      <th></th>\n",
       "      <th>mp</th>\n",
       "      <th>tweet_date</th>\n",
       "      <th>tweet_time</th>\n",
       "      <th>tweet_text</th>\n",
       "      <th>cleaned_tweet</th>\n",
       "      <th>Snowball_Stem</th>\n",
       "    </tr>\n",
       "  </thead>\n",
       "  <tbody>\n",
       "    <tr>\n",
       "      <th>0</th>\n",
       "      <td>rsprasad</td>\n",
       "      <td>2021-03-31</td>\n",
       "      <td>23:30:00</td>\n",
       "      <td>Please, don't break the trust.\\n\\n@narendramod...</td>\n",
       "      <td>please break trust</td>\n",
       "      <td>pleas break trust</td>\n",
       "    </tr>\n",
       "    <tr>\n",
       "      <th>1</th>\n",
       "      <td>rsprasad</td>\n",
       "      <td>2021-03-31</td>\n",
       "      <td>23:30:00</td>\n",
       "      <td>MAINTENANCE OF WIVES, CHILDREN AND PARENTS - h...</td>\n",
       "      <td>maintenance wives children parents l c h r read</td>\n",
       "      <td>mainten wive children parent l c h r read</td>\n",
       "    </tr>\n",
       "    <tr>\n",
       "      <th>2</th>\n",
       "      <td>rsprasad</td>\n",
       "      <td>2021-03-31</td>\n",
       "      <td>23:30:00</td>\n",
       "      <td>NIA look into SSR case \\n\\n@AmitShah @narendra...</td>\n",
       "      <td>nia look ssr case</td>\n",
       "      <td>nia look ssr case</td>\n",
       "    </tr>\n",
       "    <tr>\n",
       "      <th>3</th>\n",
       "      <td>rsprasad</td>\n",
       "      <td>2021-03-31</td>\n",
       "      <td>23:30:00</td>\n",
       "      <td>@PavanjitMane1 @PMOIndia @CMOMaharashtra @rspr...</td>\n",
       "      <td>new pan allotted per aadhar many pans issued b...</td>\n",
       "      <td>new pan allot per aadhar mani pan issu bef aad...</td>\n",
       "    </tr>\n",
       "    <tr>\n",
       "      <th>4</th>\n",
       "      <td>rsprasad</td>\n",
       "      <td>2021-03-31</td>\n",
       "      <td>23:30:00</td>\n",
       "      <td>@rsprasad @narendramodi @PMOIndia @examwarrior...</td>\n",
       "      <td>one worst govt till interest reduced income ta...</td>\n",
       "      <td>one worst govt till interest reduc incom tax c...</td>\n",
       "    </tr>\n",
       "  </tbody>\n",
       "</table>\n",
       "</div>"
      ],
      "text/plain": [
       "         mp  tweet_date tweet_time  \\\n",
       "0  rsprasad  2021-03-31   23:30:00   \n",
       "1  rsprasad  2021-03-31   23:30:00   \n",
       "2  rsprasad  2021-03-31   23:30:00   \n",
       "3  rsprasad  2021-03-31   23:30:00   \n",
       "4  rsprasad  2021-03-31   23:30:00   \n",
       "\n",
       "                                          tweet_text  \\\n",
       "0  Please, don't break the trust.\\n\\n@narendramod...   \n",
       "1  MAINTENANCE OF WIVES, CHILDREN AND PARENTS - h...   \n",
       "2  NIA look into SSR case \\n\\n@AmitShah @narendra...   \n",
       "3  @PavanjitMane1 @PMOIndia @CMOMaharashtra @rspr...   \n",
       "4  @rsprasad @narendramodi @PMOIndia @examwarrior...   \n",
       "\n",
       "                                       cleaned_tweet  \\\n",
       "0                                 please break trust   \n",
       "1    maintenance wives children parents l c h r read   \n",
       "2                                  nia look ssr case   \n",
       "3  new pan allotted per aadhar many pans issued b...   \n",
       "4  one worst govt till interest reduced income ta...   \n",
       "\n",
       "                                       Snowball_Stem  \n",
       "0                                  pleas break trust  \n",
       "1          mainten wive children parent l c h r read  \n",
       "2                                  nia look ssr case  \n",
       "3  new pan allot per aadhar mani pan issu bef aad...  \n",
       "4  one worst govt till interest reduc incom tax c...  "
      ]
     },
     "execution_count": 4,
     "metadata": {},
     "output_type": "execute_result"
    }
   ],
   "source": [
    "df.head()"
   ]
  },
  {
   "cell_type": "code",
   "execution_count": 5,
   "id": "decimal-allocation",
   "metadata": {},
   "outputs": [
    {
     "data": {
      "text/html": [
       "<div>\n",
       "<style scoped>\n",
       "    .dataframe tbody tr th:only-of-type {\n",
       "        vertical-align: middle;\n",
       "    }\n",
       "\n",
       "    .dataframe tbody tr th {\n",
       "        vertical-align: top;\n",
       "    }\n",
       "\n",
       "    .dataframe thead th {\n",
       "        text-align: right;\n",
       "    }\n",
       "</style>\n",
       "<table border=\"1\" class=\"dataframe\">\n",
       "  <thead>\n",
       "    <tr style=\"text-align: right;\">\n",
       "      <th></th>\n",
       "      <th>mp</th>\n",
       "      <th>tweet_date</th>\n",
       "      <th>tweet_time</th>\n",
       "      <th>tweet_text</th>\n",
       "      <th>cleaned_tweet</th>\n",
       "      <th>Snowball_Stem</th>\n",
       "    </tr>\n",
       "  </thead>\n",
       "  <tbody>\n",
       "    <tr>\n",
       "      <th>34553</th>\n",
       "      <td>DrSJaishankar</td>\n",
       "      <td>2021-03-30</td>\n",
       "      <td>7:30:00</td>\n",
       "      <td>@RDXThinksThat @HQ_IDS_India @adgpi @IAF_MCC @...</td>\n",
       "      <td>happy holi sir green heart</td>\n",
       "      <td>happi holi sir green heart</td>\n",
       "    </tr>\n",
       "    <tr>\n",
       "      <th>34554</th>\n",
       "      <td>DrSJaishankar</td>\n",
       "      <td>2021-03-30</td>\n",
       "      <td>7:30:00</td>\n",
       "      <td>@ANI Dhame on u @ImranKhanPTI\\nActually @Govto...</td>\n",
       "      <td>dhame actually renamed nauseated face nauseate...</td>\n",
       "      <td>dhame actual renam nauseat face nauseat face</td>\n",
       "    </tr>\n",
       "    <tr>\n",
       "      <th>34555</th>\n",
       "      <td>DrSJaishankar</td>\n",
       "      <td>2021-03-30</td>\n",
       "      <td>7:30:00</td>\n",
       "      <td>@swati_gs @DrSJaishankar  Sir, Please ensure t...</td>\n",
       "      <td>sir please ensure bangladesh foriegn ministry ...</td>\n",
       "      <td>sir pleas ensur bangladesh foriegn ministri an...</td>\n",
       "    </tr>\n",
       "    <tr>\n",
       "      <th>34556</th>\n",
       "      <td>DrSJaishankar</td>\n",
       "      <td>2021-03-30</td>\n",
       "      <td>7:30:00</td>\n",
       "      <td>@DrSJaishankar @vijai63 India is proud of our ...</td>\n",
       "      <td>india proud pm shri narendra modi ji hearty co...</td>\n",
       "      <td>india proud pm shri narendra modi ji hearti co...</td>\n",
       "    </tr>\n",
       "    <tr>\n",
       "      <th>34557</th>\n",
       "      <td>DrSJaishankar</td>\n",
       "      <td>2021-03-30</td>\n",
       "      <td>7:30:00</td>\n",
       "      <td>🔸As India-UAE relationship grow stronger day b...</td>\n",
       "      <td>small orange diamond india uae relationship gr...</td>\n",
       "      <td>small orang diamond india uae relationship gro...</td>\n",
       "    </tr>\n",
       "  </tbody>\n",
       "</table>\n",
       "</div>"
      ],
      "text/plain": [
       "                  mp  tweet_date tweet_time  \\\n",
       "34553  DrSJaishankar  2021-03-30    7:30:00   \n",
       "34554  DrSJaishankar  2021-03-30    7:30:00   \n",
       "34555  DrSJaishankar  2021-03-30    7:30:00   \n",
       "34556  DrSJaishankar  2021-03-30    7:30:00   \n",
       "34557  DrSJaishankar  2021-03-30    7:30:00   \n",
       "\n",
       "                                              tweet_text  \\\n",
       "34553  @RDXThinksThat @HQ_IDS_India @adgpi @IAF_MCC @...   \n",
       "34554  @ANI Dhame on u @ImranKhanPTI\\nActually @Govto...   \n",
       "34555  @swati_gs @DrSJaishankar  Sir, Please ensure t...   \n",
       "34556  @DrSJaishankar @vijai63 India is proud of our ...   \n",
       "34557  🔸As India-UAE relationship grow stronger day b...   \n",
       "\n",
       "                                           cleaned_tweet  \\\n",
       "34553                         happy holi sir green heart   \n",
       "34554  dhame actually renamed nauseated face nauseate...   \n",
       "34555  sir please ensure bangladesh foriegn ministry ...   \n",
       "34556  india proud pm shri narendra modi ji hearty co...   \n",
       "34557  small orange diamond india uae relationship gr...   \n",
       "\n",
       "                                           Snowball_Stem  \n",
       "34553                         happi holi sir green heart  \n",
       "34554       dhame actual renam nauseat face nauseat face  \n",
       "34555  sir pleas ensur bangladesh foriegn ministri an...  \n",
       "34556  india proud pm shri narendra modi ji hearti co...  \n",
       "34557  small orang diamond india uae relationship gro...  "
      ]
     },
     "execution_count": 5,
     "metadata": {},
     "output_type": "execute_result"
    }
   ],
   "source": [
    "df.tail()"
   ]
  },
  {
   "cell_type": "markdown",
   "id": "corresponding-motion",
   "metadata": {},
   "source": [
    "---"
   ]
  },
  {
   "cell_type": "markdown",
   "id": "scenic-cover",
   "metadata": {},
   "source": [
    "## Drop text"
   ]
  },
  {
   "cell_type": "code",
   "execution_count": 6,
   "id": "arbitrary-renaissance",
   "metadata": {},
   "outputs": [
    {
     "data": {
      "text/plain": [
       "mp                 0\n",
       "tweet_date         0\n",
       "tweet_time         0\n",
       "tweet_text         0\n",
       "cleaned_tweet    160\n",
       "Snowball_Stem    160\n",
       "dtype: int64"
      ]
     },
     "execution_count": 6,
     "metadata": {},
     "output_type": "execute_result"
    }
   ],
   "source": [
    "df.isna().sum()"
   ]
  },
  {
   "cell_type": "code",
   "execution_count": 7,
   "id": "annual-latino",
   "metadata": {},
   "outputs": [],
   "source": [
    "df = df.dropna()"
   ]
  },
  {
   "cell_type": "code",
   "execution_count": 8,
   "id": "opposite-newman",
   "metadata": {},
   "outputs": [
    {
     "data": {
      "text/plain": [
       "mp               0\n",
       "tweet_date       0\n",
       "tweet_time       0\n",
       "tweet_text       0\n",
       "cleaned_tweet    0\n",
       "Snowball_Stem    0\n",
       "dtype: int64"
      ]
     },
     "execution_count": 8,
     "metadata": {},
     "output_type": "execute_result"
    }
   ],
   "source": [
    "df.isna().sum()"
   ]
  },
  {
   "cell_type": "code",
   "execution_count": 9,
   "id": "royal-bridge",
   "metadata": {},
   "outputs": [],
   "source": [
    "boom = df['Snowball_Stem']"
   ]
  },
  {
   "cell_type": "code",
   "execution_count": 10,
   "id": "square-whale",
   "metadata": {},
   "outputs": [
    {
     "data": {
      "text/plain": [
       "0                                    pleas break trust\n",
       "1            mainten wive children parent l c h r read\n",
       "2                                    nia look ssr case\n",
       "3    new pan allot per aadhar mani pan issu bef aad...\n",
       "4    one worst govt till interest reduc incom tax c...\n",
       "Name: Snowball_Stem, dtype: object"
      ]
     },
     "execution_count": 10,
     "metadata": {},
     "output_type": "execute_result"
    }
   ],
   "source": [
    "boom.head()"
   ]
  },
  {
   "cell_type": "markdown",
   "id": "worse-passenger",
   "metadata": {},
   "source": [
    "## Loading the models"
   ]
  },
  {
   "cell_type": "code",
   "execution_count": 11,
   "id": "labeled-caution",
   "metadata": {},
   "outputs": [],
   "source": [
    "svm_path = './SVM_UnigramBigram_75.pickle'\n",
    "nb_path = './NB_UnigramBigram_78.pickle'\n",
    "lstm_token_path = './LSTM_tokenizer.pickle'\n",
    "lstm_path = './LSTM_train_75_val_78_test_79_acc.h5'\n",
    "vectorizer_path = './UnigramBigram_vectorizer.pickle'\n",
    "Blstm_path ='./B_LSTM_train_76_26_val_77_86_test_78_57_acc.h5'\n",
    "blstm_token_path = './BLSTM_tokenizer.pickle'"
   ]
  },
  {
   "cell_type": "code",
   "execution_count": 12,
   "id": "indie-effect",
   "metadata": {},
   "outputs": [],
   "source": [
    "svm = pickle.load(open(svm_path,'rb'))"
   ]
  },
  {
   "cell_type": "code",
   "execution_count": 13,
   "id": "useful-review",
   "metadata": {},
   "outputs": [],
   "source": [
    "nb = pickle.load(open(nb_path,'rb'))"
   ]
  },
  {
   "cell_type": "code",
   "execution_count": 14,
   "id": "silent-provider",
   "metadata": {},
   "outputs": [],
   "source": [
    "lstm_tok = pickle.load(open(lstm_token_path,'rb'))"
   ]
  },
  {
   "cell_type": "code",
   "execution_count": 15,
   "id": "graphic-german",
   "metadata": {},
   "outputs": [],
   "source": [
    "lstm = load_model(lstm_path)"
   ]
  },
  {
   "cell_type": "code",
   "execution_count": 16,
   "id": "exciting-healing",
   "metadata": {},
   "outputs": [],
   "source": [
    "blstm_tok = pickle.load(open(blstm_token_path,'rb'))"
   ]
  },
  {
   "cell_type": "code",
   "execution_count": 17,
   "id": "returning-peter",
   "metadata": {},
   "outputs": [],
   "source": [
    "vectorizer = pickle.load(open(vectorizer_path,'rb'))"
   ]
  },
  {
   "cell_type": "code",
   "execution_count": 39,
   "id": "danish-namibia",
   "metadata": {},
   "outputs": [],
   "source": [
    "blstm = load_model(Blstm_path)"
   ]
  },
  {
   "cell_type": "markdown",
   "id": "initial-narrative",
   "metadata": {},
   "source": [
    "## Tokenizing and Vectorizing"
   ]
  },
  {
   "cell_type": "code",
   "execution_count": 19,
   "id": "powered-moral",
   "metadata": {},
   "outputs": [],
   "source": [
    "vector = vectorizer.transform(boom)"
   ]
  },
  {
   "cell_type": "code",
   "execution_count": 20,
   "id": "worldwide-digit",
   "metadata": {},
   "outputs": [],
   "source": [
    "max_seq_length = 20"
   ]
  },
  {
   "cell_type": "code",
   "execution_count": 21,
   "id": "different-trail",
   "metadata": {},
   "outputs": [],
   "source": [
    "lstm_seq = lstm_tok.texts_to_sequences(boom)"
   ]
  },
  {
   "cell_type": "code",
   "execution_count": 22,
   "id": "progressive-flush",
   "metadata": {},
   "outputs": [],
   "source": [
    "lstm_pad = pad_sequences(lstm_seq, maxlen=max_seq_length, padding=\"post\", truncating=\"post\")"
   ]
  },
  {
   "cell_type": "code",
   "execution_count": 23,
   "id": "married-plumbing",
   "metadata": {},
   "outputs": [],
   "source": [
    "blstm_seq = blstm_tok.texts_to_sequences(boom)"
   ]
  },
  {
   "cell_type": "code",
   "execution_count": 24,
   "id": "forced-glance",
   "metadata": {},
   "outputs": [],
   "source": [
    "blstm_pad = pad_sequences(blstm_seq, maxlen=max_seq_length, padding=\"post\", truncating=\"post\")"
   ]
  },
  {
   "cell_type": "markdown",
   "id": "valued-charleston",
   "metadata": {},
   "source": [
    "## Running the models"
   ]
  },
  {
   "cell_type": "code",
   "execution_count": 25,
   "id": "capital-double",
   "metadata": {},
   "outputs": [],
   "source": [
    "nb_pred = nb.predict(vector)"
   ]
  },
  {
   "cell_type": "code",
   "execution_count": 26,
   "id": "virtual-midwest",
   "metadata": {},
   "outputs": [],
   "source": [
    "df['NB_predictions'] = nb_pred"
   ]
  },
  {
   "cell_type": "code",
   "execution_count": 29,
   "id": "strategic-integration",
   "metadata": {},
   "outputs": [],
   "source": [
    "lstm_pred = lstm.predict(lstm_pad)"
   ]
  },
  {
   "cell_type": "code",
   "execution_count": 36,
   "id": "enclosed-license",
   "metadata": {},
   "outputs": [],
   "source": [
    "df['LSTM_predictions'] = list(map(lambda x: 1 if x[0]>=0.5 else 0, lstm_pred))"
   ]
  },
  {
   "cell_type": "code",
   "execution_count": 40,
   "id": "about-ivory",
   "metadata": {},
   "outputs": [],
   "source": [
    "blstm_pred = blstm.predict(blstm_pad)"
   ]
  },
  {
   "cell_type": "code",
   "execution_count": 41,
   "id": "parallel-artwork",
   "metadata": {},
   "outputs": [],
   "source": [
    "df['BLSTM_predictions'] = list(map(lambda x: 1 if x[0]>=0.5 else 0, blstm_pred))"
   ]
  },
  {
   "cell_type": "code",
   "execution_count": 43,
   "id": "improving-encounter",
   "metadata": {},
   "outputs": [],
   "source": [
    "svm_pred = svm.predict(vector)"
   ]
  },
  {
   "cell_type": "code",
   "execution_count": 44,
   "id": "pleasant-appraisal",
   "metadata": {},
   "outputs": [],
   "source": [
    "df['SVM_predictions'] = svm_pred"
   ]
  },
  {
   "cell_type": "code",
   "execution_count": 45,
   "id": "tender-alfred",
   "metadata": {},
   "outputs": [
    {
     "data": {
      "text/html": [
       "<div>\n",
       "<style scoped>\n",
       "    .dataframe tbody tr th:only-of-type {\n",
       "        vertical-align: middle;\n",
       "    }\n",
       "\n",
       "    .dataframe tbody tr th {\n",
       "        vertical-align: top;\n",
       "    }\n",
       "\n",
       "    .dataframe thead th {\n",
       "        text-align: right;\n",
       "    }\n",
       "</style>\n",
       "<table border=\"1\" class=\"dataframe\">\n",
       "  <thead>\n",
       "    <tr style=\"text-align: right;\">\n",
       "      <th></th>\n",
       "      <th>mp</th>\n",
       "      <th>tweet_date</th>\n",
       "      <th>tweet_time</th>\n",
       "      <th>tweet_text</th>\n",
       "      <th>cleaned_tweet</th>\n",
       "      <th>Snowball_Stem</th>\n",
       "      <th>NB_predictions</th>\n",
       "      <th>LSTM_predictions</th>\n",
       "      <th>BLSTM_predictions</th>\n",
       "      <th>SVM_predictions</th>\n",
       "    </tr>\n",
       "  </thead>\n",
       "  <tbody>\n",
       "    <tr>\n",
       "      <th>0</th>\n",
       "      <td>rsprasad</td>\n",
       "      <td>2021-03-31</td>\n",
       "      <td>23:30:00</td>\n",
       "      <td>Please, don't break the trust.\\n\\n@narendramod...</td>\n",
       "      <td>please break trust</td>\n",
       "      <td>pleas break trust</td>\n",
       "      <td>0</td>\n",
       "      <td>1</td>\n",
       "      <td>0</td>\n",
       "      <td>1</td>\n",
       "    </tr>\n",
       "    <tr>\n",
       "      <th>1</th>\n",
       "      <td>rsprasad</td>\n",
       "      <td>2021-03-31</td>\n",
       "      <td>23:30:00</td>\n",
       "      <td>MAINTENANCE OF WIVES, CHILDREN AND PARENTS - h...</td>\n",
       "      <td>maintenance wives children parents l c h r read</td>\n",
       "      <td>mainten wive children parent l c h r read</td>\n",
       "      <td>0</td>\n",
       "      <td>0</td>\n",
       "      <td>0</td>\n",
       "      <td>1</td>\n",
       "    </tr>\n",
       "    <tr>\n",
       "      <th>2</th>\n",
       "      <td>rsprasad</td>\n",
       "      <td>2021-03-31</td>\n",
       "      <td>23:30:00</td>\n",
       "      <td>NIA look into SSR case \\n\\n@AmitShah @narendra...</td>\n",
       "      <td>nia look ssr case</td>\n",
       "      <td>nia look ssr case</td>\n",
       "      <td>1</td>\n",
       "      <td>1</td>\n",
       "      <td>1</td>\n",
       "      <td>1</td>\n",
       "    </tr>\n",
       "    <tr>\n",
       "      <th>3</th>\n",
       "      <td>rsprasad</td>\n",
       "      <td>2021-03-31</td>\n",
       "      <td>23:30:00</td>\n",
       "      <td>@PavanjitMane1 @PMOIndia @CMOMaharashtra @rspr...</td>\n",
       "      <td>new pan allotted per aadhar many pans issued b...</td>\n",
       "      <td>new pan allot per aadhar mani pan issu bef aad...</td>\n",
       "      <td>1</td>\n",
       "      <td>1</td>\n",
       "      <td>1</td>\n",
       "      <td>1</td>\n",
       "    </tr>\n",
       "    <tr>\n",
       "      <th>4</th>\n",
       "      <td>rsprasad</td>\n",
       "      <td>2021-03-31</td>\n",
       "      <td>23:30:00</td>\n",
       "      <td>@rsprasad @narendramodi @PMOIndia @examwarrior...</td>\n",
       "      <td>one worst govt till interest reduced income ta...</td>\n",
       "      <td>one worst govt till interest reduc incom tax c...</td>\n",
       "      <td>0</td>\n",
       "      <td>0</td>\n",
       "      <td>0</td>\n",
       "      <td>0</td>\n",
       "    </tr>\n",
       "  </tbody>\n",
       "</table>\n",
       "</div>"
      ],
      "text/plain": [
       "         mp  tweet_date tweet_time  \\\n",
       "0  rsprasad  2021-03-31   23:30:00   \n",
       "1  rsprasad  2021-03-31   23:30:00   \n",
       "2  rsprasad  2021-03-31   23:30:00   \n",
       "3  rsprasad  2021-03-31   23:30:00   \n",
       "4  rsprasad  2021-03-31   23:30:00   \n",
       "\n",
       "                                          tweet_text  \\\n",
       "0  Please, don't break the trust.\\n\\n@narendramod...   \n",
       "1  MAINTENANCE OF WIVES, CHILDREN AND PARENTS - h...   \n",
       "2  NIA look into SSR case \\n\\n@AmitShah @narendra...   \n",
       "3  @PavanjitMane1 @PMOIndia @CMOMaharashtra @rspr...   \n",
       "4  @rsprasad @narendramodi @PMOIndia @examwarrior...   \n",
       "\n",
       "                                       cleaned_tweet  \\\n",
       "0                                 please break trust   \n",
       "1    maintenance wives children parents l c h r read   \n",
       "2                                  nia look ssr case   \n",
       "3  new pan allotted per aadhar many pans issued b...   \n",
       "4  one worst govt till interest reduced income ta...   \n",
       "\n",
       "                                       Snowball_Stem  NB_predictions  \\\n",
       "0                                  pleas break trust               0   \n",
       "1          mainten wive children parent l c h r read               0   \n",
       "2                                  nia look ssr case               1   \n",
       "3  new pan allot per aadhar mani pan issu bef aad...               1   \n",
       "4  one worst govt till interest reduc incom tax c...               0   \n",
       "\n",
       "   LSTM_predictions  BLSTM_predictions  SVM_predictions  \n",
       "0                 1                  0                1  \n",
       "1                 0                  0                1  \n",
       "2                 1                  1                1  \n",
       "3                 1                  1                1  \n",
       "4                 0                  0                0  "
      ]
     },
     "execution_count": 45,
     "metadata": {},
     "output_type": "execute_result"
    }
   ],
   "source": [
    "df.head()"
   ]
  },
  {
   "cell_type": "markdown",
   "id": "plastic-resort",
   "metadata": {},
   "source": [
    "## Running the Ensemble"
   ]
  },
  {
   "cell_type": "code",
   "execution_count": 47,
   "id": "floral-brush",
   "metadata": {},
   "outputs": [],
   "source": [
    "class_weights =[0.24713656140170648,\n",
    " 0.2487545817826636,\n",
    " 0.25291761338783453,\n",
    " 0.2511912434277955]"
   ]
  },
  {
   "cell_type": "code",
   "execution_count": 51,
   "id": "electronic-prisoner",
   "metadata": {},
   "outputs": [],
   "source": [
    "svm_weighted_pred = df['SVM_predictions']*class_weights[0]\n",
    "nb_weighted_pred = df['NB_predictions']*class_weights[1]\n",
    "lstm_weighted_pred = df['LSTM_predictions']*class_weights[2]\n",
    "blstm_weighted_pred = df['BLSTM_predictions']*class_weights[3]"
   ]
  },
  {
   "cell_type": "code",
   "execution_count": 52,
   "id": "otherwise-remainder",
   "metadata": {},
   "outputs": [],
   "source": [
    "weighted_pred_sum = svm_weighted_pred + nb_weighted_pred + lstm_weighted_pred + blstm_weighted_pred"
   ]
  },
  {
   "cell_type": "code",
   "execution_count": 53,
   "id": "executed-hours",
   "metadata": {},
   "outputs": [
    {
     "data": {
      "text/plain": [
       "0        0.500054\n",
       "1        0.247137\n",
       "2        1.000000\n",
       "3        1.000000\n",
       "4        0.000000\n",
       "           ...   \n",
       "34553    1.000000\n",
       "34554    0.247137\n",
       "34555    1.000000\n",
       "34556    1.000000\n",
       "34557    0.501672\n",
       "Length: 34398, dtype: float64"
      ]
     },
     "execution_count": 53,
     "metadata": {},
     "output_type": "execute_result"
    }
   ],
   "source": [
    "weighted_pred_sum"
   ]
  },
  {
   "cell_type": "code",
   "execution_count": 55,
   "id": "european-solid",
   "metadata": {},
   "outputs": [],
   "source": [
    "df['Ensemble_predictions'] = list(map(lambda x: 1 if x>=0.5 else 0, weighted_pred_sum))"
   ]
  },
  {
   "cell_type": "code",
   "execution_count": 58,
   "id": "asian-characteristic",
   "metadata": {},
   "outputs": [
    {
     "data": {
      "text/html": [
       "<div>\n",
       "<style scoped>\n",
       "    .dataframe tbody tr th:only-of-type {\n",
       "        vertical-align: middle;\n",
       "    }\n",
       "\n",
       "    .dataframe tbody tr th {\n",
       "        vertical-align: top;\n",
       "    }\n",
       "\n",
       "    .dataframe thead th {\n",
       "        text-align: right;\n",
       "    }\n",
       "</style>\n",
       "<table border=\"1\" class=\"dataframe\">\n",
       "  <thead>\n",
       "    <tr style=\"text-align: right;\">\n",
       "      <th></th>\n",
       "      <th>mp</th>\n",
       "      <th>tweet_date</th>\n",
       "      <th>tweet_time</th>\n",
       "      <th>tweet_text</th>\n",
       "      <th>cleaned_tweet</th>\n",
       "      <th>Snowball_Stem</th>\n",
       "      <th>NB_predictions</th>\n",
       "      <th>LSTM_predictions</th>\n",
       "      <th>BLSTM_predictions</th>\n",
       "      <th>SVM_predictions</th>\n",
       "      <th>Ensemble_predictions</th>\n",
       "    </tr>\n",
       "  </thead>\n",
       "  <tbody>\n",
       "    <tr>\n",
       "      <th>0</th>\n",
       "      <td>rsprasad</td>\n",
       "      <td>2021-03-31</td>\n",
       "      <td>23:30:00</td>\n",
       "      <td>Please, don't break the trust.\\n\\n@narendramod...</td>\n",
       "      <td>please break trust</td>\n",
       "      <td>pleas break trust</td>\n",
       "      <td>0</td>\n",
       "      <td>1</td>\n",
       "      <td>0</td>\n",
       "      <td>1</td>\n",
       "      <td>1</td>\n",
       "    </tr>\n",
       "    <tr>\n",
       "      <th>1</th>\n",
       "      <td>rsprasad</td>\n",
       "      <td>2021-03-31</td>\n",
       "      <td>23:30:00</td>\n",
       "      <td>MAINTENANCE OF WIVES, CHILDREN AND PARENTS - h...</td>\n",
       "      <td>maintenance wives children parents l c h r read</td>\n",
       "      <td>mainten wive children parent l c h r read</td>\n",
       "      <td>0</td>\n",
       "      <td>0</td>\n",
       "      <td>0</td>\n",
       "      <td>1</td>\n",
       "      <td>0</td>\n",
       "    </tr>\n",
       "    <tr>\n",
       "      <th>2</th>\n",
       "      <td>rsprasad</td>\n",
       "      <td>2021-03-31</td>\n",
       "      <td>23:30:00</td>\n",
       "      <td>NIA look into SSR case \\n\\n@AmitShah @narendra...</td>\n",
       "      <td>nia look ssr case</td>\n",
       "      <td>nia look ssr case</td>\n",
       "      <td>1</td>\n",
       "      <td>1</td>\n",
       "      <td>1</td>\n",
       "      <td>1</td>\n",
       "      <td>1</td>\n",
       "    </tr>\n",
       "    <tr>\n",
       "      <th>3</th>\n",
       "      <td>rsprasad</td>\n",
       "      <td>2021-03-31</td>\n",
       "      <td>23:30:00</td>\n",
       "      <td>@PavanjitMane1 @PMOIndia @CMOMaharashtra @rspr...</td>\n",
       "      <td>new pan allotted per aadhar many pans issued b...</td>\n",
       "      <td>new pan allot per aadhar mani pan issu bef aad...</td>\n",
       "      <td>1</td>\n",
       "      <td>1</td>\n",
       "      <td>1</td>\n",
       "      <td>1</td>\n",
       "      <td>1</td>\n",
       "    </tr>\n",
       "    <tr>\n",
       "      <th>4</th>\n",
       "      <td>rsprasad</td>\n",
       "      <td>2021-03-31</td>\n",
       "      <td>23:30:00</td>\n",
       "      <td>@rsprasad @narendramodi @PMOIndia @examwarrior...</td>\n",
       "      <td>one worst govt till interest reduced income ta...</td>\n",
       "      <td>one worst govt till interest reduc incom tax c...</td>\n",
       "      <td>0</td>\n",
       "      <td>0</td>\n",
       "      <td>0</td>\n",
       "      <td>0</td>\n",
       "      <td>0</td>\n",
       "    </tr>\n",
       "  </tbody>\n",
       "</table>\n",
       "</div>"
      ],
      "text/plain": [
       "         mp  tweet_date tweet_time  \\\n",
       "0  rsprasad  2021-03-31   23:30:00   \n",
       "1  rsprasad  2021-03-31   23:30:00   \n",
       "2  rsprasad  2021-03-31   23:30:00   \n",
       "3  rsprasad  2021-03-31   23:30:00   \n",
       "4  rsprasad  2021-03-31   23:30:00   \n",
       "\n",
       "                                          tweet_text  \\\n",
       "0  Please, don't break the trust.\\n\\n@narendramod...   \n",
       "1  MAINTENANCE OF WIVES, CHILDREN AND PARENTS - h...   \n",
       "2  NIA look into SSR case \\n\\n@AmitShah @narendra...   \n",
       "3  @PavanjitMane1 @PMOIndia @CMOMaharashtra @rspr...   \n",
       "4  @rsprasad @narendramodi @PMOIndia @examwarrior...   \n",
       "\n",
       "                                       cleaned_tweet  \\\n",
       "0                                 please break trust   \n",
       "1    maintenance wives children parents l c h r read   \n",
       "2                                  nia look ssr case   \n",
       "3  new pan allotted per aadhar many pans issued b...   \n",
       "4  one worst govt till interest reduced income ta...   \n",
       "\n",
       "                                       Snowball_Stem  NB_predictions  \\\n",
       "0                                  pleas break trust               0   \n",
       "1          mainten wive children parent l c h r read               0   \n",
       "2                                  nia look ssr case               1   \n",
       "3  new pan allot per aadhar mani pan issu bef aad...               1   \n",
       "4  one worst govt till interest reduc incom tax c...               0   \n",
       "\n",
       "   LSTM_predictions  BLSTM_predictions  SVM_predictions  Ensemble_predictions  \n",
       "0                 1                  0                1                     1  \n",
       "1                 0                  0                1                     0  \n",
       "2                 1                  1                1                     1  \n",
       "3                 1                  1                1                     1  \n",
       "4                 0                  0                0                     0  "
      ]
     },
     "execution_count": 58,
     "metadata": {},
     "output_type": "execute_result"
    }
   ],
   "source": [
    "df.head()"
   ]
  },
  {
   "cell_type": "markdown",
   "id": "comparative-scotland",
   "metadata": {},
   "source": [
    "## Saving to CSV"
   ]
  },
  {
   "cell_type": "code",
   "execution_count": 59,
   "id": "direct-divorce",
   "metadata": {},
   "outputs": [],
   "source": [
    "df.to_csv('./data/Final_Predictions.csv')"
   ]
  }
 ],
 "metadata": {
  "kernelspec": {
   "display_name": "Python 3",
   "language": "python",
   "name": "python3"
  },
  "language_info": {
   "codemirror_mode": {
    "name": "ipython",
    "version": 3
   },
   "file_extension": ".py",
   "mimetype": "text/x-python",
   "name": "python",
   "nbconvert_exporter": "python",
   "pygments_lexer": "ipython3",
   "version": "3.8.5"
  }
 },
 "nbformat": 4,
 "nbformat_minor": 5
}
