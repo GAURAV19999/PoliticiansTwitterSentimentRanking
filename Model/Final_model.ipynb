{
 "cells": [
  {
   "cell_type": "markdown",
   "id": "durable-textbook",
   "metadata": {},
   "source": [
    "# Final ensemble model\n",
    "\n",
    "## Running the model to generate predictions on political tweets\n",
    "---"
   ]
  },
  {
   "cell_type": "markdown",
   "id": "refined-brazil",
   "metadata": {},
   "source": [
    "# 1. Installs and imports"
   ]
  },
  {
   "cell_type": "markdown",
   "id": "cultural-suspect",
   "metadata": {},
   "source": [
    "## 1.1. Install all required libraries"
   ]
  },
  {
   "cell_type": "code",
   "execution_count": 1,
   "id": "continuing-vector",
   "metadata": {},
   "outputs": [],
   "source": [
    "# Uncomment line below to install all required libraries\n",
    "# !pip3 install -r ../requirements.txt -q"
   ]
  },
  {
   "cell_type": "markdown",
   "id": "pursuant-prevention",
   "metadata": {},
   "source": [
    "## 1.2. Import required libraries"
   ]
  },
  {
   "cell_type": "code",
   "execution_count": 2,
   "id": "partial-regard",
   "metadata": {},
   "outputs": [],
   "source": [
    "import re\n",
    "import os\n",
    "from nltk.corpus import stopwords\n",
    "import pandas as pd\n",
    "import pickle\n",
    "from keras.models import load_model\n",
    "from keras.preprocessing.sequence import pad_sequences"
   ]
  },
  {
   "cell_type": "markdown",
   "id": "current-trinidad",
   "metadata": {},
   "source": [
    "## 2. Load political tweets dataset"
   ]
  },
  {
   "cell_type": "code",
   "execution_count": 3,
   "id": "starting-pillow",
   "metadata": {},
   "outputs": [],
   "source": [
    "df = pd.read_csv('./data/cleaned_political_tweets.csv')"
   ]
  },
  {
   "cell_type": "code",
   "execution_count": 4,
   "id": "democratic-reading",
   "metadata": {},
   "outputs": [
    {
     "data": {
      "text/html": [
       "<div>\n",
       "<style scoped>\n",
       "    .dataframe tbody tr th:only-of-type {\n",
       "        vertical-align: middle;\n",
       "    }\n",
       "\n",
       "    .dataframe tbody tr th {\n",
       "        vertical-align: top;\n",
       "    }\n",
       "\n",
       "    .dataframe thead th {\n",
       "        text-align: right;\n",
       "    }\n",
       "</style>\n",
       "<table border=\"1\" class=\"dataframe\">\n",
       "  <thead>\n",
       "    <tr style=\"text-align: right;\">\n",
       "      <th></th>\n",
       "      <th>mp</th>\n",
       "      <th>tweet_date</th>\n",
       "      <th>tweet_time</th>\n",
       "      <th>tweet_text</th>\n",
       "      <th>cleaned_tweet</th>\n",
       "      <th>Snowball_Stem</th>\n",
       "    </tr>\n",
       "  </thead>\n",
       "  <tbody>\n",
       "    <tr>\n",
       "      <th>0</th>\n",
       "      <td>rsprasad</td>\n",
       "      <td>2021-03-31</td>\n",
       "      <td>23:30:00</td>\n",
       "      <td>Please, don't break the trust.\\n\\n@narendramod...</td>\n",
       "      <td>please break trust</td>\n",
       "      <td>pleas break trust</td>\n",
       "    </tr>\n",
       "    <tr>\n",
       "      <th>1</th>\n",
       "      <td>rsprasad</td>\n",
       "      <td>2021-03-31</td>\n",
       "      <td>23:30:00</td>\n",
       "      <td>MAINTENANCE OF WIVES, CHILDREN AND PARENTS - h...</td>\n",
       "      <td>maintenance wives children parents l c h r read</td>\n",
       "      <td>mainten wive children parent l c h r read</td>\n",
       "    </tr>\n",
       "    <tr>\n",
       "      <th>2</th>\n",
       "      <td>rsprasad</td>\n",
       "      <td>2021-03-31</td>\n",
       "      <td>23:30:00</td>\n",
       "      <td>NIA look into SSR case \\n\\n@AmitShah @narendra...</td>\n",
       "      <td>nia look ssr case</td>\n",
       "      <td>nia look ssr case</td>\n",
       "    </tr>\n",
       "    <tr>\n",
       "      <th>3</th>\n",
       "      <td>rsprasad</td>\n",
       "      <td>2021-03-31</td>\n",
       "      <td>23:30:00</td>\n",
       "      <td>@PavanjitMane1 @PMOIndia @CMOMaharashtra @rspr...</td>\n",
       "      <td>new pan allotted per aadhar many pans issued b...</td>\n",
       "      <td>new pan allot per aadhar mani pan issu bef aad...</td>\n",
       "    </tr>\n",
       "    <tr>\n",
       "      <th>4</th>\n",
       "      <td>rsprasad</td>\n",
       "      <td>2021-03-31</td>\n",
       "      <td>23:30:00</td>\n",
       "      <td>@rsprasad @narendramodi @PMOIndia @examwarrior...</td>\n",
       "      <td>one worst govt till interest reduced income ta...</td>\n",
       "      <td>one worst govt till interest reduc incom tax c...</td>\n",
       "    </tr>\n",
       "  </tbody>\n",
       "</table>\n",
       "</div>"
      ],
      "text/plain": [
       "         mp  tweet_date tweet_time  \\\n",
       "0  rsprasad  2021-03-31   23:30:00   \n",
       "1  rsprasad  2021-03-31   23:30:00   \n",
       "2  rsprasad  2021-03-31   23:30:00   \n",
       "3  rsprasad  2021-03-31   23:30:00   \n",
       "4  rsprasad  2021-03-31   23:30:00   \n",
       "\n",
       "                                          tweet_text  \\\n",
       "0  Please, don't break the trust.\\n\\n@narendramod...   \n",
       "1  MAINTENANCE OF WIVES, CHILDREN AND PARENTS - h...   \n",
       "2  NIA look into SSR case \\n\\n@AmitShah @narendra...   \n",
       "3  @PavanjitMane1 @PMOIndia @CMOMaharashtra @rspr...   \n",
       "4  @rsprasad @narendramodi @PMOIndia @examwarrior...   \n",
       "\n",
       "                                       cleaned_tweet  \\\n",
       "0                                 please break trust   \n",
       "1    maintenance wives children parents l c h r read   \n",
       "2                                  nia look ssr case   \n",
       "3  new pan allotted per aadhar many pans issued b...   \n",
       "4  one worst govt till interest reduced income ta...   \n",
       "\n",
       "                                       Snowball_Stem  \n",
       "0                                  pleas break trust  \n",
       "1          mainten wive children parent l c h r read  \n",
       "2                                  nia look ssr case  \n",
       "3  new pan allot per aadhar mani pan issu bef aad...  \n",
       "4  one worst govt till interest reduc incom tax c...  "
      ]
     },
     "execution_count": 4,
     "metadata": {},
     "output_type": "execute_result"
    }
   ],
   "source": [
    "df.head()"
   ]
  },
  {
   "cell_type": "code",
   "execution_count": 5,
   "id": "revised-uruguay",
   "metadata": {},
   "outputs": [
    {
     "data": {
      "text/html": [
       "<div>\n",
       "<style scoped>\n",
       "    .dataframe tbody tr th:only-of-type {\n",
       "        vertical-align: middle;\n",
       "    }\n",
       "\n",
       "    .dataframe tbody tr th {\n",
       "        vertical-align: top;\n",
       "    }\n",
       "\n",
       "    .dataframe thead th {\n",
       "        text-align: right;\n",
       "    }\n",
       "</style>\n",
       "<table border=\"1\" class=\"dataframe\">\n",
       "  <thead>\n",
       "    <tr style=\"text-align: right;\">\n",
       "      <th></th>\n",
       "      <th>mp</th>\n",
       "      <th>tweet_date</th>\n",
       "      <th>tweet_time</th>\n",
       "      <th>tweet_text</th>\n",
       "      <th>cleaned_tweet</th>\n",
       "      <th>Snowball_Stem</th>\n",
       "    </tr>\n",
       "  </thead>\n",
       "  <tbody>\n",
       "    <tr>\n",
       "      <th>34553</th>\n",
       "      <td>DrSJaishankar</td>\n",
       "      <td>2021-03-30</td>\n",
       "      <td>7:30:00</td>\n",
       "      <td>@RDXThinksThat @HQ_IDS_India @adgpi @IAF_MCC @...</td>\n",
       "      <td>happy holi sir green heart</td>\n",
       "      <td>happi holi sir green heart</td>\n",
       "    </tr>\n",
       "    <tr>\n",
       "      <th>34554</th>\n",
       "      <td>DrSJaishankar</td>\n",
       "      <td>2021-03-30</td>\n",
       "      <td>7:30:00</td>\n",
       "      <td>@ANI Dhame on u @ImranKhanPTI\\nActually @Govto...</td>\n",
       "      <td>dhame actually renamed nauseated face nauseate...</td>\n",
       "      <td>dhame actual renam nauseat face nauseat face</td>\n",
       "    </tr>\n",
       "    <tr>\n",
       "      <th>34555</th>\n",
       "      <td>DrSJaishankar</td>\n",
       "      <td>2021-03-30</td>\n",
       "      <td>7:30:00</td>\n",
       "      <td>@swati_gs @DrSJaishankar  Sir, Please ensure t...</td>\n",
       "      <td>sir please ensure bangladesh foriegn ministry ...</td>\n",
       "      <td>sir pleas ensur bangladesh foriegn ministri an...</td>\n",
       "    </tr>\n",
       "    <tr>\n",
       "      <th>34556</th>\n",
       "      <td>DrSJaishankar</td>\n",
       "      <td>2021-03-30</td>\n",
       "      <td>7:30:00</td>\n",
       "      <td>@DrSJaishankar @vijai63 India is proud of our ...</td>\n",
       "      <td>india proud pm shri narendra modi ji hearty co...</td>\n",
       "      <td>india proud pm shri narendra modi ji hearti co...</td>\n",
       "    </tr>\n",
       "    <tr>\n",
       "      <th>34557</th>\n",
       "      <td>DrSJaishankar</td>\n",
       "      <td>2021-03-30</td>\n",
       "      <td>7:30:00</td>\n",
       "      <td>🔸As India-UAE relationship grow stronger day b...</td>\n",
       "      <td>small orange diamond india uae relationship gr...</td>\n",
       "      <td>small orang diamond india uae relationship gro...</td>\n",
       "    </tr>\n",
       "  </tbody>\n",
       "</table>\n",
       "</div>"
      ],
      "text/plain": [
       "                  mp  tweet_date tweet_time  \\\n",
       "34553  DrSJaishankar  2021-03-30    7:30:00   \n",
       "34554  DrSJaishankar  2021-03-30    7:30:00   \n",
       "34555  DrSJaishankar  2021-03-30    7:30:00   \n",
       "34556  DrSJaishankar  2021-03-30    7:30:00   \n",
       "34557  DrSJaishankar  2021-03-30    7:30:00   \n",
       "\n",
       "                                              tweet_text  \\\n",
       "34553  @RDXThinksThat @HQ_IDS_India @adgpi @IAF_MCC @...   \n",
       "34554  @ANI Dhame on u @ImranKhanPTI\\nActually @Govto...   \n",
       "34555  @swati_gs @DrSJaishankar  Sir, Please ensure t...   \n",
       "34556  @DrSJaishankar @vijai63 India is proud of our ...   \n",
       "34557  🔸As India-UAE relationship grow stronger day b...   \n",
       "\n",
       "                                           cleaned_tweet  \\\n",
       "34553                         happy holi sir green heart   \n",
       "34554  dhame actually renamed nauseated face nauseate...   \n",
       "34555  sir please ensure bangladesh foriegn ministry ...   \n",
       "34556  india proud pm shri narendra modi ji hearty co...   \n",
       "34557  small orange diamond india uae relationship gr...   \n",
       "\n",
       "                                           Snowball_Stem  \n",
       "34553                         happi holi sir green heart  \n",
       "34554       dhame actual renam nauseat face nauseat face  \n",
       "34555  sir pleas ensur bangladesh foriegn ministri an...  \n",
       "34556  india proud pm shri narendra modi ji hearti co...  \n",
       "34557  small orang diamond india uae relationship gro...  "
      ]
     },
     "execution_count": 5,
     "metadata": {},
     "output_type": "execute_result"
    }
   ],
   "source": [
    "df.tail()"
   ]
  },
  {
   "cell_type": "markdown",
   "id": "driving-flour",
   "metadata": {},
   "source": [
    "---"
   ]
  },
  {
   "cell_type": "markdown",
   "id": "geographic-claim",
   "metadata": {},
   "source": [
    "## Drop text"
   ]
  },
  {
   "cell_type": "code",
   "execution_count": null,
   "id": "floating-fundamental",
   "metadata": {},
   "outputs": [],
   "source": [
    "df = df[['sentiment', 'Snowball_Stem']]"
   ]
  },
  {
   "cell_type": "code",
   "execution_count": null,
   "id": "sharp-stanley",
   "metadata": {},
   "outputs": [],
   "source": [
    "df.head()"
   ]
  },
  {
   "cell_type": "markdown",
   "id": "signal-entrepreneur",
   "metadata": {},
   "source": [
    "## Drop rows with NaN"
   ]
  },
  {
   "cell_type": "code",
   "execution_count": null,
   "id": "headed-sleep",
   "metadata": {},
   "outputs": [],
   "source": [
    "df.isna().sum()"
   ]
  },
  {
   "cell_type": "code",
   "execution_count": null,
   "id": "handed-mistress",
   "metadata": {},
   "outputs": [],
   "source": [
    "df = df.dropna()"
   ]
  },
  {
   "cell_type": "code",
   "execution_count": null,
   "id": "ultimate-belfast",
   "metadata": {},
   "outputs": [],
   "source": [
    "df.isna().sum()"
   ]
  },
  {
   "cell_type": "markdown",
   "id": "metric-spider",
   "metadata": {},
   "source": [
    "# 5. Reduce dataframe size"
   ]
  },
  {
   "cell_type": "code",
   "execution_count": null,
   "id": "recent-porter",
   "metadata": {},
   "outputs": [],
   "source": [
    "df[df.sentiment != 0].shape"
   ]
  },
  {
   "cell_type": "code",
   "execution_count": null,
   "id": "stuffed-skating",
   "metadata": {},
   "outputs": [],
   "source": [
    "df[df.sentiment == 0].shape"
   ]
  },
  {
   "cell_type": "code",
   "execution_count": null,
   "id": "resident-colonial",
   "metadata": {},
   "outputs": [],
   "source": [
    "df[df.sentiment != 0][:200000].shape"
   ]
  },
  {
   "cell_type": "code",
   "execution_count": null,
   "id": "turned-exemption",
   "metadata": {},
   "outputs": [],
   "source": [
    "df[df.sentiment == 0][:200000].shape"
   ]
  },
  {
   "cell_type": "code",
   "execution_count": null,
   "id": "continuing-brake",
   "metadata": {},
   "outputs": [],
   "source": [
    "reduced_df = pd.concat([df[df.sentiment != 0][740000:], df[df.sentiment == 0][740000:]])"
   ]
  },
  {
   "cell_type": "code",
   "execution_count": null,
   "id": "orange-upset",
   "metadata": {},
   "outputs": [],
   "source": [
    "reduced_df.shape"
   ]
  },
  {
   "cell_type": "code",
   "execution_count": null,
   "id": "alleged-wilson",
   "metadata": {},
   "outputs": [],
   "source": [
    "#df = reduced_df"
   ]
  },
  {
   "cell_type": "code",
   "execution_count": null,
   "id": "super-framing",
   "metadata": {},
   "outputs": [],
   "source": [
    "X = df['Snowball_Stem']"
   ]
  },
  {
   "cell_type": "code",
   "execution_count": null,
   "id": "center-bible",
   "metadata": {},
   "outputs": [],
   "source": [
    "Y = df['sentiment']"
   ]
  },
  {
   "cell_type": "code",
   "execution_count": null,
   "id": "solar-burlington",
   "metadata": {},
   "outputs": [],
   "source": [
    "X_train, X_test, y_train, y_test = train_test_split(X, Y)"
   ]
  },
  {
   "cell_type": "code",
   "execution_count": null,
   "id": "reserved-companion",
   "metadata": {},
   "outputs": [],
   "source": [
    "X_test.shape"
   ]
  },
  {
   "cell_type": "markdown",
   "id": "center-tolerance",
   "metadata": {},
   "source": [
    "## Loading the models"
   ]
  },
  {
   "cell_type": "code",
   "execution_count": null,
   "id": "authorized-concert",
   "metadata": {},
   "outputs": [],
   "source": [
    "svm_path = './SVM_UnigramBigram_75.pickle'\n",
    "nb_path = './NB_UnigramBigram_78.pickle'\n",
    "lstm_token_path = './LSTM_tokenizer.pickle'\n",
    "lstm_path = './LSTM_train_75_val_78_test_79_acc.h5'\n",
    "vectorizer_path = './UnigramBigram_vectorizer.pickle'\n",
    "Blstm_path ='./B_LSTM_train_76_26_val_77_86_test_78_57_acc.h5'\n",
    "blstm_token_path = './BLSTM_tokenizer.pickle'"
   ]
  },
  {
   "cell_type": "code",
   "execution_count": null,
   "id": "aquatic-lafayette",
   "metadata": {},
   "outputs": [],
   "source": [
    "svm = pickle.load(open(svm_path,'rb'))"
   ]
  },
  {
   "cell_type": "code",
   "execution_count": null,
   "id": "entire-credits",
   "metadata": {},
   "outputs": [],
   "source": [
    "nb = pickle.load(open(nb_path,'rb'))"
   ]
  },
  {
   "cell_type": "code",
   "execution_count": null,
   "id": "defined-reflection",
   "metadata": {},
   "outputs": [],
   "source": [
    "tokenizer = pickle.load(open(lstm_token_path,'rb'))"
   ]
  },
  {
   "cell_type": "code",
   "execution_count": null,
   "id": "animal-transmission",
   "metadata": {},
   "outputs": [],
   "source": [
    "lstm = keras.models.load_model(lstm_path)"
   ]
  },
  {
   "cell_type": "code",
   "execution_count": null,
   "id": "broadband-hearing",
   "metadata": {},
   "outputs": [],
   "source": [
    "token = pickle.load(open(blstm_token_path,'rb'))"
   ]
  },
  {
   "cell_type": "code",
   "execution_count": null,
   "id": "proprietary-tumor",
   "metadata": {},
   "outputs": [],
   "source": [
    "vectorizer = pickle.load(open(vectorizer_path,'rb'))"
   ]
  },
  {
   "cell_type": "code",
   "execution_count": null,
   "id": "designing-vault",
   "metadata": {},
   "outputs": [],
   "source": [
    "RF = pickle.load(open(RF_path,'rb'))"
   ]
  },
  {
   "cell_type": "code",
   "execution_count": null,
   "id": "narrow-spanking",
   "metadata": {},
   "outputs": [],
   "source": [
    "Blstm = keras.models.load_model(Blstm_path)"
   ]
  },
  {
   "cell_type": "markdown",
   "id": "shaped-pierre",
   "metadata": {},
   "source": [
    "# Encoding labels"
   ]
  },
  {
   "cell_type": "code",
   "execution_count": null,
   "id": "loaded-computer",
   "metadata": {},
   "outputs": [],
   "source": [
    "Encoder = LabelEncoder()\n",
    "y_test = Encoder.fit_transform(y_test)\n"
   ]
  },
  {
   "cell_type": "markdown",
   "id": "overhead-abortion",
   "metadata": {},
   "source": [
    "## Running the models"
   ]
  },
  {
   "cell_type": "code",
   "execution_count": null,
   "id": "interested-outdoors",
   "metadata": {},
   "outputs": [],
   "source": [
    "xtest = vectorizer.transform(X_test)"
   ]
  }
 ],
 "metadata": {
  "kernelspec": {
   "display_name": "Python 3",
   "language": "python",
   "name": "python3"
  },
  "language_info": {
   "codemirror_mode": {
    "name": "ipython",
    "version": 3
   },
   "file_extension": ".py",
   "mimetype": "text/x-python",
   "name": "python",
   "nbconvert_exporter": "python",
   "pygments_lexer": "ipython3",
   "version": "3.8.5"
  }
 },
 "nbformat": 4,
 "nbformat_minor": 5
}
